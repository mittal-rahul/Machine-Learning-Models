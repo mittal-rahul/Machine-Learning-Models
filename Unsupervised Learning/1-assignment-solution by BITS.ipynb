{
 "cells": [
  {
   "cell_type": "code",
   "execution_count": 1,
   "metadata": {},
   "outputs": [],
   "source": [
    "import pandas as pd"
   ]
  },
  {
   "cell_type": "code",
   "execution_count": 2,
   "metadata": {},
   "outputs": [],
   "source": [
    "data = pd.read_csv ('cricketers.csv',delimiter='\\t')"
   ]
  },
  {
   "cell_type": "code",
   "execution_count": 3,
   "metadata": {},
   "outputs": [
    {
     "data": {
      "text/html": [
       "<div>\n",
       "<style scoped>\n",
       "    .dataframe tbody tr th:only-of-type {\n",
       "        vertical-align: middle;\n",
       "    }\n",
       "\n",
       "    .dataframe tbody tr th {\n",
       "        vertical-align: top;\n",
       "    }\n",
       "\n",
       "    .dataframe thead th {\n",
       "        text-align: right;\n",
       "    }\n",
       "</style>\n",
       "<table border=\"1\" class=\"dataframe\">\n",
       "  <thead>\n",
       "    <tr style=\"text-align: right;\">\n",
       "      <th></th>\n",
       "      <th>matches_played</th>\n",
       "      <th>innings_batted</th>\n",
       "      <th>runs_scored</th>\n",
       "      <th>highest_runs</th>\n",
       "      <th>balls_faced</th>\n",
       "      <th>average_runs</th>\n",
       "      <th>strike_rate</th>\n",
       "      <th>innings_bowled</th>\n",
       "      <th>overs</th>\n",
       "      <th>runs_given</th>\n",
       "      <th>wickets_obtained</th>\n",
       "      <th>average_runs_per_wicket</th>\n",
       "      <th>bowling_economy</th>\n",
       "    </tr>\n",
       "  </thead>\n",
       "  <tbody>\n",
       "    <tr>\n",
       "      <th>count</th>\n",
       "      <td>109.000000</td>\n",
       "      <td>109.000000</td>\n",
       "      <td>109.000000</td>\n",
       "      <td>109.000000</td>\n",
       "      <td>109.000000</td>\n",
       "      <td>109.000000</td>\n",
       "      <td>109.000000</td>\n",
       "      <td>109.000000</td>\n",
       "      <td>109.000000</td>\n",
       "      <td>109.00000</td>\n",
       "      <td>109.000000</td>\n",
       "      <td>109.000000</td>\n",
       "      <td>109.000000</td>\n",
       "    </tr>\n",
       "    <tr>\n",
       "      <th>mean</th>\n",
       "      <td>9.559633</td>\n",
       "      <td>7.889908</td>\n",
       "      <td>173.633028</td>\n",
       "      <td>43.495413</td>\n",
       "      <td>124.669725</td>\n",
       "      <td>22.360092</td>\n",
       "      <td>122.258716</td>\n",
       "      <td>4.513761</td>\n",
       "      <td>13.894495</td>\n",
       "      <td>119.93578</td>\n",
       "      <td>3.926606</td>\n",
       "      <td>17.334862</td>\n",
       "      <td>5.149817</td>\n",
       "    </tr>\n",
       "    <tr>\n",
       "      <th>std</th>\n",
       "      <td>5.161164</td>\n",
       "      <td>4.982078</td>\n",
       "      <td>182.356522</td>\n",
       "      <td>29.830268</td>\n",
       "      <td>123.670265</td>\n",
       "      <td>16.093453</td>\n",
       "      <td>48.576709</td>\n",
       "      <td>5.449456</td>\n",
       "      <td>18.395495</td>\n",
       "      <td>152.80763</td>\n",
       "      <td>5.602094</td>\n",
       "      <td>21.910816</td>\n",
       "      <td>4.773435</td>\n",
       "    </tr>\n",
       "    <tr>\n",
       "      <th>min</th>\n",
       "      <td>0.000000</td>\n",
       "      <td>0.000000</td>\n",
       "      <td>0.000000</td>\n",
       "      <td>0.000000</td>\n",
       "      <td>0.000000</td>\n",
       "      <td>0.000000</td>\n",
       "      <td>0.000000</td>\n",
       "      <td>0.000000</td>\n",
       "      <td>0.000000</td>\n",
       "      <td>0.00000</td>\n",
       "      <td>0.000000</td>\n",
       "      <td>0.000000</td>\n",
       "      <td>0.000000</td>\n",
       "    </tr>\n",
       "    <tr>\n",
       "      <th>25%</th>\n",
       "      <td>5.000000</td>\n",
       "      <td>4.000000</td>\n",
       "      <td>36.000000</td>\n",
       "      <td>20.000000</td>\n",
       "      <td>33.000000</td>\n",
       "      <td>11.800000</td>\n",
       "      <td>109.090000</td>\n",
       "      <td>0.000000</td>\n",
       "      <td>0.000000</td>\n",
       "      <td>0.00000</td>\n",
       "      <td>0.000000</td>\n",
       "      <td>0.000000</td>\n",
       "      <td>0.000000</td>\n",
       "    </tr>\n",
       "    <tr>\n",
       "      <th>50%</th>\n",
       "      <td>10.000000</td>\n",
       "      <td>7.000000</td>\n",
       "      <td>99.000000</td>\n",
       "      <td>40.000000</td>\n",
       "      <td>76.000000</td>\n",
       "      <td>21.160000</td>\n",
       "      <td>130.260000</td>\n",
       "      <td>2.000000</td>\n",
       "      <td>3.000000</td>\n",
       "      <td>27.00000</td>\n",
       "      <td>0.000000</td>\n",
       "      <td>0.000000</td>\n",
       "      <td>7.280000</td>\n",
       "    </tr>\n",
       "    <tr>\n",
       "      <th>75%</th>\n",
       "      <td>14.000000</td>\n",
       "      <td>13.000000</td>\n",
       "      <td>260.000000</td>\n",
       "      <td>62.000000</td>\n",
       "      <td>188.000000</td>\n",
       "      <td>30.000000</td>\n",
       "      <td>146.040000</td>\n",
       "      <td>8.000000</td>\n",
       "      <td>26.000000</td>\n",
       "      <td>223.00000</td>\n",
       "      <td>6.000000</td>\n",
       "      <td>28.360000</td>\n",
       "      <td>9.230000</td>\n",
       "    </tr>\n",
       "    <tr>\n",
       "      <th>max</th>\n",
       "      <td>17.000000</td>\n",
       "      <td>17.000000</td>\n",
       "      <td>735.000000</td>\n",
       "      <td>128.000000</td>\n",
       "      <td>516.000000</td>\n",
       "      <td>75.830000</td>\n",
       "      <td>300.000000</td>\n",
       "      <td>17.000000</td>\n",
       "      <td>68.000000</td>\n",
       "      <td>533.00000</td>\n",
       "      <td>24.000000</td>\n",
       "      <td>108.000000</td>\n",
       "      <td>16.500000</td>\n",
       "    </tr>\n",
       "  </tbody>\n",
       "</table>\n",
       "</div>"
      ],
      "text/plain": [
       "       matches_played  innings_batted  runs_scored  highest_runs  balls_faced  \\\n",
       "count      109.000000      109.000000   109.000000    109.000000   109.000000   \n",
       "mean         9.559633        7.889908   173.633028     43.495413   124.669725   \n",
       "std          5.161164        4.982078   182.356522     29.830268   123.670265   \n",
       "min          0.000000        0.000000     0.000000      0.000000     0.000000   \n",
       "25%          5.000000        4.000000    36.000000     20.000000    33.000000   \n",
       "50%         10.000000        7.000000    99.000000     40.000000    76.000000   \n",
       "75%         14.000000       13.000000   260.000000     62.000000   188.000000   \n",
       "max         17.000000       17.000000   735.000000    128.000000   516.000000   \n",
       "\n",
       "       average_runs  strike_rate  innings_bowled       overs  runs_given  \\\n",
       "count    109.000000   109.000000      109.000000  109.000000   109.00000   \n",
       "mean      22.360092   122.258716        4.513761   13.894495   119.93578   \n",
       "std       16.093453    48.576709        5.449456   18.395495   152.80763   \n",
       "min        0.000000     0.000000        0.000000    0.000000     0.00000   \n",
       "25%       11.800000   109.090000        0.000000    0.000000     0.00000   \n",
       "50%       21.160000   130.260000        2.000000    3.000000    27.00000   \n",
       "75%       30.000000   146.040000        8.000000   26.000000   223.00000   \n",
       "max       75.830000   300.000000       17.000000   68.000000   533.00000   \n",
       "\n",
       "       wickets_obtained  average_runs_per_wicket   bowling_economy   \n",
       "count        109.000000                109.000000        109.000000  \n",
       "mean           3.926606                 17.334862          5.149817  \n",
       "std            5.602094                 21.910816          4.773435  \n",
       "min            0.000000                  0.000000          0.000000  \n",
       "25%            0.000000                  0.000000          0.000000  \n",
       "50%            0.000000                  0.000000          7.280000  \n",
       "75%            6.000000                 28.360000          9.230000  \n",
       "max           24.000000                108.000000         16.500000  "
      ]
     },
     "execution_count": 3,
     "metadata": {},
     "output_type": "execute_result"
    }
   ],
   "source": [
    "data.describe()"
   ]
  },
  {
   "cell_type": "markdown",
   "metadata": {},
   "source": [
    "#1 Feature Scaling [2 points]"
   ]
  },
  {
   "cell_type": "code",
   "execution_count": 4,
   "metadata": {},
   "outputs": [],
   "source": [
    "from sklearn.preprocessing import MinMaxScaler"
   ]
  },
  {
   "cell_type": "code",
   "execution_count": 5,
   "metadata": {},
   "outputs": [],
   "source": [
    "min_max_scaler = MinMaxScaler()"
   ]
  },
  {
   "cell_type": "code",
   "execution_count": 6,
   "metadata": {},
   "outputs": [],
   "source": [
    "data_scaled = min_max_scaler.fit_transform(data.iloc[:,1:])"
   ]
  },
  {
   "cell_type": "code",
   "execution_count": 7,
   "metadata": {},
   "outputs": [],
   "source": [
    "data_final = pd.DataFrame.from_records(data_scaled)"
   ]
  },
  {
   "cell_type": "code",
   "execution_count": 8,
   "metadata": {},
   "outputs": [
    {
     "data": {
      "text/html": [
       "<div>\n",
       "<style scoped>\n",
       "    .dataframe tbody tr th:only-of-type {\n",
       "        vertical-align: middle;\n",
       "    }\n",
       "\n",
       "    .dataframe tbody tr th {\n",
       "        vertical-align: top;\n",
       "    }\n",
       "\n",
       "    .dataframe thead th {\n",
       "        text-align: right;\n",
       "    }\n",
       "</style>\n",
       "<table border=\"1\" class=\"dataframe\">\n",
       "  <thead>\n",
       "    <tr style=\"text-align: right;\">\n",
       "      <th></th>\n",
       "      <th>0</th>\n",
       "      <th>1</th>\n",
       "      <th>2</th>\n",
       "      <th>3</th>\n",
       "      <th>4</th>\n",
       "      <th>5</th>\n",
       "      <th>6</th>\n",
       "      <th>7</th>\n",
       "      <th>8</th>\n",
       "      <th>9</th>\n",
       "      <th>10</th>\n",
       "      <th>11</th>\n",
       "      <th>12</th>\n",
       "    </tr>\n",
       "  </thead>\n",
       "  <tbody>\n",
       "    <tr>\n",
       "      <th>count</th>\n",
       "      <td>109.000000</td>\n",
       "      <td>109.000000</td>\n",
       "      <td>109.000000</td>\n",
       "      <td>109.000000</td>\n",
       "      <td>109.000000</td>\n",
       "      <td>109.000000</td>\n",
       "      <td>109.000000</td>\n",
       "      <td>109.000000</td>\n",
       "      <td>109.000000</td>\n",
       "      <td>109.000000</td>\n",
       "      <td>109.000000</td>\n",
       "      <td>109.000000</td>\n",
       "      <td>109.000000</td>\n",
       "    </tr>\n",
       "    <tr>\n",
       "      <th>mean</th>\n",
       "      <td>0.562331</td>\n",
       "      <td>0.464112</td>\n",
       "      <td>0.236235</td>\n",
       "      <td>0.339808</td>\n",
       "      <td>0.241608</td>\n",
       "      <td>0.294871</td>\n",
       "      <td>0.407529</td>\n",
       "      <td>0.265515</td>\n",
       "      <td>0.204331</td>\n",
       "      <td>0.225020</td>\n",
       "      <td>0.163609</td>\n",
       "      <td>0.160508</td>\n",
       "      <td>0.312110</td>\n",
       "    </tr>\n",
       "    <tr>\n",
       "      <th>std</th>\n",
       "      <td>0.303598</td>\n",
       "      <td>0.293063</td>\n",
       "      <td>0.248104</td>\n",
       "      <td>0.233049</td>\n",
       "      <td>0.239671</td>\n",
       "      <td>0.212231</td>\n",
       "      <td>0.161922</td>\n",
       "      <td>0.320556</td>\n",
       "      <td>0.270522</td>\n",
       "      <td>0.286693</td>\n",
       "      <td>0.233421</td>\n",
       "      <td>0.202878</td>\n",
       "      <td>0.289299</td>\n",
       "    </tr>\n",
       "    <tr>\n",
       "      <th>min</th>\n",
       "      <td>0.000000</td>\n",
       "      <td>0.000000</td>\n",
       "      <td>0.000000</td>\n",
       "      <td>0.000000</td>\n",
       "      <td>0.000000</td>\n",
       "      <td>0.000000</td>\n",
       "      <td>0.000000</td>\n",
       "      <td>0.000000</td>\n",
       "      <td>0.000000</td>\n",
       "      <td>0.000000</td>\n",
       "      <td>0.000000</td>\n",
       "      <td>0.000000</td>\n",
       "      <td>0.000000</td>\n",
       "    </tr>\n",
       "    <tr>\n",
       "      <th>25%</th>\n",
       "      <td>0.294118</td>\n",
       "      <td>0.235294</td>\n",
       "      <td>0.048980</td>\n",
       "      <td>0.156250</td>\n",
       "      <td>0.063953</td>\n",
       "      <td>0.155611</td>\n",
       "      <td>0.363633</td>\n",
       "      <td>0.000000</td>\n",
       "      <td>0.000000</td>\n",
       "      <td>0.000000</td>\n",
       "      <td>0.000000</td>\n",
       "      <td>0.000000</td>\n",
       "      <td>0.000000</td>\n",
       "    </tr>\n",
       "    <tr>\n",
       "      <th>50%</th>\n",
       "      <td>0.588235</td>\n",
       "      <td>0.411765</td>\n",
       "      <td>0.134694</td>\n",
       "      <td>0.312500</td>\n",
       "      <td>0.147287</td>\n",
       "      <td>0.279045</td>\n",
       "      <td>0.434200</td>\n",
       "      <td>0.117647</td>\n",
       "      <td>0.044118</td>\n",
       "      <td>0.050657</td>\n",
       "      <td>0.000000</td>\n",
       "      <td>0.000000</td>\n",
       "      <td>0.441212</td>\n",
       "    </tr>\n",
       "    <tr>\n",
       "      <th>75%</th>\n",
       "      <td>0.823529</td>\n",
       "      <td>0.764706</td>\n",
       "      <td>0.353741</td>\n",
       "      <td>0.484375</td>\n",
       "      <td>0.364341</td>\n",
       "      <td>0.395622</td>\n",
       "      <td>0.486800</td>\n",
       "      <td>0.470588</td>\n",
       "      <td>0.382353</td>\n",
       "      <td>0.418386</td>\n",
       "      <td>0.250000</td>\n",
       "      <td>0.262593</td>\n",
       "      <td>0.559394</td>\n",
       "    </tr>\n",
       "    <tr>\n",
       "      <th>max</th>\n",
       "      <td>1.000000</td>\n",
       "      <td>1.000000</td>\n",
       "      <td>1.000000</td>\n",
       "      <td>1.000000</td>\n",
       "      <td>1.000000</td>\n",
       "      <td>1.000000</td>\n",
       "      <td>1.000000</td>\n",
       "      <td>1.000000</td>\n",
       "      <td>1.000000</td>\n",
       "      <td>1.000000</td>\n",
       "      <td>1.000000</td>\n",
       "      <td>1.000000</td>\n",
       "      <td>1.000000</td>\n",
       "    </tr>\n",
       "  </tbody>\n",
       "</table>\n",
       "</div>"
      ],
      "text/plain": [
       "               0           1           2           3           4           5   \\\n",
       "count  109.000000  109.000000  109.000000  109.000000  109.000000  109.000000   \n",
       "mean     0.562331    0.464112    0.236235    0.339808    0.241608    0.294871   \n",
       "std      0.303598    0.293063    0.248104    0.233049    0.239671    0.212231   \n",
       "min      0.000000    0.000000    0.000000    0.000000    0.000000    0.000000   \n",
       "25%      0.294118    0.235294    0.048980    0.156250    0.063953    0.155611   \n",
       "50%      0.588235    0.411765    0.134694    0.312500    0.147287    0.279045   \n",
       "75%      0.823529    0.764706    0.353741    0.484375    0.364341    0.395622   \n",
       "max      1.000000    1.000000    1.000000    1.000000    1.000000    1.000000   \n",
       "\n",
       "               6           7           8           9           10          11  \\\n",
       "count  109.000000  109.000000  109.000000  109.000000  109.000000  109.000000   \n",
       "mean     0.407529    0.265515    0.204331    0.225020    0.163609    0.160508   \n",
       "std      0.161922    0.320556    0.270522    0.286693    0.233421    0.202878   \n",
       "min      0.000000    0.000000    0.000000    0.000000    0.000000    0.000000   \n",
       "25%      0.363633    0.000000    0.000000    0.000000    0.000000    0.000000   \n",
       "50%      0.434200    0.117647    0.044118    0.050657    0.000000    0.000000   \n",
       "75%      0.486800    0.470588    0.382353    0.418386    0.250000    0.262593   \n",
       "max      1.000000    1.000000    1.000000    1.000000    1.000000    1.000000   \n",
       "\n",
       "               12  \n",
       "count  109.000000  \n",
       "mean     0.312110  \n",
       "std      0.289299  \n",
       "min      0.000000  \n",
       "25%      0.000000  \n",
       "50%      0.441212  \n",
       "75%      0.559394  \n",
       "max      1.000000  "
      ]
     },
     "execution_count": 8,
     "metadata": {},
     "output_type": "execute_result"
    }
   ],
   "source": [
    "data_final.describe()"
   ]
  },
  {
   "cell_type": "markdown",
   "metadata": {},
   "source": [
    "#2 Run K-means from scratch using attributes using average_runs and bowling_economy [3 points]"
   ]
  },
  {
   "cell_type": "code",
   "execution_count": 9,
   "metadata": {},
   "outputs": [],
   "source": [
    "X = data_final.iloc[:, [5, 12]].values  #Filter desired attributes"
   ]
  },
  {
   "cell_type": "code",
   "execution_count": 10,
   "metadata": {},
   "outputs": [
    {
     "data": {
      "text/plain": [
       "(109, 2)"
      ]
     },
     "execution_count": 10,
     "metadata": {},
     "output_type": "execute_result"
    }
   ],
   "source": [
    "X.shape"
   ]
  },
  {
   "cell_type": "code",
   "execution_count": 11,
   "metadata": {},
   "outputs": [],
   "source": [
    "class K_Means:\n",
    "    def __init__(self, k=2, tol=0.001, max_iter=300):\n",
    "        self.k = k\n",
    "        self.tolerance = tol\n",
    "        self.max_iters = max_iter\n",
    "\n",
    "    def fit(self,data):\n",
    "\n",
    "        self.centroids = {}\n",
    "\n",
    "        for i in range(self.k):\n",
    "            self.centroids[i] = data[i]\n",
    "\n",
    "        for i in range(self.max_iters):\n",
    "            self.classifications = {}\n",
    "\n",
    "            for i in range(self.k):\n",
    "                self.classifications[i] = []\n",
    "\n",
    "            for featureset in X:\n",
    "                distances = [np.linalg.norm(featureset-self.centroids[centroid]) for centroid in self.centroids]\n",
    "                classification = distances.index(min(distances))\n",
    "                self.classifications[classification].append(featureset)\n",
    "\n",
    "            prev_centroids = dict(self.centroids)\n",
    "\n",
    "            for classification in self.classifications:\n",
    "                self.centroids[classification] = np.average(self.classifications[classification],axis=0)\n",
    "\n",
    "            optimized = True\n",
    "\n",
    "            for c in self.centroids:\n",
    "                original_centroid = prev_centroids[c]\n",
    "                current_centroid = self.centroids[c]\n",
    "                if np.sum((current_centroid-original_centroid)/original_centroid*100.0) > self.tolerance:\n",
    "                    #print('info', np.sum((current_centroid-original_centroid)/original_centroid*100.0))\n",
    "                    optimized = False\n",
    "\n",
    "            if optimized:\n",
    "                break\n",
    "\n",
    "    def predict(self,samples):\n",
    "        classification = []\n",
    "        for data in samples :\n",
    "            distances = [np.linalg.norm(data-self.centroids[centroid]) for centroid in self.centroids]\n",
    "            classification.append(distances.index(min(distances)))\n",
    "        return classification\n",
    "    \n",
    "    def getCentroids(self) :\n",
    "        return np.array(list(self.centroids.values()))"
   ]
  },
  {
   "cell_type": "code",
   "execution_count": 12,
   "metadata": {},
   "outputs": [],
   "source": [
    "import matplotlib.pyplot as plt\n",
    "import numpy as np"
   ]
  },
  {
   "cell_type": "code",
   "execution_count": 13,
   "metadata": {},
   "outputs": [],
   "source": [
    "def displayClusters(K) :\n",
    "    kmeans = K_Means(k=K)\n",
    "    kmeans.fit(X)\n",
    "    cluster = kmeans.predict(X)\n",
    "    #print(kmeans.getCentroids())\n",
    "    plt.scatter( X[:,0],X[:,1],c=cluster,cmap='rainbow')\n",
    "    plt.scatter(kmeans.getCentroids()[:,0], kmeans.getCentroids()[:,1], color='black')\n",
    "    plt.xlabel('Average Runs Scored')\n",
    "    plt.ylabel('Bowling Economy')\n",
    "    plt.title('Clustring with Cluster Size K ='+ str(K))"
   ]
  },
  {
   "cell_type": "code",
   "execution_count": 14,
   "metadata": {},
   "outputs": [
    {
     "name": "stderr",
     "output_type": "stream",
     "text": [
      "C:\\Users\\risha\\Anaconda3\\lib\\site-packages\\ipykernel_launcher.py:35: RuntimeWarning: divide by zero encountered in true_divide\n",
      "C:\\Users\\risha\\Anaconda3\\lib\\site-packages\\ipykernel_launcher.py:35: RuntimeWarning: invalid value encountered in true_divide\n"
     ]
    },
    {
     "data": {
      "image/png": "[encoded data removed]",
      "text/plain": [
       "<Figure size 432x288 with 1 Axes>"
      ]
     },
     "metadata": {
      "needs_background": "light"
     },
     "output_type": "display_data"
    }
   ],
   "source": [
    "displayClusters (2)"
   ]
  },
  {
   "cell_type": "markdown",
   "metadata": {},
   "source": [
    "#3 Run K-means for different values of K=2,3,4,5 [3 points]"
   ]
  },
  {
   "cell_type": "markdown",
   "metadata": {},
   "source": [
    "Visually speaking, both cases when K=4 or K=5, clusters looks good because their centroid has converged in the middle of cluster points. The same can't be said for K=3 scenario."
   ]
  },
  {
   "cell_type": "code",
   "execution_count": 15,
   "metadata": {},
   "outputs": [
    {
     "name": "stderr",
     "output_type": "stream",
     "text": [
      "C:\\Users\\risha\\Anaconda3\\lib\\site-packages\\ipykernel_launcher.py:35: RuntimeWarning: divide by zero encountered in true_divide\n",
      "C:\\Users\\risha\\Anaconda3\\lib\\site-packages\\ipykernel_launcher.py:35: RuntimeWarning: invalid value encountered in true_divide\n"
     ]
    },
    {
     "data": {
      "image/png": "[encoded data removed]",
      "text/plain": [
       "<Figure size 432x288 with 1 Axes>"
      ]
     },
     "metadata": {
      "needs_background": "light"
     },
     "output_type": "display_data"
    }
   ],
   "source": [
    "displayClusters (3)"
   ]
  },
  {
   "cell_type": "code",
   "execution_count": 16,
   "metadata": {},
   "outputs": [
    {
     "name": "stderr",
     "output_type": "stream",
     "text": [
      "C:\\Users\\risha\\Anaconda3\\lib\\site-packages\\ipykernel_launcher.py:35: RuntimeWarning: divide by zero encountered in true_divide\n",
      "C:\\Users\\risha\\Anaconda3\\lib\\site-packages\\ipykernel_launcher.py:35: RuntimeWarning: invalid value encountered in true_divide\n"
     ]
    },
    {
     "data": {
      "image/png": "[encoded data removed]",
      "text/plain": [
       "<Figure size 432x288 with 1 Axes>"
      ]
     },
     "metadata": {
      "needs_background": "light"
     },
     "output_type": "display_data"
    }
   ],
   "source": [
    "displayClusters (4)"
   ]
  },
  {
   "cell_type": "code",
   "execution_count": 17,
   "metadata": {},
   "outputs": [
    {
     "name": "stderr",
     "output_type": "stream",
     "text": [
      "C:\\Users\\risha\\Anaconda3\\lib\\site-packages\\ipykernel_launcher.py:35: RuntimeWarning: divide by zero encountered in true_divide\n",
      "C:\\Users\\risha\\Anaconda3\\lib\\site-packages\\ipykernel_launcher.py:35: RuntimeWarning: invalid value encountered in true_divide\n"
     ]
    },
    {
     "data": {
      "image/png": "[encoded data removed]",
      "text/plain": [
       "<Figure size 432x288 with 1 Axes>"
      ]
     },
     "metadata": {
      "needs_background": "light"
     },
     "output_type": "display_data"
    }
   ],
   "source": [
    "displayClusters (5)"
   ]
  },
  {
   "cell_type": "markdown",
   "metadata": {},
   "source": [
    "#4 Interpretation of clusters [2 points]"
   ]
  },
  {
   "cell_type": "markdown",
   "metadata": {},
   "source": [
    "For K=5, we can interpret five clusters as:-\n",
    "a) Batsmen who has low to moderate average runs (orange)\n",
    "b) Batsmen who has good average runs (blue)\n",
    "c) Bowlers who can't bat (purple)\n",
    "d) Bowlers who can bat moderately (red)\n",
    "e) Bowlers who can bat very well (green)"
   ]
  }
 ],
 "metadata": {
  "kernelspec": {
   "display_name": "Python 3",
   "language": "python",
   "name": "python3"
  },
  "language_info": {
   "codemirror_mode": {
    "name": "ipython",
    "version": 3
   },
   "file_extension": ".py",
   "mimetype": "text/x-python",
   "name": "python",
   "nbconvert_exporter": "python",
   "pygments_lexer": "ipython3",
   "version": "3.7.3"
  }
 },
 "nbformat": 4,
 "nbformat_minor": 2
}
