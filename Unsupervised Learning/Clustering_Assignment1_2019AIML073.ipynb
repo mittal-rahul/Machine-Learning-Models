{
 "cells": [
  {
   "cell_type": "code",
   "execution_count": 1,
   "metadata": {},
   "outputs": [],
   "source": [
    "import matplotlib.pyplot as plt\n",
    "%matplotlib inline\n",
    "import numpy as np\n",
    "import pandas as pd\n",
    "from sklearn.metrics.pairwise import pairwise_distances_argmin\n",
    "from sklearn.datasets.samples_generator import make_blobs"
   ]
  },
  {
   "cell_type": "code",
   "execution_count": 2,
   "metadata": {},
   "outputs": [],
   "source": [
    "Data=pd.read_csv('cricketers.csv')"
   ]
  },
  {
   "cell_type": "code",
   "execution_count": 3,
   "metadata": {},
   "outputs": [
    {
     "data": {
      "text/html": [
       "<div>\n",
       "<style scoped>\n",
       "    .dataframe tbody tr th:only-of-type {\n",
       "        vertical-align: middle;\n",
       "    }\n",
       "\n",
       "    .dataframe tbody tr th {\n",
       "        vertical-align: top;\n",
       "    }\n",
       "\n",
       "    .dataframe thead th {\n",
       "        text-align: right;\n",
       "    }\n",
       "</style>\n",
       "<table border=\"1\" class=\"dataframe\">\n",
       "  <thead>\n",
       "    <tr style=\"text-align: right;\">\n",
       "      <th></th>\n",
       "      <th>PLAYER\tmatches_played\tinnings_batted\truns_scored\thighest_runs\tballs_faced\taverage_runs\tstrike_rate\tinnings_bowled\tovers\truns_given\twickets_obtained\taverage_runs_per_wicket \tbowling_economy</th>\n",
       "    </tr>\n",
       "  </thead>\n",
       "  <tbody>\n",
       "    <tr>\n",
       "      <th>0</th>\n",
       "      <td>Aaron Finch\\t10\\t9\\t134\\t46\\t100\\t16.75\\t144\\t...</td>\n",
       "    </tr>\n",
       "    <tr>\n",
       "      <th>1</th>\n",
       "      <td>AB de Villiers\\t12\\t11\\t480\\t90\\t275\\t53.33\\t1...</td>\n",
       "    </tr>\n",
       "    <tr>\n",
       "      <th>2</th>\n",
       "      <td>Abhishek Sharma\\t3\\t3\\t63\\t46\\t33\\t63\\t190.9\\t...</td>\n",
       "    </tr>\n",
       "    <tr>\n",
       "      <th>3</th>\n",
       "      <td>Ajinkya Rahane\\t15\\t14\\t370\\t65\\t313\\t28.46\\t1...</td>\n",
       "    </tr>\n",
       "    <tr>\n",
       "      <th>4</th>\n",
       "      <td>Alex Hales\\t6\\t6\\t148\\t45\\t118\\t24.66\\t125.42\\...</td>\n",
       "    </tr>\n",
       "  </tbody>\n",
       "</table>\n",
       "</div>"
      ],
      "text/plain": [
       "  PLAYER\\tmatches_played\\tinnings_batted\\truns_scored\\thighest_runs\\tballs_faced\\taverage_runs\\tstrike_rate\\tinnings_bowled\\tovers\\truns_given\\twickets_obtained\\taverage_runs_per_wicket \\tbowling_economy \n",
       "0  Aaron Finch\\t10\\t9\\t134\\t46\\t100\\t16.75\\t144\\t...                                                                                                                                                        \n",
       "1  AB de Villiers\\t12\\t11\\t480\\t90\\t275\\t53.33\\t1...                                                                                                                                                        \n",
       "2  Abhishek Sharma\\t3\\t3\\t63\\t46\\t33\\t63\\t190.9\\t...                                                                                                                                                        \n",
       "3  Ajinkya Rahane\\t15\\t14\\t370\\t65\\t313\\t28.46\\t1...                                                                                                                                                        \n",
       "4  Alex Hales\\t6\\t6\\t148\\t45\\t118\\t24.66\\t125.42\\...                                                                                                                                                        "
      ]
     },
     "execution_count": 3,
     "metadata": {},
     "output_type": "execute_result"
    }
   ],
   "source": [
    "Data.head()"
   ]
  },
  {
   "cell_type": "code",
   "execution_count": 4,
   "metadata": {},
   "outputs": [],
   "source": [
    "new = Data.iloc[:,0].str.split(\"\\t\", n = 13, expand = True)"
   ]
  },
  {
   "cell_type": "code",
   "execution_count": 5,
   "metadata": {},
   "outputs": [
    {
     "data": {
      "text/html": [
       "<div>\n",
       "<style scoped>\n",
       "    .dataframe tbody tr th:only-of-type {\n",
       "        vertical-align: middle;\n",
       "    }\n",
       "\n",
       "    .dataframe tbody tr th {\n",
       "        vertical-align: top;\n",
       "    }\n",
       "\n",
       "    .dataframe thead th {\n",
       "        text-align: right;\n",
       "    }\n",
       "</style>\n",
       "<table border=\"1\" class=\"dataframe\">\n",
       "  <thead>\n",
       "    <tr style=\"text-align: right;\">\n",
       "      <th></th>\n",
       "      <th>0</th>\n",
       "      <th>1</th>\n",
       "      <th>2</th>\n",
       "      <th>3</th>\n",
       "      <th>4</th>\n",
       "      <th>5</th>\n",
       "      <th>6</th>\n",
       "      <th>7</th>\n",
       "      <th>8</th>\n",
       "      <th>9</th>\n",
       "      <th>10</th>\n",
       "      <th>11</th>\n",
       "      <th>12</th>\n",
       "      <th>13</th>\n",
       "    </tr>\n",
       "  </thead>\n",
       "  <tbody>\n",
       "    <tr>\n",
       "      <th>0</th>\n",
       "      <td>Aaron Finch</td>\n",
       "      <td>10</td>\n",
       "      <td>9</td>\n",
       "      <td>134</td>\n",
       "      <td>46</td>\n",
       "      <td>100</td>\n",
       "      <td>16.75</td>\n",
       "      <td>144</td>\n",
       "      <td>0</td>\n",
       "      <td>0</td>\n",
       "      <td>0</td>\n",
       "      <td>0</td>\n",
       "      <td>0</td>\n",
       "      <td>0</td>\n",
       "    </tr>\n",
       "    <tr>\n",
       "      <th>1</th>\n",
       "      <td>AB de Villiers</td>\n",
       "      <td>12</td>\n",
       "      <td>11</td>\n",
       "      <td>480</td>\n",
       "      <td>90</td>\n",
       "      <td>275</td>\n",
       "      <td>53.33</td>\n",
       "      <td>174.54</td>\n",
       "      <td>0</td>\n",
       "      <td>0</td>\n",
       "      <td>0</td>\n",
       "      <td>0</td>\n",
       "      <td>0</td>\n",
       "      <td>0</td>\n",
       "    </tr>\n",
       "    <tr>\n",
       "      <th>2</th>\n",
       "      <td>Abhishek Sharma</td>\n",
       "      <td>3</td>\n",
       "      <td>3</td>\n",
       "      <td>63</td>\n",
       "      <td>46</td>\n",
       "      <td>33</td>\n",
       "      <td>63</td>\n",
       "      <td>190.9</td>\n",
       "      <td>0</td>\n",
       "      <td>0</td>\n",
       "      <td>0</td>\n",
       "      <td>0</td>\n",
       "      <td>0</td>\n",
       "      <td>0</td>\n",
       "    </tr>\n",
       "    <tr>\n",
       "      <th>3</th>\n",
       "      <td>Ajinkya Rahane</td>\n",
       "      <td>15</td>\n",
       "      <td>14</td>\n",
       "      <td>370</td>\n",
       "      <td>65</td>\n",
       "      <td>313</td>\n",
       "      <td>28.46</td>\n",
       "      <td>118.21</td>\n",
       "      <td>0</td>\n",
       "      <td>0</td>\n",
       "      <td>0</td>\n",
       "      <td>0</td>\n",
       "      <td>0</td>\n",
       "      <td>0</td>\n",
       "    </tr>\n",
       "    <tr>\n",
       "      <th>4</th>\n",
       "      <td>Alex Hales</td>\n",
       "      <td>6</td>\n",
       "      <td>6</td>\n",
       "      <td>148</td>\n",
       "      <td>45</td>\n",
       "      <td>118</td>\n",
       "      <td>24.66</td>\n",
       "      <td>125.42</td>\n",
       "      <td>0</td>\n",
       "      <td>0</td>\n",
       "      <td>0</td>\n",
       "      <td>0</td>\n",
       "      <td>0</td>\n",
       "      <td>0</td>\n",
       "    </tr>\n",
       "  </tbody>\n",
       "</table>\n",
       "</div>"
      ],
      "text/plain": [
       "                0   1   2    3   4    5      6       7  8  9  10 11 12 13\n",
       "0      Aaron Finch  10   9  134  46  100  16.75     144  0  0  0  0  0  0\n",
       "1   AB de Villiers  12  11  480  90  275  53.33  174.54  0  0  0  0  0  0\n",
       "2  Abhishek Sharma   3   3   63  46   33     63   190.9  0  0  0  0  0  0\n",
       "3   Ajinkya Rahane  15  14  370  65  313  28.46  118.21  0  0  0  0  0  0\n",
       "4       Alex Hales   6   6  148  45  118  24.66  125.42  0  0  0  0  0  0"
      ]
     },
     "execution_count": 5,
     "metadata": {},
     "output_type": "execute_result"
    }
   ],
   "source": [
    "new.head()"
   ]
  },
  {
   "cell_type": "code",
   "execution_count": 6,
   "metadata": {},
   "outputs": [],
   "source": [
    "NewData = pd.DataFrame(columns = ['PLAYER','matches_played','innings_batted','runs_scored','highest_runs','balls_faced',\n",
    "                            'average_runs','strike_rate','innings_bowled','overs','runs_given','wickets_obtained',\n",
    "                            'average_runs_per_wicket','bowling_economy'])\n",
    "NewData[\"PLAYER\"] = new.iloc[:,0]\n",
    "NewData[\"matches_played\"] = new.iloc[:,1]\n",
    "NewData[\"innings_batted\"] = new.iloc[:,2]\n",
    "NewData[\"runs_scored\"] = new.iloc[:,3]\n",
    "NewData[\"highest_runs\"] = new.iloc[:,4]\n",
    "NewData[\"balls_faced\"] = new.iloc[:,5]\n",
    "NewData[\"average_runs\"] = new.iloc[:,6]\n",
    "NewData[\"strike_rate\"] = new.iloc[:,7]\n",
    "NewData[\"innings_bowled\"] = new.iloc[:,8]\n",
    "NewData[\"overs\"] = new.iloc[:,9]\n",
    "NewData[\"runs_given\"] = new.iloc[:,10]\n",
    "NewData[\"wickets_obtained\"] = new.iloc[:,11]\n",
    "NewData[\"average_runs_per_wicket\"] = new.iloc[:,12]\n",
    "NewData[\"bowling_economy\"] = new.iloc[:,13]"
   ]
  },
  {
   "cell_type": "code",
   "execution_count": 7,
   "metadata": {},
   "outputs": [
    {
     "data": {
      "text/html": [
       "<div>\n",
       "<style scoped>\n",
       "    .dataframe tbody tr th:only-of-type {\n",
       "        vertical-align: middle;\n",
       "    }\n",
       "\n",
       "    .dataframe tbody tr th {\n",
       "        vertical-align: top;\n",
       "    }\n",
       "\n",
       "    .dataframe thead th {\n",
       "        text-align: right;\n",
       "    }\n",
       "</style>\n",
       "<table border=\"1\" class=\"dataframe\">\n",
       "  <thead>\n",
       "    <tr style=\"text-align: right;\">\n",
       "      <th></th>\n",
       "      <th>PLAYER</th>\n",
       "      <th>matches_played</th>\n",
       "      <th>innings_batted</th>\n",
       "      <th>runs_scored</th>\n",
       "      <th>highest_runs</th>\n",
       "      <th>balls_faced</th>\n",
       "      <th>average_runs</th>\n",
       "      <th>strike_rate</th>\n",
       "      <th>innings_bowled</th>\n",
       "      <th>overs</th>\n",
       "      <th>runs_given</th>\n",
       "      <th>wickets_obtained</th>\n",
       "      <th>average_runs_per_wicket</th>\n",
       "      <th>bowling_economy</th>\n",
       "    </tr>\n",
       "  </thead>\n",
       "  <tbody>\n",
       "    <tr>\n",
       "      <th>0</th>\n",
       "      <td>Aaron Finch</td>\n",
       "      <td>10</td>\n",
       "      <td>9</td>\n",
       "      <td>134</td>\n",
       "      <td>46</td>\n",
       "      <td>100</td>\n",
       "      <td>16.75</td>\n",
       "      <td>144</td>\n",
       "      <td>0</td>\n",
       "      <td>0</td>\n",
       "      <td>0</td>\n",
       "      <td>0</td>\n",
       "      <td>0</td>\n",
       "      <td>0</td>\n",
       "    </tr>\n",
       "    <tr>\n",
       "      <th>1</th>\n",
       "      <td>AB de Villiers</td>\n",
       "      <td>12</td>\n",
       "      <td>11</td>\n",
       "      <td>480</td>\n",
       "      <td>90</td>\n",
       "      <td>275</td>\n",
       "      <td>53.33</td>\n",
       "      <td>174.54</td>\n",
       "      <td>0</td>\n",
       "      <td>0</td>\n",
       "      <td>0</td>\n",
       "      <td>0</td>\n",
       "      <td>0</td>\n",
       "      <td>0</td>\n",
       "    </tr>\n",
       "    <tr>\n",
       "      <th>2</th>\n",
       "      <td>Abhishek Sharma</td>\n",
       "      <td>3</td>\n",
       "      <td>3</td>\n",
       "      <td>63</td>\n",
       "      <td>46</td>\n",
       "      <td>33</td>\n",
       "      <td>63</td>\n",
       "      <td>190.9</td>\n",
       "      <td>0</td>\n",
       "      <td>0</td>\n",
       "      <td>0</td>\n",
       "      <td>0</td>\n",
       "      <td>0</td>\n",
       "      <td>0</td>\n",
       "    </tr>\n",
       "    <tr>\n",
       "      <th>3</th>\n",
       "      <td>Ajinkya Rahane</td>\n",
       "      <td>15</td>\n",
       "      <td>14</td>\n",
       "      <td>370</td>\n",
       "      <td>65</td>\n",
       "      <td>313</td>\n",
       "      <td>28.46</td>\n",
       "      <td>118.21</td>\n",
       "      <td>0</td>\n",
       "      <td>0</td>\n",
       "      <td>0</td>\n",
       "      <td>0</td>\n",
       "      <td>0</td>\n",
       "      <td>0</td>\n",
       "    </tr>\n",
       "    <tr>\n",
       "      <th>4</th>\n",
       "      <td>Alex Hales</td>\n",
       "      <td>6</td>\n",
       "      <td>6</td>\n",
       "      <td>148</td>\n",
       "      <td>45</td>\n",
       "      <td>118</td>\n",
       "      <td>24.66</td>\n",
       "      <td>125.42</td>\n",
       "      <td>0</td>\n",
       "      <td>0</td>\n",
       "      <td>0</td>\n",
       "      <td>0</td>\n",
       "      <td>0</td>\n",
       "      <td>0</td>\n",
       "    </tr>\n",
       "  </tbody>\n",
       "</table>\n",
       "</div>"
      ],
      "text/plain": [
       "            PLAYER matches_played innings_batted runs_scored highest_runs  \\\n",
       "0      Aaron Finch             10              9         134           46   \n",
       "1   AB de Villiers             12             11         480           90   \n",
       "2  Abhishek Sharma              3              3          63           46   \n",
       "3   Ajinkya Rahane             15             14         370           65   \n",
       "4       Alex Hales              6              6         148           45   \n",
       "\n",
       "  balls_faced average_runs strike_rate innings_bowled overs runs_given  \\\n",
       "0         100        16.75         144              0     0          0   \n",
       "1         275        53.33      174.54              0     0          0   \n",
       "2          33           63       190.9              0     0          0   \n",
       "3         313        28.46      118.21              0     0          0   \n",
       "4         118        24.66      125.42              0     0          0   \n",
       "\n",
       "  wickets_obtained average_runs_per_wicket bowling_economy  \n",
       "0                0                       0               0  \n",
       "1                0                       0               0  \n",
       "2                0                       0               0  \n",
       "3                0                       0               0  \n",
       "4                0                       0               0  "
      ]
     },
     "execution_count": 7,
     "metadata": {},
     "output_type": "execute_result"
    }
   ],
   "source": [
    "NewData.head()"
   ]
  },
  {
   "cell_type": "code",
   "execution_count": 8,
   "metadata": {},
   "outputs": [],
   "source": [
    "NewData.drop([\"PLAYER\"], axis = 1, inplace = True)"
   ]
  },
  {
   "cell_type": "markdown",
   "metadata": {},
   "source": [
    "## Ans1. Normalized all the features of data set using min max scaler. It transformed data to range of 0 to 1."
   ]
  },
  {
   "cell_type": "code",
   "execution_count": 9,
   "metadata": {},
   "outputs": [],
   "source": [
    "from sklearn.preprocessing import MinMaxScaler"
   ]
  },
  {
   "cell_type": "code",
   "execution_count": 10,
   "metadata": {},
   "outputs": [],
   "source": [
    "scaler = MinMaxScaler()"
   ]
  },
  {
   "cell_type": "code",
   "execution_count": 11,
   "metadata": {},
   "outputs": [
    {
     "name": "stderr",
     "output_type": "stream",
     "text": [
      "C:\\Users\\rmittal5\\AppData\\Local\\Continuum\\anaconda3\\lib\\site-packages\\sklearn\\preprocessing\\data.py:334: DataConversionWarning: Data with input dtype object were all converted to float64 by MinMaxScaler.\n",
      "  return self.partial_fit(X, y)\n"
     ]
    }
   ],
   "source": [
    "NData = scaler.fit_transform(NewData)"
   ]
  },
  {
   "cell_type": "code",
   "execution_count": 12,
   "metadata": {},
   "outputs": [
    {
     "data": {
      "text/plain": [
       "array([[0.58823529, 0.52941176, 0.18231293, ..., 0.        , 0.        ,\n",
       "        0.        ],\n",
       "       [0.70588235, 0.64705882, 0.65306122, ..., 0.        , 0.        ,\n",
       "        0.        ],\n",
       "       [0.17647059, 0.17647059, 0.08571429, ..., 0.        , 0.        ,\n",
       "        0.        ],\n",
       "       ...,\n",
       "       [0.        , 0.        , 0.        , ..., 0.16666667, 0.53009259,\n",
       "        0.63030303],\n",
       "       [0.        , 0.        , 0.        , ..., 0.20833333, 0.21111111,\n",
       "        0.61818182],\n",
       "       [0.        , 0.        , 0.        , ..., 0.375     , 0.20777778,\n",
       "        0.60848485]])"
      ]
     },
     "execution_count": 12,
     "metadata": {},
     "output_type": "execute_result"
    }
   ],
   "source": [
    "NData"
   ]
  },
  {
   "cell_type": "markdown",
   "metadata": {},
   "source": [
    "## Ans 2. K means implementation from scratch for column average_runs and bowling_economy."
   ]
  },
  {
   "cell_type": "code",
   "execution_count": 13,
   "metadata": {},
   "outputs": [],
   "source": [
    "# Taking the average_runs and bowling_economy columns in a array D. These are the selected features for clustering the data points.\n",
    "D = NData[:,[5,12]]"
   ]
  },
  {
   "cell_type": "code",
   "execution_count": 14,
   "metadata": {},
   "outputs": [],
   "source": [
    "# Number of sample records\n",
    "m=D.shape[0]"
   ]
  },
  {
   "cell_type": "code",
   "execution_count": 15,
   "metadata": {},
   "outputs": [
    {
     "data": {
      "image/png": "[encoded data removed]",
      "text/plain": [
       "<Figure size 432x288 with 1 Axes>"
      ]
     },
     "metadata": {
      "needs_background": "light"
     },
     "output_type": "display_data"
    }
   ],
   "source": [
    "#Plotting the data\n",
    "plt.scatter(D[:,0],D[:,1],c='black',label='unclustered data')\n",
    "plt.xlabel('average runs')\n",
    "plt.ylabel('bowling economy')\n",
    "plt.legend()\n",
    "plt.title('Data points for average runs vs bowling economy')\n",
    "plt.show()"
   ]
  },
  {
   "cell_type": "code",
   "execution_count": 16,
   "metadata": {},
   "outputs": [],
   "source": [
    "# Number of features\n",
    "n = 2"
   ]
  },
  {
   "cell_type": "code",
   "execution_count": 17,
   "metadata": {},
   "outputs": [],
   "source": [
    "# Maximum number of iteration for the convergence\n",
    "n_iter=500"
   ]
  },
  {
   "cell_type": "code",
   "execution_count": 18,
   "metadata": {},
   "outputs": [],
   "source": [
    "# Number of clusters\n",
    "K = 2"
   ]
  },
  {
   "cell_type": "code",
   "execution_count": 19,
   "metadata": {},
   "outputs": [],
   "source": [
    "import random as rd\n",
    "#Initializing the centroids randomly from the data points\n",
    "Centroids=np.array([]).reshape(n,0)\n",
    "\n",
    "#Centroids is a n x K dimentional matrix, where each column will be a centroid for one cluster.\n",
    "for i in range(K):\n",
    "    rand=rd.randint(0,m-1)\n",
    "    Centroids=np.c_[Centroids,D[rand]]"
   ]
  },
  {
   "cell_type": "code",
   "execution_count": 20,
   "metadata": {},
   "outputs": [
    {
     "data": {
      "text/plain": [
       "array([[0.50415403, 0.3753132 ],\n",
       "       [0.        , 0.        ]])"
      ]
     },
     "execution_count": 20,
     "metadata": {},
     "output_type": "execute_result"
    }
   ],
   "source": [
    "Centroids"
   ]
  },
  {
   "cell_type": "code",
   "execution_count": 21,
   "metadata": {},
   "outputs": [],
   "source": [
    "#For each training example compute the euclidian distance from the centroid and assign the cluster based on the minimal distance.\n",
    "#The output will be a dictionary with cluster number as Keys and the data points which belong to that cluster as values.\n",
    "Output={}\n"
   ]
  },
  {
   "cell_type": "code",
   "execution_count": 22,
   "metadata": {},
   "outputs": [],
   "source": [
    "#We iterate over n_iter and repeat the E-Step and M-Step, till the convergence is achieved.\n",
    "#We find the euclidian distance from each point to all the centroids and store in a m X K matrix. \n",
    "#Every row in EuclidianDistance matrix will have distances of that particular data point from all the centroids.\n",
    "#We then find the minimum distance and store the index of the column in a vector C.\n",
    "#E-Step\n",
    "for i in range(n_iter):\n",
    "    EuclidianDistance=np.array([]).reshape(m,0)\n",
    "    for k in range(K):\n",
    "        tempDist=np.sum((D-Centroids[:,k])**2,axis=1)\n",
    "        EuclidianDistance=np.c_[EuclidianDistance,tempDist]\n",
    "    C=np.argmin(EuclidianDistance,axis=1)+1\n",
    "#We regroup the data points based on the cluster index C and store in the Output dictionary and \n",
    "#also compute the mean of separated clusters and assign it as new centroids. \n",
    "#Y is a temporary dictionary which stores the solution for one particular iteration.\n",
    "#M-Step\n",
    "    Y={}\n",
    "    for k in range(K):\n",
    "        Y[k+1]=np.array([]).reshape(2,0)\n",
    "    for j in range(m):\n",
    "        Y[C[j]]=np.c_[Y[C[j]],D[j]]\n",
    "    for k in range(K):\n",
    "        Y[k+1]=Y[k+1].T\n",
    "    for k in range(K):\n",
    "        Centroids[:,k]=np.mean(Y[k+1],axis=0)\n",
    "    Output=Y"
   ]
  },
  {
   "cell_type": "code",
   "execution_count": 23,
   "metadata": {},
   "outputs": [
    {
     "data": {
      "image/png": "[encoded data removed]",
      "text/plain": [
       "<Figure size 432x288 with 1 Axes>"
      ]
     },
     "metadata": {
      "needs_background": "light"
     },
     "output_type": "display_data"
    }
   ],
   "source": [
    "#Plotting the scatter plot for the two clusters.\n",
    "color=['red','blue']\n",
    "labels=['cluster 1','cluster 2']\n",
    "for k in range(K):\n",
    "    plt.scatter(Output[k+1][:,0],Output[k+1][:,1],c=color[k],label=labels[k])\n",
    "plt.xlabel('average runs')\n",
    "plt.ylabel('bowling economy')\n",
    "plt.legend()\n",
    "plt.title('Plot for 2 Clusters')\n",
    "plt.show()"
   ]
  },
  {
   "cell_type": "markdown",
   "metadata": {},
   "source": [
    "## Ans 3. Applying above K Means algorithm for different number of clusters 3,4,5."
   ]
  },
  {
   "cell_type": "code",
   "execution_count": 24,
   "metadata": {},
   "outputs": [],
   "source": [
    "# Number of clusters\n",
    "K = 3\n",
    "Centroids=np.array([]).reshape(n,0)\n",
    "for i in range(K):\n",
    "    rand=rd.randint(0,m-1)\n",
    "    Centroids=np.c_[Centroids,D[rand]]\n",
    "Output={}\n",
    "for i in range(n_iter):\n",
    "    EuclidianDistance=np.array([]).reshape(m,0)\n",
    "    for k in range(K):\n",
    "        tempDist=np.sum((D-Centroids[:,k])**2,axis=1)\n",
    "        EuclidianDistance=np.c_[EuclidianDistance,tempDist]\n",
    "    C=np.argmin(EuclidianDistance,axis=1)+1\n",
    "#We regroup the data points based on the cluster index C and store in the Output dictionary and \n",
    "#also compute the mean of separated clusters and assign it as new centroids. \n",
    "#Y is a temporary dictionary which stores the solution for one particular iteration.\n",
    "#M-Step\n",
    "    Y={}\n",
    "    for k in range(K):\n",
    "        Y[k+1]=np.array([]).reshape(2,0)\n",
    "    for j in range(m):\n",
    "        Y[C[j]]=np.c_[Y[C[j]],D[j]]\n",
    "    for k in range(K):\n",
    "        Y[k+1]=Y[k+1].T\n",
    "    for k in range(K):\n",
    "        Centroids[:,k]=np.mean(Y[k+1],axis=0)\n",
    "    Output=Y"
   ]
  },
  {
   "cell_type": "code",
   "execution_count": 25,
   "metadata": {},
   "outputs": [
    {
     "data": {
      "image/png": "[encoded data removed]",
      "text/plain": [
       "<Figure size 432x288 with 1 Axes>"
      ]
     },
     "metadata": {
      "needs_background": "light"
     },
     "output_type": "display_data"
    }
   ],
   "source": [
    "#Plotting the scatter plot for 3 clusters.\n",
    "color=['red','blue', 'yellow']\n",
    "labels=['cluster 1','cluster 2','cluster 3']\n",
    "for k in range(K):\n",
    "    plt.scatter(Output[k+1][:,0],Output[k+1][:,1],c=color[k],label=labels[k])\n",
    "plt.xlabel('average runs')\n",
    "plt.ylabel('bowling economy')\n",
    "plt.legend()\n",
    "plt.title('Plot for 3 Clusters')\n",
    "plt.show()"
   ]
  },
  {
   "cell_type": "code",
   "execution_count": 26,
   "metadata": {},
   "outputs": [],
   "source": [
    "# Number of clusters\n",
    "K = 4\n",
    "Centroids=np.array([]).reshape(n,0)\n",
    "for i in range(K):\n",
    "    rand=rd.randint(0,m-1)\n",
    "    Centroids=np.c_[Centroids,D[rand]]\n",
    "Output={}\n",
    "for i in range(n_iter):\n",
    "    EuclidianDistance=np.array([]).reshape(m,0)\n",
    "    for k in range(K):\n",
    "        tempDist=np.sum((D-Centroids[:,k])**2,axis=1)\n",
    "        EuclidianDistance=np.c_[EuclidianDistance,tempDist]\n",
    "    C=np.argmin(EuclidianDistance,axis=1)+1\n",
    "#We regroup the data points based on the cluster index C and store in the Output dictionary and \n",
    "#also compute the mean of separated clusters and assign it as new centroids. \n",
    "#Y is a temporary dictionary which stores the solution for one particular iteration.\n",
    "#M-Step\n",
    "    Y={}\n",
    "    for k in range(K):\n",
    "        Y[k+1]=np.array([]).reshape(2,0)\n",
    "    for j in range(m):\n",
    "        Y[C[j]]=np.c_[Y[C[j]],D[j]]\n",
    "    for k in range(K):\n",
    "        Y[k+1]=Y[k+1].T\n",
    "    for k in range(K):\n",
    "        Centroids[:,k]=np.mean(Y[k+1],axis=0)\n",
    "    Output=Y"
   ]
  },
  {
   "cell_type": "code",
   "execution_count": 27,
   "metadata": {},
   "outputs": [
    {
     "data": {
      "image/png": "[encoded data removed]",
      "text/plain": [
       "<Figure size 432x288 with 1 Axes>"
      ]
     },
     "metadata": {
      "needs_background": "light"
     },
     "output_type": "display_data"
    }
   ],
   "source": [
    "#Plotting the scatter plot for 4 clusters.\n",
    "color=['red','blue', 'yellow', 'cyan']\n",
    "labels=['cluster 1','cluster 2','cluster 3','cluster 4']\n",
    "for k in range(K):\n",
    "    plt.scatter(Output[k+1][:,0],Output[k+1][:,1],c=color[k],label=labels[k])\n",
    "plt.xlabel('average runs')\n",
    "plt.ylabel('bowling economy')\n",
    "plt.legend()\n",
    "plt.title('Plot for 4 Clusters')\n",
    "plt.show()"
   ]
  },
  {
   "cell_type": "code",
   "execution_count": 28,
   "metadata": {},
   "outputs": [],
   "source": [
    "# Number of clusters\n",
    "K = 5\n",
    "Centroids=np.array([]).reshape(n,0)\n",
    "for i in range(K):\n",
    "    rand=rd.randint(0,m-1)\n",
    "    Centroids=np.c_[Centroids,D[rand]]\n",
    "Output={}\n",
    "for i in range(n_iter):\n",
    "    EuclidianDistance=np.array([]).reshape(m,0)\n",
    "    for k in range(K):\n",
    "        tempDist=np.sum((D-Centroids[:,k])**2,axis=1)\n",
    "        EuclidianDistance=np.c_[EuclidianDistance,tempDist]\n",
    "    C=np.argmin(EuclidianDistance,axis=1)+1\n",
    "#We regroup the data points based on the cluster index C and store in the Output dictionary and \n",
    "#also compute the mean of separated clusters and assign it as new centroids. \n",
    "#Y is a temporary dictionary which stores the solution for one particular iteration.\n",
    "#M-Step\n",
    "    Y={}\n",
    "    for k in range(K):\n",
    "        Y[k+1]=np.array([]).reshape(2,0)\n",
    "    for j in range(m):\n",
    "        Y[C[j]]=np.c_[Y[C[j]],D[j]]\n",
    "    for k in range(K):\n",
    "        Y[k+1]=Y[k+1].T\n",
    "    for k in range(K):\n",
    "        Centroids[:,k]=np.mean(Y[k+1],axis=0)\n",
    "    Output=Y"
   ]
  },
  {
   "cell_type": "code",
   "execution_count": 29,
   "metadata": {},
   "outputs": [
    {
     "data": {
      "image/png": "[encoded data removed]",
      "text/plain": [
       "<Figure size 432x288 with 1 Axes>"
      ]
     },
     "metadata": {
      "needs_background": "light"
     },
     "output_type": "display_data"
    }
   ],
   "source": [
    "#Plotting the scatter plot for 5 clusters.\n",
    "color=['red','blue', 'yellow', 'cyan','orange']\n",
    "labels=['cluster 1','cluster 2','cluster 3','cluster 4','cluster 5']\n",
    "for k in range(K):\n",
    "    plt.scatter(Output[k+1][:,0],Output[k+1][:,1],c=color[k],label=labels[k])\n",
    "plt.xlabel('average runs')\n",
    "plt.ylabel('bowling economy')\n",
    "plt.legend()\n",
    "plt.title('Plot for 5 Clusters')\n",
    "plt.show()"
   ]
  },
  {
   "cell_type": "code",
   "execution_count": null,
   "metadata": {},
   "outputs": [],
   "source": []
  }
 ],
 "metadata": {
  "kernelspec": {
   "display_name": "Python 3",
   "language": "python",
   "name": "python3"
  },
  "language_info": {
   "codemirror_mode": {
    "name": "ipython",
    "version": 3
   },
   "file_extension": ".py",
   "mimetype": "text/x-python",
   "name": "python",
   "nbconvert_exporter": "python",
   "pygments_lexer": "ipython3",
   "version": "3.7.3"
  }
 },
 "nbformat": 4,
 "nbformat_minor": 2
}
