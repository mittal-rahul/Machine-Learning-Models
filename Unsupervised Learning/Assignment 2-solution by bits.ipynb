{
 "cells": [
  {
   "cell_type": "code",
   "execution_count": 1,
   "metadata": {},
   "outputs": [],
   "source": [
    "import pandas as pd"
   ]
  },
  {
   "cell_type": "code",
   "execution_count": 2,
   "metadata": {},
   "outputs": [],
   "source": [
    "data = pd.read_csv ('cricketers.csv',delimiter='\\t')"
   ]
  },
  {
   "cell_type": "code",
   "execution_count": 3,
   "metadata": {},
   "outputs": [
    {
     "data": {
      "text/html": [
       "<div>\n",
       "<style scoped>\n",
       "    .dataframe tbody tr th:only-of-type {\n",
       "        vertical-align: middle;\n",
       "    }\n",
       "\n",
       "    .dataframe tbody tr th {\n",
       "        vertical-align: top;\n",
       "    }\n",
       "\n",
       "    .dataframe thead th {\n",
       "        text-align: right;\n",
       "    }\n",
       "</style>\n",
       "<table border=\"1\" class=\"dataframe\">\n",
       "  <thead>\n",
       "    <tr style=\"text-align: right;\">\n",
       "      <th></th>\n",
       "      <th>matches_played</th>\n",
       "      <th>innings_batted</th>\n",
       "      <th>runs_scored</th>\n",
       "      <th>highest_runs</th>\n",
       "      <th>balls_faced</th>\n",
       "      <th>average_runs</th>\n",
       "      <th>strike_rate</th>\n",
       "      <th>innings_bowled</th>\n",
       "      <th>overs</th>\n",
       "      <th>runs_given</th>\n",
       "      <th>wickets_obtained</th>\n",
       "      <th>average_runs_per_wicket</th>\n",
       "      <th>bowling_economy</th>\n",
       "    </tr>\n",
       "  </thead>\n",
       "  <tbody>\n",
       "    <tr>\n",
       "      <th>count</th>\n",
       "      <td>109.000000</td>\n",
       "      <td>109.000000</td>\n",
       "      <td>109.000000</td>\n",
       "      <td>109.000000</td>\n",
       "      <td>109.000000</td>\n",
       "      <td>109.000000</td>\n",
       "      <td>109.000000</td>\n",
       "      <td>109.000000</td>\n",
       "      <td>109.000000</td>\n",
       "      <td>109.00000</td>\n",
       "      <td>109.000000</td>\n",
       "      <td>109.000000</td>\n",
       "      <td>109.000000</td>\n",
       "    </tr>\n",
       "    <tr>\n",
       "      <th>mean</th>\n",
       "      <td>9.559633</td>\n",
       "      <td>7.889908</td>\n",
       "      <td>173.633028</td>\n",
       "      <td>43.495413</td>\n",
       "      <td>124.669725</td>\n",
       "      <td>22.360092</td>\n",
       "      <td>122.258716</td>\n",
       "      <td>4.513761</td>\n",
       "      <td>13.894495</td>\n",
       "      <td>119.93578</td>\n",
       "      <td>3.926606</td>\n",
       "      <td>17.334862</td>\n",
       "      <td>5.149817</td>\n",
       "    </tr>\n",
       "    <tr>\n",
       "      <th>std</th>\n",
       "      <td>5.161164</td>\n",
       "      <td>4.982078</td>\n",
       "      <td>182.356522</td>\n",
       "      <td>29.830268</td>\n",
       "      <td>123.670265</td>\n",
       "      <td>16.093453</td>\n",
       "      <td>48.576709</td>\n",
       "      <td>5.449456</td>\n",
       "      <td>18.395495</td>\n",
       "      <td>152.80763</td>\n",
       "      <td>5.602094</td>\n",
       "      <td>21.910816</td>\n",
       "      <td>4.773435</td>\n",
       "    </tr>\n",
       "    <tr>\n",
       "      <th>min</th>\n",
       "      <td>0.000000</td>\n",
       "      <td>0.000000</td>\n",
       "      <td>0.000000</td>\n",
       "      <td>0.000000</td>\n",
       "      <td>0.000000</td>\n",
       "      <td>0.000000</td>\n",
       "      <td>0.000000</td>\n",
       "      <td>0.000000</td>\n",
       "      <td>0.000000</td>\n",
       "      <td>0.00000</td>\n",
       "      <td>0.000000</td>\n",
       "      <td>-0.000000</td>\n",
       "      <td>0.000000</td>\n",
       "    </tr>\n",
       "    <tr>\n",
       "      <th>25%</th>\n",
       "      <td>5.000000</td>\n",
       "      <td>4.000000</td>\n",
       "      <td>36.000000</td>\n",
       "      <td>20.000000</td>\n",
       "      <td>33.000000</td>\n",
       "      <td>11.800000</td>\n",
       "      <td>109.090000</td>\n",
       "      <td>0.000000</td>\n",
       "      <td>0.000000</td>\n",
       "      <td>0.00000</td>\n",
       "      <td>0.000000</td>\n",
       "      <td>0.000000</td>\n",
       "      <td>0.000000</td>\n",
       "    </tr>\n",
       "    <tr>\n",
       "      <th>50%</th>\n",
       "      <td>10.000000</td>\n",
       "      <td>7.000000</td>\n",
       "      <td>99.000000</td>\n",
       "      <td>40.000000</td>\n",
       "      <td>76.000000</td>\n",
       "      <td>21.160000</td>\n",
       "      <td>130.260000</td>\n",
       "      <td>2.000000</td>\n",
       "      <td>3.000000</td>\n",
       "      <td>27.00000</td>\n",
       "      <td>0.000000</td>\n",
       "      <td>0.000000</td>\n",
       "      <td>7.280000</td>\n",
       "    </tr>\n",
       "    <tr>\n",
       "      <th>75%</th>\n",
       "      <td>14.000000</td>\n",
       "      <td>13.000000</td>\n",
       "      <td>260.000000</td>\n",
       "      <td>62.000000</td>\n",
       "      <td>188.000000</td>\n",
       "      <td>30.000000</td>\n",
       "      <td>146.040000</td>\n",
       "      <td>8.000000</td>\n",
       "      <td>26.000000</td>\n",
       "      <td>223.00000</td>\n",
       "      <td>6.000000</td>\n",
       "      <td>28.360000</td>\n",
       "      <td>9.230000</td>\n",
       "    </tr>\n",
       "    <tr>\n",
       "      <th>max</th>\n",
       "      <td>17.000000</td>\n",
       "      <td>17.000000</td>\n",
       "      <td>735.000000</td>\n",
       "      <td>128.000000</td>\n",
       "      <td>516.000000</td>\n",
       "      <td>75.830000</td>\n",
       "      <td>300.000000</td>\n",
       "      <td>17.000000</td>\n",
       "      <td>68.000000</td>\n",
       "      <td>533.00000</td>\n",
       "      <td>24.000000</td>\n",
       "      <td>108.000000</td>\n",
       "      <td>16.500000</td>\n",
       "    </tr>\n",
       "  </tbody>\n",
       "</table>\n",
       "</div>"
      ],
      "text/plain": [
       "       matches_played  innings_batted  runs_scored  highest_runs  balls_faced  \\\n",
       "count      109.000000      109.000000   109.000000    109.000000   109.000000   \n",
       "mean         9.559633        7.889908   173.633028     43.495413   124.669725   \n",
       "std          5.161164        4.982078   182.356522     29.830268   123.670265   \n",
       "min          0.000000        0.000000     0.000000      0.000000     0.000000   \n",
       "25%          5.000000        4.000000    36.000000     20.000000    33.000000   \n",
       "50%         10.000000        7.000000    99.000000     40.000000    76.000000   \n",
       "75%         14.000000       13.000000   260.000000     62.000000   188.000000   \n",
       "max         17.000000       17.000000   735.000000    128.000000   516.000000   \n",
       "\n",
       "       average_runs  strike_rate  innings_bowled       overs  runs_given  \\\n",
       "count    109.000000   109.000000      109.000000  109.000000   109.00000   \n",
       "mean      22.360092   122.258716        4.513761   13.894495   119.93578   \n",
       "std       16.093453    48.576709        5.449456   18.395495   152.80763   \n",
       "min        0.000000     0.000000        0.000000    0.000000     0.00000   \n",
       "25%       11.800000   109.090000        0.000000    0.000000     0.00000   \n",
       "50%       21.160000   130.260000        2.000000    3.000000    27.00000   \n",
       "75%       30.000000   146.040000        8.000000   26.000000   223.00000   \n",
       "max       75.830000   300.000000       17.000000   68.000000   533.00000   \n",
       "\n",
       "       wickets_obtained  average_runs_per_wicket   bowling_economy   \n",
       "count        109.000000                109.000000        109.000000  \n",
       "mean           3.926606                 17.334862          5.149817  \n",
       "std            5.602094                 21.910816          4.773435  \n",
       "min            0.000000                 -0.000000          0.000000  \n",
       "25%            0.000000                  0.000000          0.000000  \n",
       "50%            0.000000                  0.000000          7.280000  \n",
       "75%            6.000000                 28.360000          9.230000  \n",
       "max           24.000000                108.000000         16.500000  "
      ]
     },
     "execution_count": 3,
     "metadata": {},
     "output_type": "execute_result"
    }
   ],
   "source": [
    "data.describe()"
   ]
  },
  {
   "cell_type": "markdown",
   "metadata": {},
   "source": [
    "#1 Feature Scaling [2 points]"
   ]
  },
  {
   "cell_type": "code",
   "execution_count": 4,
   "metadata": {},
   "outputs": [],
   "source": [
    "from sklearn.preprocessing import MinMaxScaler"
   ]
  },
  {
   "cell_type": "code",
   "execution_count": 5,
   "metadata": {},
   "outputs": [],
   "source": [
    "min_max_scaler = MinMaxScaler()"
   ]
  },
  {
   "cell_type": "code",
   "execution_count": 6,
   "metadata": {},
   "outputs": [],
   "source": [
    "data_scaled = min_max_scaler.fit_transform(data.iloc[:,1:])"
   ]
  },
  {
   "cell_type": "code",
   "execution_count": 7,
   "metadata": {},
   "outputs": [],
   "source": [
    "data_final = pd.DataFrame.from_records(data_scaled)"
   ]
  },
  {
   "cell_type": "code",
   "execution_count": 8,
   "metadata": {},
   "outputs": [
    {
     "data": {
      "text/html": [
       "<div>\n",
       "<style scoped>\n",
       "    .dataframe tbody tr th:only-of-type {\n",
       "        vertical-align: middle;\n",
       "    }\n",
       "\n",
       "    .dataframe tbody tr th {\n",
       "        vertical-align: top;\n",
       "    }\n",
       "\n",
       "    .dataframe thead th {\n",
       "        text-align: right;\n",
       "    }\n",
       "</style>\n",
       "<table border=\"1\" class=\"dataframe\">\n",
       "  <thead>\n",
       "    <tr style=\"text-align: right;\">\n",
       "      <th></th>\n",
       "      <th>0</th>\n",
       "      <th>1</th>\n",
       "      <th>2</th>\n",
       "      <th>3</th>\n",
       "      <th>4</th>\n",
       "      <th>5</th>\n",
       "      <th>6</th>\n",
       "      <th>7</th>\n",
       "      <th>8</th>\n",
       "      <th>9</th>\n",
       "      <th>10</th>\n",
       "      <th>11</th>\n",
       "      <th>12</th>\n",
       "    </tr>\n",
       "  </thead>\n",
       "  <tbody>\n",
       "    <tr>\n",
       "      <th>count</th>\n",
       "      <td>109.000000</td>\n",
       "      <td>109.000000</td>\n",
       "      <td>109.000000</td>\n",
       "      <td>109.000000</td>\n",
       "      <td>109.000000</td>\n",
       "      <td>109.000000</td>\n",
       "      <td>109.000000</td>\n",
       "      <td>109.000000</td>\n",
       "      <td>109.000000</td>\n",
       "      <td>109.000000</td>\n",
       "      <td>109.000000</td>\n",
       "      <td>109.000000</td>\n",
       "      <td>109.000000</td>\n",
       "    </tr>\n",
       "    <tr>\n",
       "      <th>mean</th>\n",
       "      <td>0.562331</td>\n",
       "      <td>0.464112</td>\n",
       "      <td>0.236235</td>\n",
       "      <td>0.339808</td>\n",
       "      <td>0.241608</td>\n",
       "      <td>0.294871</td>\n",
       "      <td>0.407529</td>\n",
       "      <td>0.265515</td>\n",
       "      <td>0.204331</td>\n",
       "      <td>0.225020</td>\n",
       "      <td>0.163609</td>\n",
       "      <td>0.160508</td>\n",
       "      <td>0.312110</td>\n",
       "    </tr>\n",
       "    <tr>\n",
       "      <th>std</th>\n",
       "      <td>0.303598</td>\n",
       "      <td>0.293063</td>\n",
       "      <td>0.248104</td>\n",
       "      <td>0.233049</td>\n",
       "      <td>0.239671</td>\n",
       "      <td>0.212231</td>\n",
       "      <td>0.161922</td>\n",
       "      <td>0.320556</td>\n",
       "      <td>0.270522</td>\n",
       "      <td>0.286693</td>\n",
       "      <td>0.233421</td>\n",
       "      <td>0.202878</td>\n",
       "      <td>0.289299</td>\n",
       "    </tr>\n",
       "    <tr>\n",
       "      <th>min</th>\n",
       "      <td>0.000000</td>\n",
       "      <td>0.000000</td>\n",
       "      <td>0.000000</td>\n",
       "      <td>0.000000</td>\n",
       "      <td>0.000000</td>\n",
       "      <td>0.000000</td>\n",
       "      <td>0.000000</td>\n",
       "      <td>0.000000</td>\n",
       "      <td>0.000000</td>\n",
       "      <td>0.000000</td>\n",
       "      <td>0.000000</td>\n",
       "      <td>0.000000</td>\n",
       "      <td>0.000000</td>\n",
       "    </tr>\n",
       "    <tr>\n",
       "      <th>25%</th>\n",
       "      <td>0.294118</td>\n",
       "      <td>0.235294</td>\n",
       "      <td>0.048980</td>\n",
       "      <td>0.156250</td>\n",
       "      <td>0.063953</td>\n",
       "      <td>0.155611</td>\n",
       "      <td>0.363633</td>\n",
       "      <td>0.000000</td>\n",
       "      <td>0.000000</td>\n",
       "      <td>0.000000</td>\n",
       "      <td>0.000000</td>\n",
       "      <td>0.000000</td>\n",
       "      <td>0.000000</td>\n",
       "    </tr>\n",
       "    <tr>\n",
       "      <th>50%</th>\n",
       "      <td>0.588235</td>\n",
       "      <td>0.411765</td>\n",
       "      <td>0.134694</td>\n",
       "      <td>0.312500</td>\n",
       "      <td>0.147287</td>\n",
       "      <td>0.279045</td>\n",
       "      <td>0.434200</td>\n",
       "      <td>0.117647</td>\n",
       "      <td>0.044118</td>\n",
       "      <td>0.050657</td>\n",
       "      <td>0.000000</td>\n",
       "      <td>0.000000</td>\n",
       "      <td>0.441212</td>\n",
       "    </tr>\n",
       "    <tr>\n",
       "      <th>75%</th>\n",
       "      <td>0.823529</td>\n",
       "      <td>0.764706</td>\n",
       "      <td>0.353741</td>\n",
       "      <td>0.484375</td>\n",
       "      <td>0.364341</td>\n",
       "      <td>0.395622</td>\n",
       "      <td>0.486800</td>\n",
       "      <td>0.470588</td>\n",
       "      <td>0.382353</td>\n",
       "      <td>0.418386</td>\n",
       "      <td>0.250000</td>\n",
       "      <td>0.262593</td>\n",
       "      <td>0.559394</td>\n",
       "    </tr>\n",
       "    <tr>\n",
       "      <th>max</th>\n",
       "      <td>1.000000</td>\n",
       "      <td>1.000000</td>\n",
       "      <td>1.000000</td>\n",
       "      <td>1.000000</td>\n",
       "      <td>1.000000</td>\n",
       "      <td>1.000000</td>\n",
       "      <td>1.000000</td>\n",
       "      <td>1.000000</td>\n",
       "      <td>1.000000</td>\n",
       "      <td>1.000000</td>\n",
       "      <td>1.000000</td>\n",
       "      <td>1.000000</td>\n",
       "      <td>1.000000</td>\n",
       "    </tr>\n",
       "  </tbody>\n",
       "</table>\n",
       "</div>"
      ],
      "text/plain": [
       "               0           1           2           3           4           5   \\\n",
       "count  109.000000  109.000000  109.000000  109.000000  109.000000  109.000000   \n",
       "mean     0.562331    0.464112    0.236235    0.339808    0.241608    0.294871   \n",
       "std      0.303598    0.293063    0.248104    0.233049    0.239671    0.212231   \n",
       "min      0.000000    0.000000    0.000000    0.000000    0.000000    0.000000   \n",
       "25%      0.294118    0.235294    0.048980    0.156250    0.063953    0.155611   \n",
       "50%      0.588235    0.411765    0.134694    0.312500    0.147287    0.279045   \n",
       "75%      0.823529    0.764706    0.353741    0.484375    0.364341    0.395622   \n",
       "max      1.000000    1.000000    1.000000    1.000000    1.000000    1.000000   \n",
       "\n",
       "               6           7           8           9           10          11  \\\n",
       "count  109.000000  109.000000  109.000000  109.000000  109.000000  109.000000   \n",
       "mean     0.407529    0.265515    0.204331    0.225020    0.163609    0.160508   \n",
       "std      0.161922    0.320556    0.270522    0.286693    0.233421    0.202878   \n",
       "min      0.000000    0.000000    0.000000    0.000000    0.000000    0.000000   \n",
       "25%      0.363633    0.000000    0.000000    0.000000    0.000000    0.000000   \n",
       "50%      0.434200    0.117647    0.044118    0.050657    0.000000    0.000000   \n",
       "75%      0.486800    0.470588    0.382353    0.418386    0.250000    0.262593   \n",
       "max      1.000000    1.000000    1.000000    1.000000    1.000000    1.000000   \n",
       "\n",
       "               12  \n",
       "count  109.000000  \n",
       "mean     0.312110  \n",
       "std      0.289299  \n",
       "min      0.000000  \n",
       "25%      0.000000  \n",
       "50%      0.441212  \n",
       "75%      0.559394  \n",
       "max      1.000000  "
      ]
     },
     "execution_count": 8,
     "metadata": {},
     "output_type": "execute_result"
    }
   ],
   "source": [
    "data_final.describe()"
   ]
  },
  {
   "cell_type": "markdown",
   "metadata": {},
   "source": [
    "#2 Run K-means from scratch using attributes using average_runs and bowling_economy [3 points]"
   ]
  },
  {
   "cell_type": "code",
   "execution_count": 9,
   "metadata": {},
   "outputs": [],
   "source": [
    "X = data_final.iloc[:, [5, 12]].values  #Filter desired attributes"
   ]
  },
  {
   "cell_type": "code",
   "execution_count": 10,
   "metadata": {},
   "outputs": [
    {
     "data": {
      "text/plain": [
       "(109, 2)"
      ]
     },
     "execution_count": 10,
     "metadata": {},
     "output_type": "execute_result"
    }
   ],
   "source": [
    "X.shape"
   ]
  },
  {
   "cell_type": "code",
   "execution_count": 11,
   "metadata": {},
   "outputs": [
    {
     "data": {
      "text/plain": [
       "array([[0.22088883, 0.        ],\n",
       "       [0.70328366, 0.        ],\n",
       "       [0.83080575, 0.        ],\n",
       "       [0.3753132 , 0.        ],\n",
       "       [0.32520111, 0.        ],\n",
       "       [0.56705789, 0.        ],\n",
       "       [0.37874192, 0.56848485],\n",
       "       [0.0702888 , 0.48484848],\n",
       "       [0.17578795, 0.50787879],\n",
       "       [0.31649743, 0.59878788],\n",
       "       [0.21535013, 0.49575758],\n",
       "       [0.08571805, 0.46424242],\n",
       "       [0.27904523, 0.        ],\n",
       "       [0.32968482, 0.56      ],\n",
       "       [0.53910062, 0.        ],\n",
       "       [0.43162337, 0.        ],\n",
       "       [0.60662007, 0.61878788],\n",
       "       [0.11209284, 0.62787879],\n",
       "       [0.34550969, 0.52121212],\n",
       "       [0.16616115, 0.        ],\n",
       "       [0.07464064, 0.80363636],\n",
       "       [0.21653699, 0.38363636],\n",
       "       [0.17143611, 0.5169697 ],\n",
       "       [0.48793354, 0.        ],\n",
       "       [0.21970196, 0.44121212],\n",
       "       [0.28682579, 0.48484848],\n",
       "       [0.65673216, 0.        ],\n",
       "       [0.4648556 , 0.60363636],\n",
       "       [0.3874456 , 0.        ],\n",
       "       [0.42727153, 0.        ],\n",
       "       [0.22418568, 0.        ],\n",
       "       [0.18567849, 0.5       ],\n",
       "       [0.12739021, 0.51393939],\n",
       "       [0.38085191, 0.54060606],\n",
       "       [0.79124357, 0.57818182],\n",
       "       [0.25056046, 0.        ],\n",
       "       [0.30212317, 0.        ],\n",
       "       [0.39562179, 0.        ],\n",
       "       [0.16154556, 0.58484848],\n",
       "       [0.03956218, 0.50666667],\n",
       "       [0.72266913, 0.        ],\n",
       "       [0.47474614, 0.72727273],\n",
       "       [0.69233812, 0.        ],\n",
       "       [0.33073981, 0.        ],\n",
       "       [0.        , 0.        ],\n",
       "       [0.25056046, 0.        ],\n",
       "       [0.1846235 , 0.47272727],\n",
       "       [0.30067256, 0.42848485],\n",
       "       [0.72411974, 0.        ],\n",
       "       [0.26374786, 0.54545455],\n",
       "       [0.18132665, 0.        ],\n",
       "       [0.3323223 , 0.        ],\n",
       "       [0.34036661, 0.        ],\n",
       "       [0.20651457, 0.60606061],\n",
       "       [0.32638797, 0.66060606],\n",
       "       [0.15824871, 0.        ],\n",
       "       [0.13846762, 0.50666667],\n",
       "       [0.        , 0.6230303 ],\n",
       "       [0.25385731, 0.44606061],\n",
       "       [0.11868654, 0.56969697],\n",
       "       [0.16484241, 0.54242424],\n",
       "       [1.        , 0.        ],\n",
       "       [0.30832124, 0.43212121],\n",
       "       [0.40353422, 0.        ],\n",
       "       [0.0890149 , 0.50909091],\n",
       "       [0.35896083, 0.        ],\n",
       "       [0.33126731, 0.        ],\n",
       "       [0.21970196, 0.47636364],\n",
       "       [0.33113543, 0.        ],\n",
       "       [0.15561124, 0.40787879],\n",
       "       [0.16813926, 0.49030303],\n",
       "       [0.23473559, 0.44787879],\n",
       "       [0.0956086 , 0.        ],\n",
       "       [0.69378874, 0.        ],\n",
       "       [0.28919953, 0.        ],\n",
       "       [0.31425557, 0.        ],\n",
       "       [0.1780298 , 0.        ],\n",
       "       [0.41540287, 0.        ],\n",
       "       [0.13451141, 0.        ],\n",
       "       [0.28643017, 0.48484848],\n",
       "       [0.52274825, 0.5430303 ],\n",
       "       [0.        , 0.55939394],\n",
       "       [0.50415403, 0.        ],\n",
       "       [0.05710141, 0.58424242],\n",
       "       [0.22853752, 0.        ],\n",
       "       [0.21970196, 0.46121212],\n",
       "       [0.492681  , 0.        ],\n",
       "       [0.4461295 , 0.        ],\n",
       "       [0.11604906, 1.        ],\n",
       "       [0.29421073, 0.46363636],\n",
       "       [0.48898853, 0.        ],\n",
       "       [0.48226296, 0.        ],\n",
       "       [0.34287221, 0.54545455],\n",
       "       [0.10101543, 0.7030303 ],\n",
       "       [0.69893182, 0.7030303 ],\n",
       "       [0.63536859, 0.        ],\n",
       "       [0.28563893, 0.58181818],\n",
       "       [0.20110774, 0.        ],\n",
       "       [0.38085191, 0.42424242],\n",
       "       [0.14281946, 0.6969697 ],\n",
       "       [0.        , 0.71212121],\n",
       "       [0.        , 0.43212121],\n",
       "       [0.        , 0.51636364],\n",
       "       [0.        , 0.66666667],\n",
       "       [0.        , 0.63636364],\n",
       "       [0.        , 0.65030303],\n",
       "       [0.        , 0.63030303],\n",
       "       [0.        , 0.61818182],\n",
       "       [0.        , 0.60848485]])"
      ]
     },
     "execution_count": 11,
     "metadata": {},
     "output_type": "execute_result"
    }
   ],
   "source": [
    "X"
   ]
  },
  {
   "cell_type": "code",
   "execution_count": 12,
   "metadata": {},
   "outputs": [],
   "source": [
    "import random\n",
    "class K_Means:\n",
    "    def __init__(self, k=2, tol=0.00001, max_iter=300, verbose='n', init_strategy='default'):\n",
    "        self.k = k\n",
    "        self.tolerance = tol\n",
    "        self.max_iters = max_iter\n",
    "        self.verbose = verbose\n",
    "        self.init_strategy = init_strategy\n",
    "\n",
    "    def fit(self,data):\n",
    "\n",
    "        self.centroids = {}\n",
    "\n",
    "        if (self.verbose == 'y'):\n",
    "            print ('Initial centroids are:')\n",
    "            \n",
    "        for i in range(self.k):\n",
    "            if (self.init_strategy == 'random'):   # random strategy\n",
    "                j = random.randint(0, len(data))\n",
    "                self.centroids[i] = data[j]\n",
    "            else:                                  # default strategy\n",
    "                self.centroids[i] = data[i]\n",
    "            if (self.verbose == 'y'):\n",
    "                print (self.centroids[i][0])\n",
    "                print (',')\n",
    "                print (self.centroids[i][1])\n",
    "\n",
    "        for i in range(self.max_iters):\n",
    "            self.classifications = {}\n",
    "\n",
    "            for j in range(self.k):\n",
    "                self.classifications[j] = []\n",
    "\n",
    "            for featureset in X:\n",
    "                distances = [np.linalg.norm(featureset-self.centroids[centroid]) for centroid in self.centroids]\n",
    "                classification = distances.index(min(distances))\n",
    "                self.classifications[classification].append(featureset)\n",
    "\n",
    "            prev_centroids = dict(self.centroids)\n",
    "\n",
    "            for classification in self.classifications:\n",
    "                self.centroids[classification] = np.average(self.classifications[classification],axis=0)\n",
    "\n",
    "            optimized = True\n",
    "\n",
    "            for c in self.centroids:\n",
    "                if (self.verbose == 'y'):\n",
    "                    print ('i=',i)\n",
    "                    print (self.centroids[c][0],',',self.centroids[c][1])                   \n",
    "                original_centroid = prev_centroids[c]\n",
    "                current_centroid = self.centroids[c]\n",
    "                if np.sum((current_centroid-original_centroid)/original_centroid*100.0) > self.tolerance:\n",
    "                    #print('info', np.sum((current_centroid-original_centroid)/original_centroid*100.0))\n",
    "                    optimized = False\n",
    "\n",
    "            if optimized:\n",
    "                return i # number of iterations when covergence was achieved\n",
    "                #break\n",
    "\n",
    "    def predict(self,samples):\n",
    "        classification = []\n",
    "        for data in samples :\n",
    "            distances = [np.linalg.norm(data-self.centroids[centroid]) for centroid in self.centroids]\n",
    "            classification.append(distances.index(min(distances)))\n",
    "        return classification\n",
    "    \n",
    "    def getCentroids(self) :\n",
    "        return np.array(list(self.centroids.values()))"
   ]
  },
  {
   "cell_type": "code",
   "execution_count": 13,
   "metadata": {},
   "outputs": [],
   "source": [
    "import matplotlib.pyplot as plt\n",
    "import numpy as np"
   ]
  },
  {
   "cell_type": "code",
   "execution_count": 14,
   "metadata": {},
   "outputs": [],
   "source": [
    "def displayClusters(K) :\n",
    "    kmeans = K_Means(k=K)\n",
    "    kmeans.fit(X)\n",
    "    cluster = kmeans.predict(X)\n",
    "    #print(kmeans.getCentroids())\n",
    "    plt.scatter( X[:,0],X[:,1],c=cluster,cmap='rainbow')\n",
    "    plt.scatter(kmeans.getCentroids()[:,0], kmeans.getCentroids()[:,1], color='black')\n",
    "    plt.xlabel('Average Runs Scored')\n",
    "    plt.ylabel('Bowling Economy')\n",
    "    plt.title('Clustring with Cluster Size K ='+ str(K))"
   ]
  },
  {
   "cell_type": "code",
   "execution_count": 15,
   "metadata": {},
   "outputs": [],
   "source": [
    "def getInfo(K,s):\n",
    "    if (s == 1):\n",
    "        kmeans = K_Means(k=K,verbose='n',init_strategy='random')\n",
    "    else:\n",
    "        kmeans = K_Means(k=K,verbose='n')\n",
    "    itrs = kmeans.fit(X)\n",
    "    print ('iterations:', itrs)"
   ]
  },
  {
   "cell_type": "code",
   "execution_count": 16,
   "metadata": {},
   "outputs": [
    {
     "name": "stdout",
     "output_type": "stream",
     "text": [
      "iterations: 4\n"
     ]
    },
    {
     "name": "stderr",
     "output_type": "stream",
     "text": [
      "C:\\Users\\risha\\Anaconda3\\lib\\site-packages\\ipykernel_launcher.py:52: RuntimeWarning: divide by zero encountered in true_divide\n",
      "C:\\Users\\risha\\Anaconda3\\lib\\site-packages\\ipykernel_launcher.py:52: RuntimeWarning: invalid value encountered in true_divide\n"
     ]
    }
   ],
   "source": [
    "getInfo(2,0)"
   ]
  },
  {
   "cell_type": "code",
   "execution_count": 17,
   "metadata": {},
   "outputs": [
    {
     "name": "stdout",
     "output_type": "stream",
     "text": [
      "iterations: 1\n"
     ]
    },
    {
     "name": "stderr",
     "output_type": "stream",
     "text": [
      "C:\\Users\\risha\\Anaconda3\\lib\\site-packages\\ipykernel_launcher.py:52: RuntimeWarning: invalid value encountered in true_divide\n"
     ]
    }
   ],
   "source": [
    "getInfo(2,1)"
   ]
  },
  {
   "cell_type": "markdown",
   "metadata": {},
   "source": [
    "#1 (a) Which strategy achieves better convergence (iterations count) ? Draw bar plot (X-axis has different strategies and Y-axis has iterations count).  [2 points]    "
   ]
  },
  {
   "cell_type": "code",
   "execution_count": 18,
   "metadata": {},
   "outputs": [
    {
     "data": {
      "image/png": "[encoded data removed]",
      "text/plain": [
       "<Figure size 432x288 with 1 Axes>"
      ]
     },
     "metadata": {
      "needs_background": "light"
     },
     "output_type": "display_data"
    }
   ],
   "source": [
    "import numpy as np\n",
    "import matplotlib.pyplot as plt\n",
    "\n",
    "strategies = ('Default Strategy', 'Random Strategy')\n",
    "y_pos = np.arange(len(strategies))\n",
    "iterations = [4,1]\n",
    "\n",
    "plt.bar(y_pos, iterations, align='center', alpha=0.5)\n",
    "plt.xticks(y_pos, strategies)\n",
    "plt.xlabel('Different Strategies')\n",
    "plt.ylabel('Iterations Count')\n",
    "plt.title('Performance bof Different Strategies')\n",
    "\n",
    "plt.show()"
   ]
  },
  {
   "cell_type": "markdown",
   "metadata": {},
   "source": [
    "Note that different runs will give different values, it is okay as long as student has figured out a way to output number of iterations from either their own implementation or existing library function.\n",
    "\n",
    "If a student has used existing library function also and the parameter provided by it, that is also fine.\n",
    "\n",
    "Any other strategy implemented by student is also fine."
   ]
  },
  {
   "cell_type": "markdown",
   "metadata": {},
   "source": [
    "#1 (b) Is it true for other values of K = 3,4,5,6 ? On the same bar plot, draw bars with different colors for these different values of K. [2 points]     "
   ]
  },
  {
   "cell_type": "code",
   "execution_count": 19,
   "metadata": {},
   "outputs": [
    {
     "name": "stdout",
     "output_type": "stream",
     "text": [
      "iterations: 4\n"
     ]
    },
    {
     "name": "stderr",
     "output_type": "stream",
     "text": [
      "C:\\Users\\risha\\Anaconda3\\lib\\site-packages\\ipykernel_launcher.py:52: RuntimeWarning: divide by zero encountered in true_divide\n",
      "C:\\Users\\risha\\Anaconda3\\lib\\site-packages\\ipykernel_launcher.py:52: RuntimeWarning: invalid value encountered in true_divide\n"
     ]
    }
   ],
   "source": [
    "getInfo(3,0)"
   ]
  },
  {
   "cell_type": "code",
   "execution_count": 20,
   "metadata": {},
   "outputs": [
    {
     "name": "stdout",
     "output_type": "stream",
     "text": [
      "iterations: 0\n"
     ]
    }
   ],
   "source": [
    "getInfo(3,1)"
   ]
  },
  {
   "cell_type": "code",
   "execution_count": 21,
   "metadata": {},
   "outputs": [
    {
     "name": "stdout",
     "output_type": "stream",
     "text": [
      "iterations: 4\n"
     ]
    },
    {
     "name": "stderr",
     "output_type": "stream",
     "text": [
      "C:\\Users\\risha\\Anaconda3\\lib\\site-packages\\ipykernel_launcher.py:52: RuntimeWarning: divide by zero encountered in true_divide\n",
      "C:\\Users\\risha\\Anaconda3\\lib\\site-packages\\ipykernel_launcher.py:52: RuntimeWarning: invalid value encountered in true_divide\n"
     ]
    }
   ],
   "source": [
    "getInfo(4,0)"
   ]
  },
  {
   "cell_type": "code",
   "execution_count": 22,
   "metadata": {},
   "outputs": [
    {
     "name": "stdout",
     "output_type": "stream",
     "text": [
      "iterations: 1\n"
     ]
    },
    {
     "name": "stderr",
     "output_type": "stream",
     "text": [
      "C:\\Users\\risha\\Anaconda3\\lib\\site-packages\\ipykernel_launcher.py:52: RuntimeWarning: divide by zero encountered in true_divide\n",
      "C:\\Users\\risha\\Anaconda3\\lib\\site-packages\\ipykernel_launcher.py:52: RuntimeWarning: invalid value encountered in true_divide\n"
     ]
    }
   ],
   "source": [
    "getInfo(4,1)"
   ]
  },
  {
   "cell_type": "code",
   "execution_count": 23,
   "metadata": {},
   "outputs": [
    {
     "name": "stdout",
     "output_type": "stream",
     "text": [
      "iterations: 5\n"
     ]
    },
    {
     "name": "stderr",
     "output_type": "stream",
     "text": [
      "C:\\Users\\risha\\Anaconda3\\lib\\site-packages\\ipykernel_launcher.py:52: RuntimeWarning: divide by zero encountered in true_divide\n",
      "C:\\Users\\risha\\Anaconda3\\lib\\site-packages\\ipykernel_launcher.py:52: RuntimeWarning: invalid value encountered in true_divide\n"
     ]
    }
   ],
   "source": [
    "getInfo(5,0)"
   ]
  },
  {
   "cell_type": "code",
   "execution_count": 24,
   "metadata": {},
   "outputs": [
    {
     "name": "stdout",
     "output_type": "stream",
     "text": [
      "iterations: 5\n"
     ]
    },
    {
     "name": "stderr",
     "output_type": "stream",
     "text": [
      "C:\\Users\\risha\\Anaconda3\\lib\\site-packages\\ipykernel_launcher.py:52: RuntimeWarning: divide by zero encountered in true_divide\n",
      "C:\\Users\\risha\\Anaconda3\\lib\\site-packages\\ipykernel_launcher.py:52: RuntimeWarning: invalid value encountered in true_divide\n"
     ]
    }
   ],
   "source": [
    "getInfo(5,1)"
   ]
  },
  {
   "cell_type": "code",
   "execution_count": 25,
   "metadata": {},
   "outputs": [
    {
     "name": "stdout",
     "output_type": "stream",
     "text": [
      "iterations: 3\n"
     ]
    },
    {
     "name": "stderr",
     "output_type": "stream",
     "text": [
      "C:\\Users\\risha\\Anaconda3\\lib\\site-packages\\ipykernel_launcher.py:52: RuntimeWarning: divide by zero encountered in true_divide\n",
      "C:\\Users\\risha\\Anaconda3\\lib\\site-packages\\numpy\\lib\\function_base.py:393: RuntimeWarning: Mean of empty slice.\n",
      "  avg = a.mean(axis)\n",
      "C:\\Users\\risha\\Anaconda3\\lib\\site-packages\\numpy\\core\\_methods.py:161: RuntimeWarning: invalid value encountered in double_scalars\n",
      "  ret = ret.dtype.type(ret / rcount)\n",
      "C:\\Users\\risha\\Anaconda3\\lib\\site-packages\\ipykernel_launcher.py:52: RuntimeWarning: invalid value encountered in true_divide\n"
     ]
    }
   ],
   "source": [
    "getInfo(6,0)"
   ]
  },
  {
   "cell_type": "code",
   "execution_count": 26,
   "metadata": {},
   "outputs": [
    {
     "name": "stdout",
     "output_type": "stream",
     "text": [
      "iterations: 2\n"
     ]
    },
    {
     "name": "stderr",
     "output_type": "stream",
     "text": [
      "C:\\Users\\risha\\Anaconda3\\lib\\site-packages\\ipykernel_launcher.py:52: RuntimeWarning: invalid value encountered in true_divide\n"
     ]
    }
   ],
   "source": [
    "getInfo(6,1)"
   ]
  },
  {
   "cell_type": "code",
   "execution_count": 27,
   "metadata": {},
   "outputs": [
    {
     "data": {
      "image/png": "[encoded data removed]",
      "text/plain": [
       "<Figure size 432x288 with 1 Axes>"
      ]
     },
     "metadata": {
      "needs_background": "light"
     },
     "output_type": "display_data"
    }
   ],
   "source": [
    "# Drawing bar plot (X-axis has different strategies and Y-axis has iterations count) for Different values of k i.e. K=2,3,4,5,6\n",
    "import numpy as np\n",
    "import matplotlib.pyplot as plt\n",
    "\n",
    "# set width of bar\n",
    "barWidth = 0.25\n",
    " \n",
    "# set height of bar\n",
    "bars1 = [4, 4, 4, 5, 3]\n",
    "bars2 = [1, 0, 1, 5, 2]\n",
    "\n",
    " \n",
    "# Set position of bar on X axis\n",
    "r1 = np.arange(len(bars1))\n",
    "r2 = [x + barWidth for x in r1]\n",
    "\n",
    " \n",
    "# Make the plot\n",
    "plt.bar(r1, bars1, color='green', width=barWidth, edgecolor='white', label='Default Strategy')\n",
    "plt.bar(r2, bars2, color='blue', width=barWidth, edgecolor='white', label='Random Strategy')\n",
    "\n",
    " \n",
    "# Add xticks on the middle of the group bars\n",
    "plt.xlabel('K Values', fontweight='bold')\n",
    "plt.xticks([r + barWidth for r in range(len(bars1))], ['K=2', 'K=3', 'K=4', 'K=5', 'K=6'])\n",
    "plt.ylabel('Iterations Count')\n",
    "plt.title('Performance of Different Strategies with different K values')\n",
    " \n",
    "# Create legend & Show graphic\n",
    "plt.legend()\n",
    "plt.show()"
   ]
  },
  {
   "cell_type": "markdown",
   "metadata": {},
   "source": [
    "Random strategy performs better in most of the cases, but this is needs to empirically evaluated for many runs. So, it is okay, if student are getting any values, as long as they know how to computer number of iterations for convergence."
   ]
  },
  {
   "cell_type": "markdown",
   "metadata": {},
   "source": [
    "#2 Use the elbow method to find the best value of K. Consider four attributes runs_scored, average_runs, wickets_obtained, bowling_economy.   Plot the related graph as discussed in the video lecture. [2 points]"
   ]
  },
  {
   "cell_type": "code",
   "execution_count": 28,
   "metadata": {},
   "outputs": [],
   "source": [
    "X = data_final.iloc[:, [2, 5, 10, 11]].values"
   ]
  },
  {
   "cell_type": "code",
   "execution_count": 29,
   "metadata": {},
   "outputs": [
    {
     "data": {
      "text/plain": [
       "array([[0.18231293, 0.22088883, 0.        , 0.        ],\n",
       "       [0.65306122, 0.70328366, 0.        , 0.        ],\n",
       "       [0.08571429, 0.83080575, 0.        , 0.        ],\n",
       "       [0.50340136, 0.3753132 , 0.        , 0.        ],\n",
       "       [0.20136054, 0.32520111, 0.        , 0.        ],\n",
       "       [0.81904762, 0.56705789, 0.        , 0.        ],\n",
       "       [0.42993197, 0.37874192, 0.54166667, 0.25277778],\n",
       "       [0.04353741, 0.0702888 , 1.        , 0.17277778],\n",
       "       [0.10884354, 0.17578795, 0.125     , 0.67277778],\n",
       "       [0.13061224, 0.31649743, 0.08333333, 0.77777778],\n",
       "       [0.26666667, 0.21535013, 0.33333333, 0.35064815],\n",
       "       [0.01768707, 0.08571805, 0.375     , 0.36416667],\n",
       "       [0.17278912, 0.27904523, 0.        , 0.        ],\n",
       "       [0.10204082, 0.32968482, 0.20833333, 0.17407407],\n",
       "       [0.50068027, 0.53910062, 0.        , 0.        ],\n",
       "       [0.66802721, 0.43162337, 0.        , 0.        ],\n",
       "       [0.06258503, 0.60662007, 0.125     , 0.4412963 ],\n",
       "       [0.02312925, 0.11209284, 0.33333333, 0.21990741],\n",
       "       [0.17823129, 0.34550969, 0.08333333, 0.59722222],\n",
       "       [0.08571429, 0.16616115, 0.        , 0.        ],\n",
       "       [0.02312925, 0.07464064, 0.125     , 0.35490741],\n",
       "       [0.15646259, 0.21653699, 0.04166667, 0.17592593],\n",
       "       [0.03537415, 0.17143611, 0.16666667, 0.2337963 ],\n",
       "       [0.10068027, 0.48793354, 0.        , 0.        ],\n",
       "       [0.06802721, 0.21970196, 0.41666667, 0.25740741],\n",
       "       [0.11836735, 0.28682579, 0.        , 0.        ],\n",
       "       [0.67755102, 0.65673216, 0.        , 0.        ],\n",
       "       [0.19183673, 0.4648556 , 0.58333333, 0.3525    ],\n",
       "       [0.51972789, 0.3874456 , 0.        , 0.        ],\n",
       "       [0.22040816, 0.42727153, 0.        , 0.        ],\n",
       "       [0.11564626, 0.22418568, 0.        , 0.        ],\n",
       "       [0.22993197, 0.18567849, 0.20833333, 0.24444444],\n",
       "       [0.03945578, 0.12739021, 0.29166667, 0.35712963],\n",
       "       [0.3537415 , 0.38085191, 0.75      , 0.19592593],\n",
       "       [0.08163265, 0.79124357, 0.29166667, 0.22083333],\n",
       "       [0.07755102, 0.25056046, 0.        , 0.        ],\n",
       "       [0.37414966, 0.30212317, 0.        , 0.        ],\n",
       "       [0.16326531, 0.39562179, 0.        , 0.        ],\n",
       "       [0.06666667, 0.16154556, 0.45833333, 0.40907407],\n",
       "       [0.02040816, 0.03956218, 0.625     , 0.20055556],\n",
       "       [0.74557823, 0.72266913, 0.        , 0.        ],\n",
       "       [0.04897959, 0.47474614, 0.        , 0.        ],\n",
       "       [1.        , 0.69233812, 0.        , 0.        ],\n",
       "       [0.40952381, 0.33073981, 0.        , 0.        ],\n",
       "       [0.03265306, 0.        , 0.        , 0.        ],\n",
       "       [0.18095238, 0.25056046, 0.        , 0.        ],\n",
       "       [0.17142857, 0.1846235 , 0.45833333, 0.26259259],\n",
       "       [0.31020408, 0.30067256, 0.5       , 0.21907407],\n",
       "       [0.89659864, 0.72411974, 0.        , 0.        ],\n",
       "       [0.02721088, 0.26374786, 0.        , 0.        ],\n",
       "       [0.07482993, 0.18132665, 0.        , 0.        ],\n",
       "       [0.34285714, 0.3323223 , 0.        , 0.        ],\n",
       "       [0.38639456, 0.34036661, 0.        , 0.        ],\n",
       "       [0.06394558, 0.20651457, 0.        , 0.        ],\n",
       "       [0.13469388, 0.32638797, 0.125     , 0.37037037],\n",
       "       [0.16326531, 0.15824871, 0.        , 0.        ],\n",
       "       [0.02857143, 0.13846762, 0.625     , 0.22712963],\n",
       "       [0.02176871, 0.        , 0.08333333, 1.        ],\n",
       "       [0.1047619 , 0.25385731, 0.125     , 0.29935185],\n",
       "       [0.0244898 , 0.11868654, 0.04166667, 0.43518519],\n",
       "       [0.03401361, 0.16484241, 0.45833333, 0.30888889],\n",
       "       [0.61904762, 1.        , 0.        , 0.        ],\n",
       "       [0.41360544, 0.30832124, 0.16666667, 0.10185185],\n",
       "       [0.20816327, 0.40353422, 0.        , 0.        ],\n",
       "       [0.03673469, 0.0890149 , 0.58333333, 0.27240741],\n",
       "       [0.33333333, 0.35896083, 0.        , 0.        ],\n",
       "       [0.27346939, 0.33126731, 0.        , 0.        ],\n",
       "       [0.06802721, 0.21970196, 0.25      , 0.26694444],\n",
       "       [0.30748299, 0.33113543, 0.        , 0.        ],\n",
       "       [0.08027211, 0.15561124, 0.875     , 0.20185185],\n",
       "       [0.13877551, 0.16813926, 0.41666667, 0.37962963],\n",
       "       [0.12108844, 0.23473559, 0.45833333, 0.255     ],\n",
       "       [0.03945578, 0.0956086 , 0.        , 0.        ],\n",
       "       [0.93061224, 0.69378874, 0.        , 0.        ],\n",
       "       [0.47755102, 0.28919953, 0.        , 0.        ],\n",
       "       [0.38911565, 0.31425557, 0.        , 0.        ],\n",
       "       [0.14693878, 0.1780298 , 0.        , 0.        ],\n",
       "       [0.6       , 0.41540287, 0.        , 0.        ],\n",
       "       [0.06938776, 0.13451141, 0.        , 0.        ],\n",
       "       [0.32517007, 0.28643017, 0.58333333, 0.30157407],\n",
       "       [0.75510204, 0.52274825, 0.25      , 0.38731481],\n",
       "       [0.02040816, 0.        , 0.66666667, 0.24935185],\n",
       "       [0.67619048, 0.50415403, 0.        , 0.        ],\n",
       "       [0.01768707, 0.05710141, 0.20833333, 0.5       ],\n",
       "       [0.0707483 , 0.22853752, 0.        , 0.        ],\n",
       "       [0.06802721, 0.21970196, 0.45833333, 0.19861111],\n",
       "       [0.55918367, 0.492681  , 0.        , 0.        ],\n",
       "       [0.27619048, 0.4461295 , 0.        , 0.        ],\n",
       "       [0.05986395, 0.11604906, 0.        , 0.        ],\n",
       "       [0.48571429, 0.29421073, 0.70833333, 0.25435185],\n",
       "       [0.60544218, 0.48898853, 0.        , 0.        ],\n",
       "       [0.69659864, 0.48226296, 0.        , 0.        ],\n",
       "       [0.0707483 , 0.34287221, 0.20833333, 0.48333333],\n",
       "       [0.03129252, 0.10101543, 0.25      , 0.18203704],\n",
       "       [0.28843537, 0.69893182, 0.04166667, 0.53703704],\n",
       "       [0.72108844, 0.63536859, 0.        , 0.        ],\n",
       "       [0.08843537, 0.28563893, 0.16666667, 0.44444444],\n",
       "       [0.16598639, 0.20110774, 0.        , 0.        ],\n",
       "       [0.3537415 , 0.38085191, 0.04166667, 0.12962963],\n",
       "       [0.08843537, 0.14281946, 0.        , 0.        ],\n",
       "       [0.        , 0.        , 0.        , 0.        ],\n",
       "       [0.        , 0.        , 0.5       , 0.2037037 ],\n",
       "       [0.        , 0.        , 0.45833333, 0.18768519],\n",
       "       [0.        , 0.        , 0.        , 0.        ],\n",
       "       [0.        , 0.        , 0.04166667, 0.38888889],\n",
       "       [0.        , 0.        , 0.16666667, 0.47222222],\n",
       "       [0.        , 0.        , 0.16666667, 0.53009259],\n",
       "       [0.        , 0.        , 0.20833333, 0.21111111],\n",
       "       [0.        , 0.        , 0.375     , 0.20777778]])"
      ]
     },
     "execution_count": 29,
     "metadata": {},
     "output_type": "execute_result"
    }
   ],
   "source": [
    "X"
   ]
  },
  {
   "cell_type": "code",
   "execution_count": 30,
   "metadata": {},
   "outputs": [],
   "source": [
    "from sklearn.cluster import KMeans"
   ]
  },
  {
   "cell_type": "code",
   "execution_count": 31,
   "metadata": {},
   "outputs": [
    {
     "data": {
      "image/png": "[encoded data removed]",
      "text/plain": [
       "<Figure size 432x288 with 1 Axes>"
      ]
     },
     "metadata": {
      "needs_background": "light"
     },
     "output_type": "display_data"
    }
   ],
   "source": [
    "jtheta = []\n",
    "for i in range(1, 11):\n",
    "    kmeans = KMeans(n_clusters=i, init='k-means++', max_iter=200, n_init=12, random_state=0)\n",
    "    kmeans.fit(X)\n",
    "    jtheta.append(kmeans.inertia_)\n",
    "plt.plot(range(1, 11), jtheta)\n",
    "plt.title('Elbow Method')\n",
    "plt.xlabel('Number of Clusters')\n",
    "plt.ylabel('J')\n",
    "plt.show()"
   ]
  },
  {
   "cell_type": "markdown",
   "metadata": {},
   "source": [
    "K=4 could be considered as the knee point"
   ]
  },
  {
   "cell_type": "markdown",
   "metadata": {},
   "source": [
    "# 3"
   ]
  },
  {
   "cell_type": "markdown",
   "metadata": {},
   "source": [
    "Your task is to create a team comprising 4 batsmen, 4 bowlers, and 3 all-rounders.  Use appropriate K value. Consider two attributes runs_scored and wickets_obtained. Take the criteria for selecting top batsmen on the basis of runs_scored, top bowlers on the basis of wickets_obtained and top all-rounders on the basis of average of runs_scored and wickets_obtained.  \n",
    "\n",
    "(a) Output the names of cricketers who got selected in your team. [2 points]    \n",
    "\n",
    "(b) Draw a scatter plot with runs_scored and wickets_obtained on X-axis and Y-axis, respectively. Each selected cricketer as a data point (solid circle), use different colors for batsman, bowler and all-rounder.   [2 points]"
   ]
  },
  {
   "cell_type": "code",
   "execution_count": 34,
   "metadata": {},
   "outputs": [],
   "source": [
    "X = data_final.iloc[:,[2, 10]].values"
   ]
  },
  {
   "cell_type": "code",
   "execution_count": 38,
   "metadata": {},
   "outputs": [],
   "source": [
    "K = 3\n",
    "kmeans = KMeans(n_clusters=K, init='k-means++', max_iter=100, n_init=10, random_state=0)"
   ]
  },
  {
   "cell_type": "code",
   "execution_count": 39,
   "metadata": {},
   "outputs": [
    {
     "name": "stderr",
     "output_type": "stream",
     "text": [
      "No handles with labels found to put in legend.\n"
     ]
    },
    {
     "data": {
      "image/png": "[encoded data removed]",
      "text/plain": [
       "<Figure size 2160x720 with 1 Axes>"
      ]
     },
     "metadata": {
      "needs_background": "light"
     },
     "output_type": "display_data"
    }
   ],
   "source": [
    "kmeans.fit(X)\n",
    "centroids = kmeans.cluster_centers_\n",
    "\n",
    "plt.scatter(X[:,0],X[:,1], c=kmeans.labels_, cmap='rainbow',s=150)\n",
    "plt.scatter(centroids[:, 0], centroids[:, 1], c='black', s=300)\n",
    "plt.xlabel('Runs Scored')\n",
    "plt.ylabel('Wickets Obtained')\n",
    "plt.legend()\n",
    "fig= plt.gcf()\n",
    "fig.set_size_inches(30, 10)\n",
    "plt.show()"
   ]
  },
  {
   "cell_type": "markdown",
   "metadata": {},
   "source": [
    "Here, The red dots representing batsmans and the green dots representing the baller. To get the all-rounders we will see purpule dots. This way we can select top 4 batsman from red dots, top 4 bowlers from green dots and for 3 all-rounders from purple dots."
   ]
  },
  {
   "cell_type": "code",
   "execution_count": 59,
   "metadata": {},
   "outputs": [],
   "source": [
    "df = pd.DataFrame(X)"
   ]
  },
  {
   "cell_type": "code",
   "execution_count": 62,
   "metadata": {},
   "outputs": [],
   "source": [
    "df.rename(columns = {0:'runs_scored',1:'wickets_obtained'}, inplace = True) "
   ]
  },
  {
   "cell_type": "code",
   "execution_count": 63,
   "metadata": {},
   "outputs": [
    {
     "data": {
      "text/html": [
       "<div>\n",
       "<style scoped>\n",
       "    .dataframe tbody tr th:only-of-type {\n",
       "        vertical-align: middle;\n",
       "    }\n",
       "\n",
       "    .dataframe tbody tr th {\n",
       "        vertical-align: top;\n",
       "    }\n",
       "\n",
       "    .dataframe thead th {\n",
       "        text-align: right;\n",
       "    }\n",
       "</style>\n",
       "<table border=\"1\" class=\"dataframe\">\n",
       "  <thead>\n",
       "    <tr style=\"text-align: right;\">\n",
       "      <th></th>\n",
       "      <th>runs_scored</th>\n",
       "      <th>wickets_obtained</th>\n",
       "    </tr>\n",
       "  </thead>\n",
       "  <tbody>\n",
       "    <tr>\n",
       "      <th>0</th>\n",
       "      <td>0.182313</td>\n",
       "      <td>0.000000</td>\n",
       "    </tr>\n",
       "    <tr>\n",
       "      <th>1</th>\n",
       "      <td>0.653061</td>\n",
       "      <td>0.000000</td>\n",
       "    </tr>\n",
       "    <tr>\n",
       "      <th>2</th>\n",
       "      <td>0.085714</td>\n",
       "      <td>0.000000</td>\n",
       "    </tr>\n",
       "    <tr>\n",
       "      <th>3</th>\n",
       "      <td>0.503401</td>\n",
       "      <td>0.000000</td>\n",
       "    </tr>\n",
       "    <tr>\n",
       "      <th>4</th>\n",
       "      <td>0.201361</td>\n",
       "      <td>0.000000</td>\n",
       "    </tr>\n",
       "    <tr>\n",
       "      <th>...</th>\n",
       "      <td>...</td>\n",
       "      <td>...</td>\n",
       "    </tr>\n",
       "    <tr>\n",
       "      <th>104</th>\n",
       "      <td>0.000000</td>\n",
       "      <td>0.041667</td>\n",
       "    </tr>\n",
       "    <tr>\n",
       "      <th>105</th>\n",
       "      <td>0.000000</td>\n",
       "      <td>0.166667</td>\n",
       "    </tr>\n",
       "    <tr>\n",
       "      <th>106</th>\n",
       "      <td>0.000000</td>\n",
       "      <td>0.166667</td>\n",
       "    </tr>\n",
       "    <tr>\n",
       "      <th>107</th>\n",
       "      <td>0.000000</td>\n",
       "      <td>0.208333</td>\n",
       "    </tr>\n",
       "    <tr>\n",
       "      <th>108</th>\n",
       "      <td>0.000000</td>\n",
       "      <td>0.375000</td>\n",
       "    </tr>\n",
       "  </tbody>\n",
       "</table>\n",
       "<p>109 rows × 2 columns</p>\n",
       "</div>"
      ],
      "text/plain": [
       "     runs_scored  wickets_obtained\n",
       "0       0.182313          0.000000\n",
       "1       0.653061          0.000000\n",
       "2       0.085714          0.000000\n",
       "3       0.503401          0.000000\n",
       "4       0.201361          0.000000\n",
       "..           ...               ...\n",
       "104     0.000000          0.041667\n",
       "105     0.000000          0.166667\n",
       "106     0.000000          0.166667\n",
       "107     0.000000          0.208333\n",
       "108     0.000000          0.375000\n",
       "\n",
       "[109 rows x 2 columns]"
      ]
     },
     "execution_count": 63,
     "metadata": {},
     "output_type": "execute_result"
    }
   ],
   "source": [
    "df"
   ]
  },
  {
   "cell_type": "code",
   "execution_count": 64,
   "metadata": {},
   "outputs": [],
   "source": [
    " df[2] = pd.Series(kmeans.labels_, index=df.index)"
   ]
  },
  {
   "cell_type": "code",
   "execution_count": 65,
   "metadata": {},
   "outputs": [],
   "source": [
    "df.rename(columns = {2:'cluster_id'}, inplace = True) "
   ]
  },
  {
   "cell_type": "code",
   "execution_count": 66,
   "metadata": {},
   "outputs": [
    {
     "data": {
      "text/html": [
       "<div>\n",
       "<style scoped>\n",
       "    .dataframe tbody tr th:only-of-type {\n",
       "        vertical-align: middle;\n",
       "    }\n",
       "\n",
       "    .dataframe tbody tr th {\n",
       "        vertical-align: top;\n",
       "    }\n",
       "\n",
       "    .dataframe thead th {\n",
       "        text-align: right;\n",
       "    }\n",
       "</style>\n",
       "<table border=\"1\" class=\"dataframe\">\n",
       "  <thead>\n",
       "    <tr style=\"text-align: right;\">\n",
       "      <th></th>\n",
       "      <th>runs_scored</th>\n",
       "      <th>wickets_obtained</th>\n",
       "      <th>cluster_id</th>\n",
       "    </tr>\n",
       "  </thead>\n",
       "  <tbody>\n",
       "    <tr>\n",
       "      <th>0</th>\n",
       "      <td>0.182313</td>\n",
       "      <td>0.000000</td>\n",
       "      <td>0</td>\n",
       "    </tr>\n",
       "    <tr>\n",
       "      <th>1</th>\n",
       "      <td>0.653061</td>\n",
       "      <td>0.000000</td>\n",
       "      <td>2</td>\n",
       "    </tr>\n",
       "    <tr>\n",
       "      <th>2</th>\n",
       "      <td>0.085714</td>\n",
       "      <td>0.000000</td>\n",
       "      <td>0</td>\n",
       "    </tr>\n",
       "    <tr>\n",
       "      <th>3</th>\n",
       "      <td>0.503401</td>\n",
       "      <td>0.000000</td>\n",
       "      <td>2</td>\n",
       "    </tr>\n",
       "    <tr>\n",
       "      <th>4</th>\n",
       "      <td>0.201361</td>\n",
       "      <td>0.000000</td>\n",
       "      <td>0</td>\n",
       "    </tr>\n",
       "    <tr>\n",
       "      <th>...</th>\n",
       "      <td>...</td>\n",
       "      <td>...</td>\n",
       "      <td>...</td>\n",
       "    </tr>\n",
       "    <tr>\n",
       "      <th>104</th>\n",
       "      <td>0.000000</td>\n",
       "      <td>0.041667</td>\n",
       "      <td>0</td>\n",
       "    </tr>\n",
       "    <tr>\n",
       "      <th>105</th>\n",
       "      <td>0.000000</td>\n",
       "      <td>0.166667</td>\n",
       "      <td>0</td>\n",
       "    </tr>\n",
       "    <tr>\n",
       "      <th>106</th>\n",
       "      <td>0.000000</td>\n",
       "      <td>0.166667</td>\n",
       "      <td>0</td>\n",
       "    </tr>\n",
       "    <tr>\n",
       "      <th>107</th>\n",
       "      <td>0.000000</td>\n",
       "      <td>0.208333</td>\n",
       "      <td>0</td>\n",
       "    </tr>\n",
       "    <tr>\n",
       "      <th>108</th>\n",
       "      <td>0.000000</td>\n",
       "      <td>0.375000</td>\n",
       "      <td>1</td>\n",
       "    </tr>\n",
       "  </tbody>\n",
       "</table>\n",
       "<p>109 rows × 3 columns</p>\n",
       "</div>"
      ],
      "text/plain": [
       "     runs_scored  wickets_obtained  cluster_id\n",
       "0       0.182313          0.000000           0\n",
       "1       0.653061          0.000000           2\n",
       "2       0.085714          0.000000           0\n",
       "3       0.503401          0.000000           2\n",
       "4       0.201361          0.000000           0\n",
       "..           ...               ...         ...\n",
       "104     0.000000          0.041667           0\n",
       "105     0.000000          0.166667           0\n",
       "106     0.000000          0.166667           0\n",
       "107     0.000000          0.208333           0\n",
       "108     0.000000          0.375000           1\n",
       "\n",
       "[109 rows x 3 columns]"
      ]
     },
     "execution_count": 66,
     "metadata": {},
     "output_type": "execute_result"
    }
   ],
   "source": [
    "df"
   ]
  },
  {
   "cell_type": "code",
   "execution_count": 72,
   "metadata": {},
   "outputs": [],
   "source": [
    "df['player'] = data['PLAYER']"
   ]
  },
  {
   "cell_type": "code",
   "execution_count": 73,
   "metadata": {},
   "outputs": [
    {
     "data": {
      "text/html": [
       "<div>\n",
       "<style scoped>\n",
       "    .dataframe tbody tr th:only-of-type {\n",
       "        vertical-align: middle;\n",
       "    }\n",
       "\n",
       "    .dataframe tbody tr th {\n",
       "        vertical-align: top;\n",
       "    }\n",
       "\n",
       "    .dataframe thead th {\n",
       "        text-align: right;\n",
       "    }\n",
       "</style>\n",
       "<table border=\"1\" class=\"dataframe\">\n",
       "  <thead>\n",
       "    <tr style=\"text-align: right;\">\n",
       "      <th></th>\n",
       "      <th>runs_scored</th>\n",
       "      <th>wickets_obtained</th>\n",
       "      <th>cluster_id</th>\n",
       "      <th>player</th>\n",
       "    </tr>\n",
       "  </thead>\n",
       "  <tbody>\n",
       "    <tr>\n",
       "      <th>0</th>\n",
       "      <td>0.182313</td>\n",
       "      <td>0.000000</td>\n",
       "      <td>0</td>\n",
       "      <td>Aaron Finch</td>\n",
       "    </tr>\n",
       "    <tr>\n",
       "      <th>1</th>\n",
       "      <td>0.653061</td>\n",
       "      <td>0.000000</td>\n",
       "      <td>2</td>\n",
       "      <td>AB de Villiers</td>\n",
       "    </tr>\n",
       "    <tr>\n",
       "      <th>2</th>\n",
       "      <td>0.085714</td>\n",
       "      <td>0.000000</td>\n",
       "      <td>0</td>\n",
       "      <td>Abhishek Sharma</td>\n",
       "    </tr>\n",
       "    <tr>\n",
       "      <th>3</th>\n",
       "      <td>0.503401</td>\n",
       "      <td>0.000000</td>\n",
       "      <td>2</td>\n",
       "      <td>Ajinkya Rahane</td>\n",
       "    </tr>\n",
       "    <tr>\n",
       "      <th>4</th>\n",
       "      <td>0.201361</td>\n",
       "      <td>0.000000</td>\n",
       "      <td>0</td>\n",
       "      <td>Alex Hales</td>\n",
       "    </tr>\n",
       "    <tr>\n",
       "      <th>...</th>\n",
       "      <td>...</td>\n",
       "      <td>...</td>\n",
       "      <td>...</td>\n",
       "      <td>...</td>\n",
       "    </tr>\n",
       "    <tr>\n",
       "      <th>104</th>\n",
       "      <td>0.000000</td>\n",
       "      <td>0.041667</td>\n",
       "      <td>0</td>\n",
       "      <td>Anureet Singh</td>\n",
       "    </tr>\n",
       "    <tr>\n",
       "      <th>105</th>\n",
       "      <td>0.000000</td>\n",
       "      <td>0.166667</td>\n",
       "      <td>0</td>\n",
       "      <td>Avesh Khan</td>\n",
       "    </tr>\n",
       "    <tr>\n",
       "      <th>106</th>\n",
       "      <td>0.000000</td>\n",
       "      <td>0.166667</td>\n",
       "      <td>0</td>\n",
       "      <td>Barinder Sran</td>\n",
       "    </tr>\n",
       "    <tr>\n",
       "      <th>107</th>\n",
       "      <td>0.000000</td>\n",
       "      <td>0.208333</td>\n",
       "      <td>0</td>\n",
       "      <td>Basil Thampi</td>\n",
       "    </tr>\n",
       "    <tr>\n",
       "      <th>108</th>\n",
       "      <td>0.000000</td>\n",
       "      <td>0.375000</td>\n",
       "      <td>1</td>\n",
       "      <td>Ben Laughlin</td>\n",
       "    </tr>\n",
       "  </tbody>\n",
       "</table>\n",
       "<p>109 rows × 4 columns</p>\n",
       "</div>"
      ],
      "text/plain": [
       "     runs_scored  wickets_obtained  cluster_id           player\n",
       "0       0.182313          0.000000           0      Aaron Finch\n",
       "1       0.653061          0.000000           2   AB de Villiers\n",
       "2       0.085714          0.000000           0  Abhishek Sharma\n",
       "3       0.503401          0.000000           2   Ajinkya Rahane\n",
       "4       0.201361          0.000000           0       Alex Hales\n",
       "..           ...               ...         ...              ...\n",
       "104     0.000000          0.041667           0    Anureet Singh\n",
       "105     0.000000          0.166667           0       Avesh Khan\n",
       "106     0.000000          0.166667           0    Barinder Sran\n",
       "107     0.000000          0.208333           0     Basil Thampi\n",
       "108     0.000000          0.375000           1     Ben Laughlin\n",
       "\n",
       "[109 rows x 4 columns]"
      ]
     },
     "execution_count": 73,
     "metadata": {},
     "output_type": "execute_result"
    }
   ],
   "source": [
    "df"
   ]
  },
  {
   "cell_type": "code",
   "execution_count": 75,
   "metadata": {},
   "outputs": [
    {
     "data": {
      "text/html": [
       "<div>\n",
       "<style scoped>\n",
       "    .dataframe tbody tr th:only-of-type {\n",
       "        vertical-align: middle;\n",
       "    }\n",
       "\n",
       "    .dataframe tbody tr th {\n",
       "        vertical-align: top;\n",
       "    }\n",
       "\n",
       "    .dataframe thead th {\n",
       "        text-align: right;\n",
       "    }\n",
       "</style>\n",
       "<table border=\"1\" class=\"dataframe\">\n",
       "  <thead>\n",
       "    <tr style=\"text-align: right;\">\n",
       "      <th></th>\n",
       "      <th>runs_scored</th>\n",
       "      <th>wickets_obtained</th>\n",
       "      <th>cluster_id</th>\n",
       "      <th>player</th>\n",
       "    </tr>\n",
       "  </thead>\n",
       "  <tbody>\n",
       "    <tr>\n",
       "      <th>42</th>\n",
       "      <td>1.000000</td>\n",
       "      <td>0.0</td>\n",
       "      <td>2</td>\n",
       "      <td>Kane Williamson</td>\n",
       "    </tr>\n",
       "    <tr>\n",
       "      <th>73</th>\n",
       "      <td>0.930612</td>\n",
       "      <td>0.0</td>\n",
       "      <td>2</td>\n",
       "      <td>Rishabh Pant</td>\n",
       "    </tr>\n",
       "    <tr>\n",
       "      <th>48</th>\n",
       "      <td>0.896599</td>\n",
       "      <td>0.0</td>\n",
       "      <td>2</td>\n",
       "      <td>Lokesh Rahul</td>\n",
       "    </tr>\n",
       "    <tr>\n",
       "      <th>5</th>\n",
       "      <td>0.819048</td>\n",
       "      <td>0.0</td>\n",
       "      <td>2</td>\n",
       "      <td>Ambati Rayudu</td>\n",
       "    </tr>\n",
       "  </tbody>\n",
       "</table>\n",
       "</div>"
      ],
      "text/plain": [
       "    runs_scored  wickets_obtained  cluster_id            player\n",
       "42     1.000000               0.0           2  Kane Williamson \n",
       "73     0.930612               0.0           2      Rishabh Pant\n",
       "48     0.896599               0.0           2      Lokesh Rahul\n",
       "5      0.819048               0.0           2     Ambati Rayudu"
      ]
     },
     "execution_count": 75,
     "metadata": {},
     "output_type": "execute_result"
    }
   ],
   "source": [
    "df.sort_values(['runs_scored'],ascending = False).head(4) "
   ]
  },
  {
   "cell_type": "code",
   "execution_count": 81,
   "metadata": {},
   "outputs": [
    {
     "data": {
      "text/html": [
       "<div>\n",
       "<style scoped>\n",
       "    .dataframe tbody tr th:only-of-type {\n",
       "        vertical-align: middle;\n",
       "    }\n",
       "\n",
       "    .dataframe tbody tr th {\n",
       "        vertical-align: top;\n",
       "    }\n",
       "\n",
       "    .dataframe thead th {\n",
       "        text-align: right;\n",
       "    }\n",
       "</style>\n",
       "<table border=\"1\" class=\"dataframe\">\n",
       "  <thead>\n",
       "    <tr style=\"text-align: right;\">\n",
       "      <th></th>\n",
       "      <th>runs_scored</th>\n",
       "      <th>wickets_obtained</th>\n",
       "      <th>cluster_id</th>\n",
       "      <th>player</th>\n",
       "      <th>average_performance</th>\n",
       "    </tr>\n",
       "  </thead>\n",
       "  <tbody>\n",
       "    <tr>\n",
       "      <th>42</th>\n",
       "      <td>1.000000</td>\n",
       "      <td>0.0</td>\n",
       "      <td>2</td>\n",
       "      <td>Kane Williamson</td>\n",
       "      <td>0.500000</td>\n",
       "    </tr>\n",
       "    <tr>\n",
       "      <th>73</th>\n",
       "      <td>0.930612</td>\n",
       "      <td>0.0</td>\n",
       "      <td>2</td>\n",
       "      <td>Rishabh Pant</td>\n",
       "      <td>0.465306</td>\n",
       "    </tr>\n",
       "    <tr>\n",
       "      <th>48</th>\n",
       "      <td>0.896599</td>\n",
       "      <td>0.0</td>\n",
       "      <td>2</td>\n",
       "      <td>Lokesh Rahul</td>\n",
       "      <td>0.448299</td>\n",
       "    </tr>\n",
       "    <tr>\n",
       "      <th>5</th>\n",
       "      <td>0.819048</td>\n",
       "      <td>0.0</td>\n",
       "      <td>2</td>\n",
       "      <td>Ambati Rayudu</td>\n",
       "      <td>0.409524</td>\n",
       "    </tr>\n",
       "  </tbody>\n",
       "</table>\n",
       "</div>"
      ],
      "text/plain": [
       "    runs_scored  wickets_obtained  cluster_id            player  \\\n",
       "42     1.000000               0.0           2  Kane Williamson    \n",
       "73     0.930612               0.0           2      Rishabh Pant   \n",
       "48     0.896599               0.0           2      Lokesh Rahul   \n",
       "5      0.819048               0.0           2     Ambati Rayudu   \n",
       "\n",
       "    average_performance  \n",
       "42             0.500000  \n",
       "73             0.465306  \n",
       "48             0.448299  \n",
       "5              0.409524  "
      ]
     },
     "execution_count": 81,
     "metadata": {},
     "output_type": "execute_result"
    }
   ],
   "source": [
    "df[df['cluster_id']==2].sort_values(['runs_scored'],ascending = False).head(4) "
   ]
  },
  {
   "cell_type": "code",
   "execution_count": 76,
   "metadata": {},
   "outputs": [
    {
     "data": {
      "text/html": [
       "<div>\n",
       "<style scoped>\n",
       "    .dataframe tbody tr th:only-of-type {\n",
       "        vertical-align: middle;\n",
       "    }\n",
       "\n",
       "    .dataframe tbody tr th {\n",
       "        vertical-align: top;\n",
       "    }\n",
       "\n",
       "    .dataframe thead th {\n",
       "        text-align: right;\n",
       "    }\n",
       "</style>\n",
       "<table border=\"1\" class=\"dataframe\">\n",
       "  <thead>\n",
       "    <tr style=\"text-align: right;\">\n",
       "      <th></th>\n",
       "      <th>runs_scored</th>\n",
       "      <th>wickets_obtained</th>\n",
       "      <th>cluster_id</th>\n",
       "      <th>player</th>\n",
       "    </tr>\n",
       "  </thead>\n",
       "  <tbody>\n",
       "    <tr>\n",
       "      <th>7</th>\n",
       "      <td>0.043537</td>\n",
       "      <td>1.000000</td>\n",
       "      <td>1</td>\n",
       "      <td>Andrew Tye</td>\n",
       "    </tr>\n",
       "    <tr>\n",
       "      <th>69</th>\n",
       "      <td>0.080272</td>\n",
       "      <td>0.875000</td>\n",
       "      <td>1</td>\n",
       "      <td>Rashid Khan</td>\n",
       "    </tr>\n",
       "    <tr>\n",
       "      <th>33</th>\n",
       "      <td>0.353741</td>\n",
       "      <td>0.750000</td>\n",
       "      <td>1</td>\n",
       "      <td>Hardik Pandya</td>\n",
       "    </tr>\n",
       "    <tr>\n",
       "      <th>89</th>\n",
       "      <td>0.485714</td>\n",
       "      <td>0.708333</td>\n",
       "      <td>1</td>\n",
       "      <td>Sunil 0rine</td>\n",
       "    </tr>\n",
       "  </tbody>\n",
       "</table>\n",
       "</div>"
      ],
      "text/plain": [
       "    runs_scored  wickets_obtained  cluster_id         player\n",
       "7      0.043537          1.000000           1     Andrew Tye\n",
       "69     0.080272          0.875000           1    Rashid Khan\n",
       "33     0.353741          0.750000           1  Hardik Pandya\n",
       "89     0.485714          0.708333           1    Sunil 0rine"
      ]
     },
     "execution_count": 76,
     "metadata": {},
     "output_type": "execute_result"
    }
   ],
   "source": [
    "df.sort_values(['wickets_obtained'],ascending = False).head(4) "
   ]
  },
  {
   "cell_type": "code",
   "execution_count": 82,
   "metadata": {},
   "outputs": [
    {
     "data": {
      "text/html": [
       "<div>\n",
       "<style scoped>\n",
       "    .dataframe tbody tr th:only-of-type {\n",
       "        vertical-align: middle;\n",
       "    }\n",
       "\n",
       "    .dataframe tbody tr th {\n",
       "        vertical-align: top;\n",
       "    }\n",
       "\n",
       "    .dataframe thead th {\n",
       "        text-align: right;\n",
       "    }\n",
       "</style>\n",
       "<table border=\"1\" class=\"dataframe\">\n",
       "  <thead>\n",
       "    <tr style=\"text-align: right;\">\n",
       "      <th></th>\n",
       "      <th>runs_scored</th>\n",
       "      <th>wickets_obtained</th>\n",
       "      <th>cluster_id</th>\n",
       "      <th>player</th>\n",
       "      <th>average_performance</th>\n",
       "    </tr>\n",
       "  </thead>\n",
       "  <tbody>\n",
       "    <tr>\n",
       "      <th>7</th>\n",
       "      <td>0.043537</td>\n",
       "      <td>1.000000</td>\n",
       "      <td>1</td>\n",
       "      <td>Andrew Tye</td>\n",
       "      <td>0.521769</td>\n",
       "    </tr>\n",
       "    <tr>\n",
       "      <th>69</th>\n",
       "      <td>0.080272</td>\n",
       "      <td>0.875000</td>\n",
       "      <td>1</td>\n",
       "      <td>Rashid Khan</td>\n",
       "      <td>0.477636</td>\n",
       "    </tr>\n",
       "    <tr>\n",
       "      <th>33</th>\n",
       "      <td>0.353741</td>\n",
       "      <td>0.750000</td>\n",
       "      <td>1</td>\n",
       "      <td>Hardik Pandya</td>\n",
       "      <td>0.551871</td>\n",
       "    </tr>\n",
       "    <tr>\n",
       "      <th>89</th>\n",
       "      <td>0.485714</td>\n",
       "      <td>0.708333</td>\n",
       "      <td>1</td>\n",
       "      <td>Sunil 0rine</td>\n",
       "      <td>0.597024</td>\n",
       "    </tr>\n",
       "  </tbody>\n",
       "</table>\n",
       "</div>"
      ],
      "text/plain": [
       "    runs_scored  wickets_obtained  cluster_id         player  \\\n",
       "7      0.043537          1.000000           1     Andrew Tye   \n",
       "69     0.080272          0.875000           1    Rashid Khan   \n",
       "33     0.353741          0.750000           1  Hardik Pandya   \n",
       "89     0.485714          0.708333           1    Sunil 0rine   \n",
       "\n",
       "    average_performance  \n",
       "7              0.521769  \n",
       "69             0.477636  \n",
       "33             0.551871  \n",
       "89             0.597024  "
      ]
     },
     "execution_count": 82,
     "metadata": {},
     "output_type": "execute_result"
    }
   ],
   "source": [
    "df[df['cluster_id']==1].sort_values(['wickets_obtained'],ascending = False).head(4) "
   ]
  },
  {
   "cell_type": "code",
   "execution_count": 77,
   "metadata": {},
   "outputs": [],
   "source": [
    "df['average_performance'] = df[['runs_scored', 'wickets_obtained']].mean(axis=1)"
   ]
  },
  {
   "cell_type": "code",
   "execution_count": 78,
   "metadata": {},
   "outputs": [
    {
     "data": {
      "text/html": [
       "<div>\n",
       "<style scoped>\n",
       "    .dataframe tbody tr th:only-of-type {\n",
       "        vertical-align: middle;\n",
       "    }\n",
       "\n",
       "    .dataframe tbody tr th {\n",
       "        vertical-align: top;\n",
       "    }\n",
       "\n",
       "    .dataframe thead th {\n",
       "        text-align: right;\n",
       "    }\n",
       "</style>\n",
       "<table border=\"1\" class=\"dataframe\">\n",
       "  <thead>\n",
       "    <tr style=\"text-align: right;\">\n",
       "      <th></th>\n",
       "      <th>runs_scored</th>\n",
       "      <th>wickets_obtained</th>\n",
       "      <th>cluster_id</th>\n",
       "      <th>player</th>\n",
       "      <th>average_performance</th>\n",
       "    </tr>\n",
       "  </thead>\n",
       "  <tbody>\n",
       "    <tr>\n",
       "      <th>0</th>\n",
       "      <td>0.182313</td>\n",
       "      <td>0.000000</td>\n",
       "      <td>0</td>\n",
       "      <td>Aaron Finch</td>\n",
       "      <td>0.091156</td>\n",
       "    </tr>\n",
       "    <tr>\n",
       "      <th>1</th>\n",
       "      <td>0.653061</td>\n",
       "      <td>0.000000</td>\n",
       "      <td>2</td>\n",
       "      <td>AB de Villiers</td>\n",
       "      <td>0.326531</td>\n",
       "    </tr>\n",
       "    <tr>\n",
       "      <th>2</th>\n",
       "      <td>0.085714</td>\n",
       "      <td>0.000000</td>\n",
       "      <td>0</td>\n",
       "      <td>Abhishek Sharma</td>\n",
       "      <td>0.042857</td>\n",
       "    </tr>\n",
       "    <tr>\n",
       "      <th>3</th>\n",
       "      <td>0.503401</td>\n",
       "      <td>0.000000</td>\n",
       "      <td>2</td>\n",
       "      <td>Ajinkya Rahane</td>\n",
       "      <td>0.251701</td>\n",
       "    </tr>\n",
       "    <tr>\n",
       "      <th>4</th>\n",
       "      <td>0.201361</td>\n",
       "      <td>0.000000</td>\n",
       "      <td>0</td>\n",
       "      <td>Alex Hales</td>\n",
       "      <td>0.100680</td>\n",
       "    </tr>\n",
       "    <tr>\n",
       "      <th>...</th>\n",
       "      <td>...</td>\n",
       "      <td>...</td>\n",
       "      <td>...</td>\n",
       "      <td>...</td>\n",
       "      <td>...</td>\n",
       "    </tr>\n",
       "    <tr>\n",
       "      <th>104</th>\n",
       "      <td>0.000000</td>\n",
       "      <td>0.041667</td>\n",
       "      <td>0</td>\n",
       "      <td>Anureet Singh</td>\n",
       "      <td>0.020833</td>\n",
       "    </tr>\n",
       "    <tr>\n",
       "      <th>105</th>\n",
       "      <td>0.000000</td>\n",
       "      <td>0.166667</td>\n",
       "      <td>0</td>\n",
       "      <td>Avesh Khan</td>\n",
       "      <td>0.083333</td>\n",
       "    </tr>\n",
       "    <tr>\n",
       "      <th>106</th>\n",
       "      <td>0.000000</td>\n",
       "      <td>0.166667</td>\n",
       "      <td>0</td>\n",
       "      <td>Barinder Sran</td>\n",
       "      <td>0.083333</td>\n",
       "    </tr>\n",
       "    <tr>\n",
       "      <th>107</th>\n",
       "      <td>0.000000</td>\n",
       "      <td>0.208333</td>\n",
       "      <td>0</td>\n",
       "      <td>Basil Thampi</td>\n",
       "      <td>0.104167</td>\n",
       "    </tr>\n",
       "    <tr>\n",
       "      <th>108</th>\n",
       "      <td>0.000000</td>\n",
       "      <td>0.375000</td>\n",
       "      <td>1</td>\n",
       "      <td>Ben Laughlin</td>\n",
       "      <td>0.187500</td>\n",
       "    </tr>\n",
       "  </tbody>\n",
       "</table>\n",
       "<p>109 rows × 5 columns</p>\n",
       "</div>"
      ],
      "text/plain": [
       "     runs_scored  wickets_obtained  cluster_id           player  \\\n",
       "0       0.182313          0.000000           0      Aaron Finch   \n",
       "1       0.653061          0.000000           2   AB de Villiers   \n",
       "2       0.085714          0.000000           0  Abhishek Sharma   \n",
       "3       0.503401          0.000000           2   Ajinkya Rahane   \n",
       "4       0.201361          0.000000           0       Alex Hales   \n",
       "..           ...               ...         ...              ...   \n",
       "104     0.000000          0.041667           0    Anureet Singh   \n",
       "105     0.000000          0.166667           0       Avesh Khan   \n",
       "106     0.000000          0.166667           0    Barinder Sran   \n",
       "107     0.000000          0.208333           0     Basil Thampi   \n",
       "108     0.000000          0.375000           1     Ben Laughlin   \n",
       "\n",
       "     average_performance  \n",
       "0               0.091156  \n",
       "1               0.326531  \n",
       "2               0.042857  \n",
       "3               0.251701  \n",
       "4               0.100680  \n",
       "..                   ...  \n",
       "104             0.020833  \n",
       "105             0.083333  \n",
       "106             0.083333  \n",
       "107             0.104167  \n",
       "108             0.187500  \n",
       "\n",
       "[109 rows x 5 columns]"
      ]
     },
     "execution_count": 78,
     "metadata": {},
     "output_type": "execute_result"
    }
   ],
   "source": [
    "df"
   ]
  },
  {
   "cell_type": "code",
   "execution_count": 79,
   "metadata": {},
   "outputs": [
    {
     "data": {
      "text/html": [
       "<div>\n",
       "<style scoped>\n",
       "    .dataframe tbody tr th:only-of-type {\n",
       "        vertical-align: middle;\n",
       "    }\n",
       "\n",
       "    .dataframe tbody tr th {\n",
       "        vertical-align: top;\n",
       "    }\n",
       "\n",
       "    .dataframe thead th {\n",
       "        text-align: right;\n",
       "    }\n",
       "</style>\n",
       "<table border=\"1\" class=\"dataframe\">\n",
       "  <thead>\n",
       "    <tr style=\"text-align: right;\">\n",
       "      <th></th>\n",
       "      <th>runs_scored</th>\n",
       "      <th>wickets_obtained</th>\n",
       "      <th>cluster_id</th>\n",
       "      <th>player</th>\n",
       "      <th>average_performance</th>\n",
       "    </tr>\n",
       "  </thead>\n",
       "  <tbody>\n",
       "    <tr>\n",
       "      <th>89</th>\n",
       "      <td>0.485714</td>\n",
       "      <td>0.708333</td>\n",
       "      <td>1</td>\n",
       "      <td>Sunil 0rine</td>\n",
       "      <td>0.597024</td>\n",
       "    </tr>\n",
       "    <tr>\n",
       "      <th>33</th>\n",
       "      <td>0.353741</td>\n",
       "      <td>0.750000</td>\n",
       "      <td>1</td>\n",
       "      <td>Hardik Pandya</td>\n",
       "      <td>0.551871</td>\n",
       "    </tr>\n",
       "    <tr>\n",
       "      <th>7</th>\n",
       "      <td>0.043537</td>\n",
       "      <td>1.000000</td>\n",
       "      <td>1</td>\n",
       "      <td>Andrew Tye</td>\n",
       "      <td>0.521769</td>\n",
       "    </tr>\n",
       "  </tbody>\n",
       "</table>\n",
       "</div>"
      ],
      "text/plain": [
       "    runs_scored  wickets_obtained  cluster_id         player  \\\n",
       "89     0.485714          0.708333           1    Sunil 0rine   \n",
       "33     0.353741          0.750000           1  Hardik Pandya   \n",
       "7      0.043537          1.000000           1     Andrew Tye   \n",
       "\n",
       "    average_performance  \n",
       "89             0.597024  \n",
       "33             0.551871  \n",
       "7              0.521769  "
      ]
     },
     "execution_count": 79,
     "metadata": {},
     "output_type": "execute_result"
    }
   ],
   "source": [
    "df.sort_values(['average_performance'],ascending = False).head(3) "
   ]
  },
  {
   "cell_type": "code",
   "execution_count": 83,
   "metadata": {},
   "outputs": [
    {
     "data": {
      "text/html": [
       "<div>\n",
       "<style scoped>\n",
       "    .dataframe tbody tr th:only-of-type {\n",
       "        vertical-align: middle;\n",
       "    }\n",
       "\n",
       "    .dataframe tbody tr th {\n",
       "        vertical-align: top;\n",
       "    }\n",
       "\n",
       "    .dataframe thead th {\n",
       "        text-align: right;\n",
       "    }\n",
       "</style>\n",
       "<table border=\"1\" class=\"dataframe\">\n",
       "  <thead>\n",
       "    <tr style=\"text-align: right;\">\n",
       "      <th></th>\n",
       "      <th>runs_scored</th>\n",
       "      <th>wickets_obtained</th>\n",
       "      <th>cluster_id</th>\n",
       "      <th>player</th>\n",
       "      <th>average_performance</th>\n",
       "    </tr>\n",
       "  </thead>\n",
       "  <tbody>\n",
       "    <tr>\n",
       "      <th>31</th>\n",
       "      <td>0.229932</td>\n",
       "      <td>0.208333</td>\n",
       "      <td>0</td>\n",
       "      <td>Glenn Maxwell</td>\n",
       "      <td>0.219133</td>\n",
       "    </tr>\n",
       "    <tr>\n",
       "      <th>98</th>\n",
       "      <td>0.353741</td>\n",
       "      <td>0.041667</td>\n",
       "      <td>0</td>\n",
       "      <td>Yusuf Pathan</td>\n",
       "      <td>0.197704</td>\n",
       "    </tr>\n",
       "    <tr>\n",
       "      <th>34</th>\n",
       "      <td>0.081633</td>\n",
       "      <td>0.291667</td>\n",
       "      <td>0</td>\n",
       "      <td>Harshal Patel</td>\n",
       "      <td>0.186650</td>\n",
       "    </tr>\n",
       "  </tbody>\n",
       "</table>\n",
       "</div>"
      ],
      "text/plain": [
       "    runs_scored  wickets_obtained  cluster_id         player  \\\n",
       "31     0.229932          0.208333           0  Glenn Maxwell   \n",
       "98     0.353741          0.041667           0   Yusuf Pathan   \n",
       "34     0.081633          0.291667           0  Harshal Patel   \n",
       "\n",
       "    average_performance  \n",
       "31             0.219133  \n",
       "98             0.197704  \n",
       "34             0.186650  "
      ]
     },
     "execution_count": 83,
     "metadata": {},
     "output_type": "execute_result"
    }
   ],
   "source": [
    "df[df['cluster_id']==0].sort_values(['average_performance'],ascending = False).head(3) "
   ]
  }
 ],
 "metadata": {
  "kernelspec": {
   "display_name": "Python 3",
   "language": "python",
   "name": "python3"
  },
  "language_info": {
   "codemirror_mode": {
    "name": "ipython",
    "version": 3
   },
   "file_extension": ".py",
   "mimetype": "text/x-python",
   "name": "python",
   "nbconvert_exporter": "python",
   "pygments_lexer": "ipython3",
   "version": "3.7.6"
  }
 },
 "nbformat": 4,
 "nbformat_minor": 2
}
