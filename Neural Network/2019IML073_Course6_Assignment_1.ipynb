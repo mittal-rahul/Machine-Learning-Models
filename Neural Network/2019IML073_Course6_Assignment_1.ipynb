{
 "cells": [
  {
   "cell_type": "markdown",
   "metadata": {},
   "source": [
    "# Q1. Train a Perceptron.\n",
    "## 1) Implement the perceptron training rule and get the appropriate parameters for\n",
    "## a single perceptron."
   ]
  },
  {
   "cell_type": "code",
   "execution_count": 180,
   "metadata": {},
   "outputs": [],
   "source": [
    "import numpy as np\n",
    "import matplotlib.pyplot as plt"
   ]
  },
  {
   "cell_type": "code",
   "execution_count": 181,
   "metadata": {},
   "outputs": [],
   "source": [
    "data = ([2,3,0],[4,5,0],[11,11,1], [4,11,1], [12,5,0], [5,2,0], [6,1,0],[6,3,0],[2,10,1],[4,7,1],\n",
    "                [13,8,0],[1,6,1],[6,9,1],[10,12,1],[8,3,0],[2,8,1])"
   ]
  },
  {
   "cell_type": "code",
   "execution_count": 182,
   "metadata": {},
   "outputs": [],
   "source": [
    "data = np.asarray(data)"
   ]
  },
  {
   "cell_type": "code",
   "execution_count": 204,
   "metadata": {},
   "outputs": [],
   "source": [
    "def perceptron(data, num_iter,l_rate):\n",
    "    features = data[:, :-1]\n",
    "    labels = data[:, -1]\n",
    "    \n",
    "    # initialize weights as zero\n",
    "    w = np.zeros(shape=(1, features.shape[1]+1))\n",
    "    misclassified_ = [] \n",
    "  \n",
    "    for epoch in range(num_iter):\n",
    "        misclassified = 0\n",
    "        for x, label in zip(features, labels):\n",
    "            x = np.insert(x,0,1)\n",
    "            y = np.dot(w, x.transpose())\n",
    "            target = 1.0 if (y > 0) else 0.0\n",
    "            delta = (label - target)\n",
    "            if(delta): # misclassified\n",
    "                misclassified += 1\n",
    "                w += l_rate*(delta * x)\n",
    "        misclassified_.append(misclassified)\n",
    "    return (w, misclassified_)\n",
    "             \n",
    "num_iter = 100\n",
    "l_rate = 0.001\n",
    "w, misclassified_ = perceptron(data, num_iter, l_rate)"
   ]
  },
  {
   "cell_type": "code",
   "execution_count": 205,
   "metadata": {},
   "outputs": [
    {
     "data": {
      "image/png": "[encoded data removed]",
      "text/plain": [
       "<Figure size 432x288 with 1 Axes>"
      ]
     },
     "metadata": {
      "needs_background": "light"
     },
     "output_type": "display_data"
    }
   ],
   "source": [
    "epochs = np.arange(1, num_iter+1)\n",
    "plt.plot(epochs, misclassified_)\n",
    "plt.xlabel('iterations')\n",
    "plt.ylabel('misclassified')\n",
    "plt.show()"
   ]
  },
  {
   "cell_type": "code",
   "execution_count": 206,
   "metadata": {},
   "outputs": [
    {
     "name": "stdout",
     "output_type": "stream",
     "text": [
      "The weights after training perceptron are obtained as: [[-0.076 -0.036  0.043]]\n"
     ]
    }
   ],
   "source": [
    "print('The weights after training perceptron are obtained as:', w)"
   ]
  },
  {
   "cell_type": "markdown",
   "metadata": {},
   "source": [
    "## 2) Implement Delta rule / Widrow-Hoff batch update rule."
   ]
  },
  {
   "cell_type": "code",
   "execution_count": 501,
   "metadata": {},
   "outputs": [],
   "source": [
    "class Perceptron(object):\n",
    "    def __init__(self, rate=0.01, niter=100):\n",
    "        self.rate = rate\n",
    "        self.niter = niter\n",
    "\n",
    "    def fit(self, X, y):\n",
    "        \"\"\"Fit training data\n",
    "        X : Training vectors, X.shape : [#samples, #features]\n",
    "        y : Target values, y.shape : [#samples]\n",
    "        \"\"\"\n",
    "        # weights\n",
    "        self.weight = np.zeros(1 + X.shape[1])\n",
    "        \n",
    "        # Number of misclassifications\n",
    "        self.errors = []  # Number of misclassifications\n",
    "\n",
    "        for i in range(self.niter):\n",
    "            delta_w = 0\n",
    "            err = 0\n",
    "            for xi, target in zip(X, y):\n",
    "                xi = np.insert(xi,0,1)\n",
    "                delta_w += (target - self.net_input(xi)) * xi\n",
    "            self.weight += self.rate * delta_w\n",
    "            for xi, target in zip(X, y):\n",
    "                xi = np.insert(xi,0,1)\n",
    "                err += int((target - self.predict(xi)) != 0.0)\n",
    "            self.errors.append(err)\n",
    "        return self\n",
    "    \n",
    "    def net_input(self, X):\n",
    "        \"\"\"Calculate net input\"\"\"\n",
    "        return np.dot(X[1:], self.weight[1:]) + self.weight[0]\n",
    "\n",
    "    def predict(self, X):\n",
    "        \"\"\"Return class label after unit step\"\"\"\n",
    "        return np.where(self.net_input(X) >= 0.0, 1, 0)"
   ]
  },
  {
   "cell_type": "code",
   "execution_count": 502,
   "metadata": {},
   "outputs": [],
   "source": [
    "l_rate = 0.001\n",
    "num_iter = 100\n",
    "pred = Perceptron(l_rate, num_iter) \n",
    "features = data[:, :-1]\n",
    "labels = data[:, -1]"
   ]
  },
  {
   "cell_type": "code",
   "execution_count": 503,
   "metadata": {},
   "outputs": [
    {
     "data": {
      "image/png": "[encoded data removed]",
      "text/plain": [
       "<Figure size 432x288 with 1 Axes>"
      ]
     },
     "metadata": {
      "needs_background": "light"
     },
     "output_type": "display_data"
    }
   ],
   "source": [
    "pred.fit(features, labels)\n",
    "epochs = np.arange(1, num_iter+1)\n",
    "plt.plot(epochs, pred.errors)\n",
    "plt.xlabel('iterations')\n",
    "plt.ylabel('misclassified')\n",
    "plt.show()"
   ]
  },
  {
   "cell_type": "code",
   "execution_count": 504,
   "metadata": {},
   "outputs": [
    {
     "name": "stdout",
     "output_type": "stream",
     "text": [
      "The weights after training perceptron using Delta rule is obtained as: [ 0.00643078 -0.05668382  0.12827416]\n"
     ]
    }
   ],
   "source": [
    "print('The weights after training perceptron using Delta rule is obtained as:',pred.weight)"
   ]
  },
  {
   "cell_type": "markdown",
   "metadata": {},
   "source": [
    "## 3) Compare the results obtained through the two rules."
   ]
  },
  {
   "cell_type": "code",
   "execution_count": 320,
   "metadata": {},
   "outputs": [
    {
     "data": {
      "image/png": "[encoded data removed]",
      "text/plain": [
       "<Figure size 432x288 with 1 Axes>"
      ]
     },
     "metadata": {
      "needs_background": "light"
     },
     "output_type": "display_data"
    }
   ],
   "source": [
    "epochs = np.arange(1, num_iter+1)\n",
    "plt.plot(epochs, misclassified_)\n",
    "plt.xlabel('iterations')\n",
    "plt.ylabel('misclassified')\n",
    "plt.title('Error in perceptron training')\n",
    "plt.show()"
   ]
  },
  {
   "cell_type": "code",
   "execution_count": 321,
   "metadata": {},
   "outputs": [
    {
     "data": {
      "image/png": "[encoded data removed]",
      "text/plain": [
       "<Figure size 432x288 with 1 Axes>"
      ]
     },
     "metadata": {
      "needs_background": "light"
     },
     "output_type": "display_data"
    }
   ],
   "source": [
    "pred.fit(features, labels)\n",
    "epochs = np.arange(1, num_iter+1)\n",
    "plt.plot(epochs, pred.errors)\n",
    "plt.xlabel('iterations')\n",
    "plt.ylabel('misclassified')\n",
    "plt.title('Error in perceptron training using Delta rule')\n",
    "plt.show()"
   ]
  },
  {
   "cell_type": "markdown",
   "metadata": {},
   "source": [
    "### As we can see in the above two graphs, the performance of the perceptron training using first algorithm is better for this data. The Delta rule algorithm converged to the least error as 4 while the fisrt algorithm converged to 0 error."
   ]
  },
  {
   "cell_type": "markdown",
   "metadata": {},
   "source": [
    "## 4) Plot the data points and the obtained decision boundary. "
   ]
  },
  {
   "cell_type": "code",
   "execution_count": 507,
   "metadata": {},
   "outputs": [],
   "source": [
    "from matplotlib.colors import ListedColormap\n",
    "\n",
    "def plot_decision_regions(X, y, algorithm, resolution=0.02):\n",
    "    # setup marker generator and color map\n",
    "    markers = ('s', 'x', 'o', '^', 'v')\n",
    "    colors = ('red', 'blue')\n",
    "    cmap = ListedColormap(colors[:len(np.unique(y))])\n",
    "\n",
    "    # plot the decision surface\n",
    "    x1_min, x1_max = X[:, 0].min() - 1, X[:, 0].max() + 1\n",
    "    x2_min, x2_max = X[:, 1].min() - 1, X[:, 1].max() + 1\n",
    "    xx1, xx2 = np.meshgrid(np.arange(x1_min, x1_max, resolution),\n",
    "                           np.arange(x2_min, x2_max, resolution))\n",
    "    Z = algorithm.predict(np.array([1,xx1.ravel(), xx2.ravel()]).T)\n",
    "    Z = Z.reshape(xx1.shape)\n",
    "    plt.contourf(xx1, xx2, Z, alpha=0.4, cmap=cmap)\n",
    "    plt.xlim(xx1.min(), xx1.max())\n",
    "    plt.ylim(xx2.min(), xx2.max())\n",
    "\n",
    "    # plot class samples\n",
    "    for idx, cl in enumerate(np.unique(y)):\n",
    "        plt.scatter(x=X[y == cl, 0], y=X[y == cl, 1],\n",
    "                    alpha=0.8, c=cmap(idx),\n",
    "                    marker=markers[idx], label=cl)"
   ]
  },
  {
   "cell_type": "code",
   "execution_count": 508,
   "metadata": {},
   "outputs": [
    {
     "name": "stderr",
     "output_type": "stream",
     "text": [
      "'c' argument looks like a single numeric RGB or RGBA sequence, which should be avoided as value-mapping will have precedence in case its length matches with 'x' & 'y'.  Please use a 2-D array with a single row if you really want to specify the same RGB or RGBA value for all points.\n",
      "'c' argument looks like a single numeric RGB or RGBA sequence, which should be avoided as value-mapping will have precedence in case its length matches with 'x' & 'y'.  Please use a 2-D array with a single row if you really want to specify the same RGB or RGBA value for all points.\n"
     ]
    },
    {
     "data": {
      "image/png": "[encoded data removed]",
      "text/plain": [
       "<Figure size 432x288 with 1 Axes>"
      ]
     },
     "metadata": {
      "needs_background": "light"
     },
     "output_type": "display_data"
    }
   ],
   "source": [
    "plot_decision_regions(features, labels, pred)\n",
    "plt.xlabel('x1')\n",
    "plt.ylabel('x2')\n",
    "plt.title('Decision boundary of perceptron using Delta rule')\n",
    "plt.legend(loc='upper left')\n",
    "plt.show()"
   ]
  },
  {
   "cell_type": "markdown",
   "metadata": {},
   "source": [
    "## 5) Draw the schematic diagram of the trained perceptron with learned\n",
    "## weights."
   ]
  },
  {
   "attachments": {
    "Asignment%201%20Q1.png": {
     "image/png": "[encoded data removed]"
    }
   },
   "cell_type": "markdown",
   "metadata": {},
   "source": [
    "![Asignment%201%20Q1.png](attachment:Asignment%201%20Q1.png)"
   ]
  },
  {
   "cell_type": "markdown",
   "metadata": {},
   "source": [
    "# Q2. Design a neural network to classify flowers from Iris dataset.\n",
    "## 1) Implement a single hidden layer MLP. Final output layer will have 3 neurons,\n",
    "## one for each result."
   ]
  },
  {
   "cell_type": "code",
   "execution_count": 1,
   "metadata": {},
   "outputs": [],
   "source": [
    "import pandas as pd\n",
    "url = \"https://archive.ics.uci.edu/ml/machine-learning-databases/iris/iris.data\"\n",
    "names = ['sepal-length', 'sepal-width','petal-length', 'petal-width', 'Class']\n",
    "irisdata = pd.read_csv(url,names=names)"
   ]
  },
  {
   "cell_type": "code",
   "execution_count": 2,
   "metadata": {},
   "outputs": [
    {
     "data": {
      "text/html": [
       "<div>\n",
       "<style scoped>\n",
       "    .dataframe tbody tr th:only-of-type {\n",
       "        vertical-align: middle;\n",
       "    }\n",
       "\n",
       "    .dataframe tbody tr th {\n",
       "        vertical-align: top;\n",
       "    }\n",
       "\n",
       "    .dataframe thead th {\n",
       "        text-align: right;\n",
       "    }\n",
       "</style>\n",
       "<table border=\"1\" class=\"dataframe\">\n",
       "  <thead>\n",
       "    <tr style=\"text-align: right;\">\n",
       "      <th></th>\n",
       "      <th>sepal-length</th>\n",
       "      <th>sepal-width</th>\n",
       "      <th>petal-length</th>\n",
       "      <th>petal-width</th>\n",
       "      <th>Class</th>\n",
       "    </tr>\n",
       "  </thead>\n",
       "  <tbody>\n",
       "    <tr>\n",
       "      <th>0</th>\n",
       "      <td>5.1</td>\n",
       "      <td>3.5</td>\n",
       "      <td>1.4</td>\n",
       "      <td>0.2</td>\n",
       "      <td>Iris-setosa</td>\n",
       "    </tr>\n",
       "    <tr>\n",
       "      <th>1</th>\n",
       "      <td>4.9</td>\n",
       "      <td>3.0</td>\n",
       "      <td>1.4</td>\n",
       "      <td>0.2</td>\n",
       "      <td>Iris-setosa</td>\n",
       "    </tr>\n",
       "    <tr>\n",
       "      <th>2</th>\n",
       "      <td>4.7</td>\n",
       "      <td>3.2</td>\n",
       "      <td>1.3</td>\n",
       "      <td>0.2</td>\n",
       "      <td>Iris-setosa</td>\n",
       "    </tr>\n",
       "    <tr>\n",
       "      <th>3</th>\n",
       "      <td>4.6</td>\n",
       "      <td>3.1</td>\n",
       "      <td>1.5</td>\n",
       "      <td>0.2</td>\n",
       "      <td>Iris-setosa</td>\n",
       "    </tr>\n",
       "    <tr>\n",
       "      <th>4</th>\n",
       "      <td>5.0</td>\n",
       "      <td>3.6</td>\n",
       "      <td>1.4</td>\n",
       "      <td>0.2</td>\n",
       "      <td>Iris-setosa</td>\n",
       "    </tr>\n",
       "  </tbody>\n",
       "</table>\n",
       "</div>"
      ],
      "text/plain": [
       "   sepal-length  sepal-width  petal-length  petal-width        Class\n",
       "0           5.1          3.5           1.4          0.2  Iris-setosa\n",
       "1           4.9          3.0           1.4          0.2  Iris-setosa\n",
       "2           4.7          3.2           1.3          0.2  Iris-setosa\n",
       "3           4.6          3.1           1.5          0.2  Iris-setosa\n",
       "4           5.0          3.6           1.4          0.2  Iris-setosa"
      ]
     },
     "execution_count": 2,
     "metadata": {},
     "output_type": "execute_result"
    }
   ],
   "source": [
    "irisdata.head(5)"
   ]
  },
  {
   "cell_type": "code",
   "execution_count": 3,
   "metadata": {},
   "outputs": [],
   "source": [
    "X = irisdata.iloc[:, 0:4]\n",
    "y = irisdata.iloc[:, 4:5]"
   ]
  },
  {
   "cell_type": "code",
   "execution_count": 4,
   "metadata": {},
   "outputs": [
    {
     "data": {
      "text/html": [
       "<div>\n",
       "<style scoped>\n",
       "    .dataframe tbody tr th:only-of-type {\n",
       "        vertical-align: middle;\n",
       "    }\n",
       "\n",
       "    .dataframe tbody tr th {\n",
       "        vertical-align: top;\n",
       "    }\n",
       "\n",
       "    .dataframe thead th {\n",
       "        text-align: right;\n",
       "    }\n",
       "</style>\n",
       "<table border=\"1\" class=\"dataframe\">\n",
       "  <thead>\n",
       "    <tr style=\"text-align: right;\">\n",
       "      <th></th>\n",
       "      <th>sepal-length</th>\n",
       "      <th>sepal-width</th>\n",
       "      <th>petal-length</th>\n",
       "      <th>petal-width</th>\n",
       "    </tr>\n",
       "  </thead>\n",
       "  <tbody>\n",
       "    <tr>\n",
       "      <th>0</th>\n",
       "      <td>5.1</td>\n",
       "      <td>3.5</td>\n",
       "      <td>1.4</td>\n",
       "      <td>0.2</td>\n",
       "    </tr>\n",
       "    <tr>\n",
       "      <th>1</th>\n",
       "      <td>4.9</td>\n",
       "      <td>3.0</td>\n",
       "      <td>1.4</td>\n",
       "      <td>0.2</td>\n",
       "    </tr>\n",
       "    <tr>\n",
       "      <th>2</th>\n",
       "      <td>4.7</td>\n",
       "      <td>3.2</td>\n",
       "      <td>1.3</td>\n",
       "      <td>0.2</td>\n",
       "    </tr>\n",
       "    <tr>\n",
       "      <th>3</th>\n",
       "      <td>4.6</td>\n",
       "      <td>3.1</td>\n",
       "      <td>1.5</td>\n",
       "      <td>0.2</td>\n",
       "    </tr>\n",
       "    <tr>\n",
       "      <th>4</th>\n",
       "      <td>5.0</td>\n",
       "      <td>3.6</td>\n",
       "      <td>1.4</td>\n",
       "      <td>0.2</td>\n",
       "    </tr>\n",
       "  </tbody>\n",
       "</table>\n",
       "</div>"
      ],
      "text/plain": [
       "   sepal-length  sepal-width  petal-length  petal-width\n",
       "0           5.1          3.5           1.4          0.2\n",
       "1           4.9          3.0           1.4          0.2\n",
       "2           4.7          3.2           1.3          0.2\n",
       "3           4.6          3.1           1.5          0.2\n",
       "4           5.0          3.6           1.4          0.2"
      ]
     },
     "execution_count": 4,
     "metadata": {},
     "output_type": "execute_result"
    }
   ],
   "source": [
    "X.head()"
   ]
  },
  {
   "cell_type": "code",
   "execution_count": 5,
   "metadata": {},
   "outputs": [
    {
     "data": {
      "text/html": [
       "<div>\n",
       "<style scoped>\n",
       "    .dataframe tbody tr th:only-of-type {\n",
       "        vertical-align: middle;\n",
       "    }\n",
       "\n",
       "    .dataframe tbody tr th {\n",
       "        vertical-align: top;\n",
       "    }\n",
       "\n",
       "    .dataframe thead th {\n",
       "        text-align: right;\n",
       "    }\n",
       "</style>\n",
       "<table border=\"1\" class=\"dataframe\">\n",
       "  <thead>\n",
       "    <tr style=\"text-align: right;\">\n",
       "      <th></th>\n",
       "      <th>Class</th>\n",
       "    </tr>\n",
       "  </thead>\n",
       "  <tbody>\n",
       "    <tr>\n",
       "      <th>0</th>\n",
       "      <td>Iris-setosa</td>\n",
       "    </tr>\n",
       "    <tr>\n",
       "      <th>1</th>\n",
       "      <td>Iris-setosa</td>\n",
       "    </tr>\n",
       "    <tr>\n",
       "      <th>2</th>\n",
       "      <td>Iris-setosa</td>\n",
       "    </tr>\n",
       "    <tr>\n",
       "      <th>3</th>\n",
       "      <td>Iris-setosa</td>\n",
       "    </tr>\n",
       "    <tr>\n",
       "      <th>4</th>\n",
       "      <td>Iris-setosa</td>\n",
       "    </tr>\n",
       "  </tbody>\n",
       "</table>\n",
       "</div>"
      ],
      "text/plain": [
       "         Class\n",
       "0  Iris-setosa\n",
       "1  Iris-setosa\n",
       "2  Iris-setosa\n",
       "3  Iris-setosa\n",
       "4  Iris-setosa"
      ]
     },
     "execution_count": 5,
     "metadata": {},
     "output_type": "execute_result"
    }
   ],
   "source": [
    "y.head()"
   ]
  },
  {
   "cell_type": "code",
   "execution_count": 6,
   "metadata": {},
   "outputs": [
    {
     "data": {
      "text/plain": [
       "array(['Iris-setosa', 'Iris-versicolor', 'Iris-virginica'], dtype=object)"
      ]
     },
     "execution_count": 6,
     "metadata": {},
     "output_type": "execute_result"
    }
   ],
   "source": [
    "y.Class.unique()"
   ]
  },
  {
   "cell_type": "code",
   "execution_count": 7,
   "metadata": {},
   "outputs": [],
   "source": [
    "from sklearn import preprocessing\n",
    "le = preprocessing.LabelEncoder()\n",
    "#transforming categorical values of y to numerical values as 0,1,2\n",
    "y = y.apply(le.fit_transform)"
   ]
  },
  {
   "cell_type": "code",
   "execution_count": 8,
   "metadata": {},
   "outputs": [
    {
     "data": {
      "text/plain": [
       "array([0, 1, 2], dtype=int64)"
      ]
     },
     "execution_count": 8,
     "metadata": {},
     "output_type": "execute_result"
    }
   ],
   "source": [
    "y.Class.unique()"
   ]
  },
  {
   "cell_type": "code",
   "execution_count": 9,
   "metadata": {},
   "outputs": [],
   "source": [
    "from sklearn.model_selection import train_test_split\n",
    "X_train, X_test, y_train, y_test = train_test_split(X, y, test_size = 0.20)"
   ]
  },
  {
   "cell_type": "code",
   "execution_count": 10,
   "metadata": {},
   "outputs": [],
   "source": [
    "from sklearn.preprocessing import StandardScaler\n",
    "scaler = StandardScaler()\n",
    "scaler.fit(X_train)\n",
    "\n",
    "X_train = scaler.transform(X_train)\n",
    "X_test = scaler.transform(X_test)"
   ]
  },
  {
   "cell_type": "code",
   "execution_count": 11,
   "metadata": {},
   "outputs": [
    {
     "name": "stderr",
     "output_type": "stream",
     "text": [
      "C:\\Users\\rmittal5\\AppData\\Local\\Continuum\\anaconda3\\lib\\site-packages\\sklearn\\neural_network\\multilayer_perceptron.py:562: ConvergenceWarning: Stochastic Optimizer: Maximum iterations (1000) reached and the optimization hasn't converged yet.\n",
      "  % self.max_iter, ConvergenceWarning)\n"
     ]
    },
    {
     "data": {
      "text/plain": [
       "MLPClassifier(activation='relu', alpha=0.0001, batch_size='auto', beta_1=0.9,\n",
       "       beta_2=0.999, early_stopping=False, epsilon=1e-08,\n",
       "       hidden_layer_sizes=10, learning_rate='constant',\n",
       "       learning_rate_init=0.001, max_iter=1000, momentum=0.9,\n",
       "       n_iter_no_change=10, nesterovs_momentum=True, power_t=0.5,\n",
       "       random_state=None, shuffle=True, solver='adam', tol=0.0001,\n",
       "       validation_fraction=0.1, verbose=False, warm_start=False)"
      ]
     },
     "execution_count": 11,
     "metadata": {},
     "output_type": "execute_result"
    }
   ],
   "source": [
    "#Applying MLP classifier of 1 hidden layer with 10 neurons\n",
    "from sklearn.neural_network import MLPClassifier\n",
    "mlp = MLPClassifier(hidden_layer_sizes=(10), max_iter=1000)\n",
    "mlp.fit(X_train, y_train.values.ravel())"
   ]
  },
  {
   "cell_type": "code",
   "execution_count": 12,
   "metadata": {},
   "outputs": [],
   "source": [
    "predictions = mlp.predict(X_test)"
   ]
  },
  {
   "cell_type": "code",
   "execution_count": 13,
   "metadata": {},
   "outputs": [
    {
     "name": "stdout",
     "output_type": "stream",
     "text": [
      "[[ 9  0  0]\n",
      " [ 0  8  0]\n",
      " [ 0  0 13]]\n",
      "              precision    recall  f1-score   support\n",
      "\n",
      "           0       1.00      1.00      1.00         9\n",
      "           1       1.00      1.00      1.00         8\n",
      "           2       1.00      1.00      1.00        13\n",
      "\n",
      "   micro avg       1.00      1.00      1.00        30\n",
      "   macro avg       1.00      1.00      1.00        30\n",
      "weighted avg       1.00      1.00      1.00        30\n",
      "\n"
     ]
    }
   ],
   "source": [
    "#Checking the models score\n",
    "from sklearn.metrics import classification_report, confusion_matrix\n",
    "print(confusion_matrix(y_test,predictions))\n",
    "print(classification_report(y_test,predictions))"
   ]
  },
  {
   "cell_type": "markdown",
   "metadata": {},
   "source": [
    "## 2) Now use an NN with two hidden layers. The first hidden layer has 9 neurons.\n",
    "## The second hidden layer has 3 neurons."
   ]
  },
  {
   "cell_type": "code",
   "execution_count": 28,
   "metadata": {},
   "outputs": [
    {
     "name": "stdout",
     "output_type": "stream",
     "text": [
      "Neural Network Model Summary: \n",
      "Model: \"sequential_9\"\n",
      "_________________________________________________________________\n",
      "Layer (type)                 Output Shape              Param #   \n",
      "=================================================================\n",
      "HL1 (Dense)                  (None, 9)                 45        \n",
      "_________________________________________________________________\n",
      "HL2 (Dense)                  (None, 3)                 30        \n",
      "_________________________________________________________________\n",
      "Output (Dense)               (None, 3)                 12        \n",
      "=================================================================\n",
      "Total params: 87\n",
      "Trainable params: 87\n",
      "Non-trainable params: 0\n",
      "_________________________________________________________________\n",
      "None\n",
      "Epoch 1/100\n",
      " - 0s - loss: 1.0917 - accuracy: 0.3500\n",
      "Epoch 2/100\n",
      " - 0s - loss: 1.0697 - accuracy: 0.3500\n",
      "Epoch 3/100\n",
      " - 0s - loss: 1.0600 - accuracy: 0.4333\n",
      "Epoch 4/100\n",
      " - 0s - loss: 1.0536 - accuracy: 0.4417\n",
      "Epoch 5/100\n",
      " - 0s - loss: 1.0463 - accuracy: 0.5583\n",
      "Epoch 6/100\n",
      " - 0s - loss: 1.0364 - accuracy: 0.6417\n",
      "Epoch 7/100\n",
      " - 0s - loss: 1.0287 - accuracy: 0.6167\n",
      "Epoch 8/100\n",
      " - 0s - loss: 1.0185 - accuracy: 0.6667\n",
      "Epoch 9/100\n",
      " - 0s - loss: 1.0110 - accuracy: 0.6250\n",
      "Epoch 10/100\n",
      " - 0s - loss: 0.9987 - accuracy: 0.6917\n",
      "Epoch 11/100\n",
      " - 0s - loss: 0.9872 - accuracy: 0.6750\n",
      "Epoch 12/100\n",
      " - 0s - loss: 0.9767 - accuracy: 0.6917\n",
      "Epoch 13/100\n",
      " - 0s - loss: 0.9634 - accuracy: 0.6917\n",
      "Epoch 14/100\n",
      " - 0s - loss: 0.9510 - accuracy: 0.6917\n",
      "Epoch 15/100\n",
      " - 0s - loss: 0.9369 - accuracy: 0.6917\n",
      "Epoch 16/100\n",
      " - 0s - loss: 0.9248 - accuracy: 0.6917\n",
      "Epoch 17/100\n",
      " - 0s - loss: 0.9075 - accuracy: 0.6917\n",
      "Epoch 18/100\n",
      " - 0s - loss: 0.8914 - accuracy: 0.6917\n",
      "Epoch 19/100\n",
      " - 0s - loss: 0.8752 - accuracy: 0.6917\n",
      "Epoch 20/100\n",
      " - 0s - loss: 0.8593 - accuracy: 0.6917\n",
      "Epoch 21/100\n",
      " - 0s - loss: 0.8427 - accuracy: 0.6917\n",
      "Epoch 22/100\n",
      " - 0s - loss: 0.8225 - accuracy: 0.6917\n",
      "Epoch 23/100\n",
      " - 0s - loss: 0.8050 - accuracy: 0.6917\n",
      "Epoch 24/100\n",
      " - 0s - loss: 0.7853 - accuracy: 0.6917\n",
      "Epoch 25/100\n",
      " - 0s - loss: 0.7669 - accuracy: 0.6917\n",
      "Epoch 26/100\n",
      " - 0s - loss: 0.7465 - accuracy: 0.6917\n",
      "Epoch 27/100\n",
      " - 0s - loss: 0.7277 - accuracy: 0.6917\n",
      "Epoch 28/100\n",
      " - 0s - loss: 0.7058 - accuracy: 0.6917\n",
      "Epoch 29/100\n",
      " - 0s - loss: 0.6894 - accuracy: 0.6917\n",
      "Epoch 30/100\n",
      " - 0s - loss: 0.6720 - accuracy: 0.6917\n",
      "Epoch 31/100\n",
      " - 0s - loss: 0.6475 - accuracy: 0.6917\n",
      "Epoch 32/100\n",
      " - 0s - loss: 0.6271 - accuracy: 0.6917\n",
      "Epoch 33/100\n",
      " - 0s - loss: 0.6064 - accuracy: 0.6917\n",
      "Epoch 34/100\n",
      " - 0s - loss: 0.5910 - accuracy: 0.6917\n",
      "Epoch 35/100\n",
      " - 0s - loss: 0.5716 - accuracy: 0.7083\n",
      "Epoch 36/100\n",
      " - 0s - loss: 0.5549 - accuracy: 0.7333\n",
      "Epoch 37/100\n",
      " - 0s - loss: 0.5382 - accuracy: 0.7333\n",
      "Epoch 38/100\n",
      " - 0s - loss: 0.5229 - accuracy: 0.7500\n",
      "Epoch 39/100\n",
      " - 0s - loss: 0.5072 - accuracy: 0.7833\n",
      "Epoch 40/100\n",
      " - 0s - loss: 0.4932 - accuracy: 0.8250\n",
      "Epoch 41/100\n",
      " - 0s - loss: 0.4772 - accuracy: 0.8417\n",
      "Epoch 42/100\n",
      " - 0s - loss: 0.4629 - accuracy: 0.8833\n",
      "Epoch 43/100\n",
      " - 0s - loss: 0.4476 - accuracy: 0.8833\n",
      "Epoch 44/100\n",
      " - 0s - loss: 0.4335 - accuracy: 0.8750\n",
      "Epoch 45/100\n",
      " - 0s - loss: 0.4192 - accuracy: 0.9167\n",
      "Epoch 46/100\n",
      " - 0s - loss: 0.4068 - accuracy: 0.9083\n",
      "Epoch 47/100\n",
      " - 0s - loss: 0.3935 - accuracy: 0.9000\n",
      "Epoch 48/100\n",
      " - 0s - loss: 0.3799 - accuracy: 0.9417\n",
      "Epoch 49/100\n",
      " - 0s - loss: 0.3670 - accuracy: 0.9417\n",
      "Epoch 50/100\n",
      " - 0s - loss: 0.3561 - accuracy: 0.9417\n",
      "Epoch 51/100\n",
      " - 0s - loss: 0.3433 - accuracy: 0.9417\n",
      "Epoch 52/100\n",
      " - 0s - loss: 0.3314 - accuracy: 0.9500\n",
      "Epoch 53/100\n",
      " - 0s - loss: 0.3202 - accuracy: 0.9583\n",
      "Epoch 54/100\n",
      " - 0s - loss: 0.3097 - accuracy: 0.9583\n",
      "Epoch 55/100\n",
      " - 0s - loss: 0.2990 - accuracy: 0.9583\n",
      "Epoch 56/100\n",
      " - 0s - loss: 0.2882 - accuracy: 0.9583\n",
      "Epoch 57/100\n",
      " - 0s - loss: 0.2780 - accuracy: 0.9667\n",
      "Epoch 58/100\n",
      " - 0s - loss: 0.2744 - accuracy: 0.9750\n",
      "Epoch 59/100\n",
      " - 0s - loss: 0.2641 - accuracy: 0.9667\n",
      "Epoch 60/100\n",
      " - 0s - loss: 0.2558 - accuracy: 0.9750\n",
      "Epoch 61/100\n",
      " - 0s - loss: 0.2476 - accuracy: 0.9667\n",
      "Epoch 62/100\n",
      " - 0s - loss: 0.2415 - accuracy: 0.9750\n",
      "Epoch 63/100\n",
      " - 0s - loss: 0.2323 - accuracy: 0.9750\n",
      "Epoch 64/100\n",
      " - 0s - loss: 0.2287 - accuracy: 0.9667\n",
      "Epoch 65/100\n",
      " - 0s - loss: 0.2281 - accuracy: 0.9750\n",
      "Epoch 66/100\n",
      " - 0s - loss: 0.2132 - accuracy: 0.9750\n",
      "Epoch 67/100\n",
      " - 0s - loss: 0.2092 - accuracy: 0.9750\n",
      "Epoch 68/100\n",
      " - 0s - loss: 0.2055 - accuracy: 0.9750\n",
      "Epoch 69/100\n",
      " - 0s - loss: 0.1995 - accuracy: 0.9750\n",
      "Epoch 70/100\n",
      " - 0s - loss: 0.1964 - accuracy: 0.9667\n",
      "Epoch 71/100\n",
      " - 0s - loss: 0.1883 - accuracy: 0.9750\n",
      "Epoch 72/100\n",
      " - 0s - loss: 0.1836 - accuracy: 0.9750\n",
      "Epoch 73/100\n",
      " - 0s - loss: 0.1802 - accuracy: 0.9750\n",
      "Epoch 74/100\n",
      " - 0s - loss: 0.1762 - accuracy: 0.9750\n",
      "Epoch 75/100\n",
      " - 0s - loss: 0.1732 - accuracy: 0.9750\n",
      "Epoch 76/100\n",
      " - 0s - loss: 0.1694 - accuracy: 0.9833\n",
      "Epoch 77/100\n",
      " - 0s - loss: 0.1669 - accuracy: 0.9750\n",
      "Epoch 78/100\n",
      " - 0s - loss: 0.1621 - accuracy: 0.9833\n",
      "Epoch 79/100\n",
      " - 0s - loss: 0.1583 - accuracy: 0.9750\n",
      "Epoch 80/100\n",
      " - 0s - loss: 0.1573 - accuracy: 0.9750\n",
      "Epoch 81/100\n",
      " - 0s - loss: 0.1545 - accuracy: 0.9750\n",
      "Epoch 82/100\n",
      " - 0s - loss: 0.1559 - accuracy: 0.9750\n",
      "Epoch 83/100\n",
      " - 0s - loss: 0.1463 - accuracy: 0.9833\n",
      "Epoch 84/100\n",
      " - 0s - loss: 0.1456 - accuracy: 0.9833\n",
      "Epoch 85/100\n",
      " - 0s - loss: 0.1417 - accuracy: 0.9750\n",
      "Epoch 86/100\n",
      " - 0s - loss: 0.1389 - accuracy: 0.9833\n",
      "Epoch 87/100\n",
      " - 0s - loss: 0.1374 - accuracy: 0.9833\n",
      "Epoch 88/100\n",
      " - 0s - loss: 0.1373 - accuracy: 0.9750\n",
      "Epoch 89/100\n",
      " - 0s - loss: 0.1354 - accuracy: 0.9833\n",
      "Epoch 90/100\n",
      " - 0s - loss: 0.1314 - accuracy: 0.9833\n",
      "Epoch 91/100\n",
      " - 0s - loss: 0.1289 - accuracy: 0.9750\n",
      "Epoch 92/100\n",
      " - 0s - loss: 0.1283 - accuracy: 0.9833\n",
      "Epoch 93/100\n",
      " - 0s - loss: 0.1255 - accuracy: 0.9750\n",
      "Epoch 94/100\n",
      " - 0s - loss: 0.1239 - accuracy: 0.9833\n",
      "Epoch 95/100\n",
      " - 0s - loss: 0.1231 - accuracy: 0.9750\n",
      "Epoch 96/100\n",
      " - 0s - loss: 0.1217 - accuracy: 0.9833\n",
      "Epoch 97/100\n",
      " - 0s - loss: 0.1181 - accuracy: 0.9833\n",
      "Epoch 98/100\n",
      " - 0s - loss: 0.1160 - accuracy: 0.9833\n",
      "Epoch 99/100\n",
      " - 0s - loss: 0.1158 - accuracy: 0.9750\n",
      "Epoch 100/100\n",
      " - 0s - loss: 0.1129 - accuracy: 0.9833\n",
      "30/30 [==============================] - 0s 2ms/step\n",
      "Final test set loss: 0.155438\n",
      "Final test set accuracy: 0.966667\n"
     ]
    }
   ],
   "source": [
    "import numpy as np\n",
    "\n",
    "from sklearn.model_selection import train_test_split\n",
    "from sklearn.preprocessing import OneHotEncoder\n",
    "\n",
    "from keras.models import Sequential\n",
    "from keras.layers import Dense\n",
    "from keras.optimizers import Adam\n",
    "\n",
    "\n",
    "X = irisdata.iloc[:, 0:4]\n",
    "y = irisdata.iloc[:, 4:5]\n",
    "\n",
    "# One Hot encode the class labels\n",
    "encoder = OneHotEncoder(sparse=False)\n",
    "y = encoder.fit_transform(y)\n",
    "\n",
    "# Split the data for training and testing\n",
    "train_x, test_x, train_y, test_y = train_test_split(X, y, test_size=0.20)\n",
    "\n",
    "# Build the model\n",
    "\n",
    "model = Sequential()\n",
    "# We are creating models with two hidden layer HL1 . Hl2 and one output layer.\n",
    "# HL1 has activation fu ction as 'relu' and 9 neuroms. HL2 has activation as 'relu' and 3 neurons.\n",
    "#Output layer has 3 nodes for output with function as 'softmax' to combine the probabilities.\n",
    "model.add(Dense(9, input_shape=(4,), activation='relu', name='HL1'))\n",
    "model.add(Dense(3, activation='relu', name='HL2'))\n",
    "model.add(Dense(3, activation='softmax', name='Output'))\n",
    "\n",
    "# Adam optimizer with learning rate of 0.001\n",
    "optimizer = Adam(lr=0.001)\n",
    "model.compile(optimizer, loss='categorical_crossentropy', metrics=['accuracy'])\n",
    "\n",
    "print('Neural Network Model Summary: ')\n",
    "print(model.summary())\n",
    "\n",
    "# Train the model\n",
    "model.fit(train_x, train_y, verbose=2, batch_size=5, epochs=100)\n",
    "\n",
    "# Test on unseen data\n",
    "\n",
    "results = model.evaluate(test_x, test_y)\n",
    "\n",
    "print('Final test set loss: {:4f}'.format(results[0]))\n",
    "print('Final test set accuracy: {:4f}'.format(results[1]))"
   ]
  },
  {
   "cell_type": "markdown",
   "metadata": {},
   "source": [
    "### Suitable activation functions for the model are 'relu' and 'softmax'."
   ]
  },
  {
   "cell_type": "code",
   "execution_count": 29,
   "metadata": {},
   "outputs": [
    {
     "data": {
      "image/png": "[encoded data removed]",
      "text/plain": [
       "<IPython.core.display.Image object>"
      ]
     },
     "execution_count": 29,
     "metadata": {},
     "output_type": "execute_result"
    }
   ],
   "source": [
    "import tensorflow as tf\n",
    "tf.keras.utils.plot_model(\n",
    "    model, to_file='model.png', show_shapes=True, show_layer_names=True,\n",
    "    rankdir='TB', expand_nested=False, dpi=96\n",
    ")"
   ]
  },
  {
   "attachments": {
    "Assignment1%20Q2.2%20schematic.PNG": {
     "image/png": "[encoded data removed]"
    }
   },
   "cell_type": "markdown",
   "metadata": {},
   "source": [
    "![Assignment1%20Q2.2%20schematic.PNG](attachment:Assignment1%20Q2.2%20schematic.PNG)"
   ]
  },
  {
   "cell_type": "code",
   "execution_count": null,
   "metadata": {},
   "outputs": [],
   "source": []
  }
 ],
 "metadata": {
  "kernelspec": {
   "display_name": "Python 3",
   "language": "python",
   "name": "python3"
  },
  "language_info": {
   "codemirror_mode": {
    "name": "ipython",
    "version": 3
   },
   "file_extension": ".py",
   "mimetype": "text/x-python",
   "name": "python",
   "nbconvert_exporter": "python",
   "pygments_lexer": "ipython3",
   "version": "3.7.3"
  }
 },
 "nbformat": 4,
 "nbformat_minor": 2
}
