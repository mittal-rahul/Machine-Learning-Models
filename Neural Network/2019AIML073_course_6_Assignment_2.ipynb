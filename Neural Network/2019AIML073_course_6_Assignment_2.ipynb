{
 "cells": [
  {
   "cell_type": "code",
   "execution_count": 1,
   "metadata": {},
   "outputs": [],
   "source": [
    "# Import Libraries\n",
    "# - Tensorflow\n",
    "# - Keras\n",
    "# - numpy\n",
    "\n",
    "import tensorflow as tf\n",
    "from tensorflow.keras import models\n",
    "from tensorflow.keras import layers\n",
    "\n",
    "import os\n",
    "import numpy as np\n",
    "import random\n",
    "\n",
    "import matplotlib.pyplot as plt\n",
    "%matplotlib inline"
   ]
  },
  {
   "cell_type": "code",
   "execution_count": 2,
   "metadata": {},
   "outputs": [],
   "source": [
    "random.seed(40)         # Initialize the random number generator.\n",
    "np.random.seed(40)      # With the seed reset, the same set of numbers will appear every time. \n",
    "tf.random.set_seed(40)  # sets the graph-level random seed"
   ]
  },
  {
   "cell_type": "code",
   "execution_count": 4,
   "metadata": {},
   "outputs": [],
   "source": [
    "from tensorflow.keras.applications.mobilenet_v2 import preprocess_input\n",
    "from tensorflow.keras.preprocessing.image import img_to_array\n",
    "from tensorflow.keras.preprocessing.image import load_img"
   ]
  },
  {
   "cell_type": "code",
   "execution_count": 5,
   "metadata": {},
   "outputs": [],
   "source": [
    "train_validate_dir = os.path.join(\"dataset-face-mask\", \"dataset\", \"train_validate\")\n",
    "test_dir = os.path.join(\"dataset-face-mask\", \"dataset\", \"test\")"
   ]
  },
  {
   "cell_type": "code",
   "execution_count": 6,
   "metadata": {},
   "outputs": [],
   "source": [
    "masked_img_path = os.path.join(train_validate_dir, \"masked\")"
   ]
  },
  {
   "cell_type": "code",
   "execution_count": 7,
   "metadata": {},
   "outputs": [],
   "source": [
    "unmasked_img_path = os.path.join(train_validate_dir, \"unmasked\")"
   ]
  },
  {
   "cell_type": "code",
   "execution_count": 8,
   "metadata": {},
   "outputs": [],
   "source": [
    "test_masked_img_path = os.path.join(test_dir, \"masked\")"
   ]
  },
  {
   "cell_type": "code",
   "execution_count": 9,
   "metadata": {},
   "outputs": [],
   "source": [
    "test_unmasked_img_path = os.path.join(test_dir, \"unmasked\")"
   ]
  },
  {
   "cell_type": "raw",
   "metadata": {},
   "source": [
    "# Temporary\n",
    "from tensorflow.keras.preprocessing.image import ImageDataGenerator\n",
    "# Add our data-augmentation parameters to ImageDataGenerator\n",
    "train_datagen = ImageDataGenerator(rescale = 1./255, rotation_range=15,\n",
    "                                   width_shift_range=0.15,\n",
    "                                   height_shift_range=0.15,\n",
    "                                   shear_range=0.15,\n",
    "                                   zoom_range=0.15,\n",
    "                                   horizontal_flip=True,\n",
    "                                   validation_split=0.1,)\n",
    "\n",
    "test_datagen = ImageDataGenerator(rescale = 1./255)\n",
    "\n",
    "train_generator = train_datagen.flow_from_directory(train_validate_dir,\n",
    "                                                    batch_size = 32,\n",
    "                                                    class_mode = 'binary', \n",
    "                                                    target_size = (64,64))\n",
    "\n",
    "# validation_generator =  test_datagen.flow_from_directory(validation_dir,\n",
    "#                                                         batch_size  = 32,\n",
    "#                                                         class_mode  = 'binary', \n",
    "#                                                         target_size = (150,150))"
   ]
  },
  {
   "cell_type": "markdown",
   "metadata": {},
   "source": [
    "### 1. Load the images in appropriate data structures in your program, ready to be passed as input to the model for training. Consider input image size to be 64x64x3. [2 points]"
   ]
  },
  {
   "cell_type": "code",
   "execution_count": 10,
   "metadata": {},
   "outputs": [],
   "source": [
    "from os import listdir\n",
    "from os.path import join\n",
    "\n",
    "X_train = []\n",
    "Y_train = []\n",
    "for f in os.listdir(masked_img_path):\n",
    "    # label = \"masked\"\n",
    "    label = 1\n",
    "\n",
    "    # load the input image (64x64) and preprocess it\n",
    "    image = load_img(join(masked_img_path, f), target_size=(64, 64, 3))\n",
    "    image = img_to_array(image)\n",
    "    image = preprocess_input(image)\n",
    "\n",
    "    # update the data and labels lists, respectively\n",
    "    X_train.append(image)\n",
    "    Y_train.append(label)"
   ]
  },
  {
   "cell_type": "code",
   "execution_count": 11,
   "metadata": {},
   "outputs": [],
   "source": [
    "for f in listdir(unmasked_img_path):\n",
    "    # extract the class label from the filename\n",
    "    # label = \"unmasked\"\n",
    "    label = 0\n",
    "\n",
    "    # load the input image (64x64) and preprocess it\n",
    "    image = load_img(join(unmasked_img_path, f), target_size=(64, 64, 3))\n",
    "    image = img_to_array(image)\n",
    "    image = preprocess_input(image)\n",
    "\n",
    "    # update the data and labels lists, respectively\n",
    "    X_train.append(image)\n",
    "    Y_train.append(label)"
   ]
  },
  {
   "cell_type": "code",
   "execution_count": 12,
   "metadata": {},
   "outputs": [],
   "source": [
    "X_test = []\n",
    "Y_test = []\n",
    "for f in listdir(test_masked_img_path):\n",
    "    # extract the class label from the filename\n",
    "    # label = \"masked\"\n",
    "    label = 1\n",
    "\n",
    "    # load the input image (64x64) and preprocess it\n",
    "    image = load_img(join(test_masked_img_path, f), target_size=(64, 64, 3))\n",
    "    image = img_to_array(image)\n",
    "    image = preprocess_input(image)\n",
    "\n",
    "    # update the data and labels lists, respectively\n",
    "    X_test.append(image)\n",
    "    Y_test.append(label)"
   ]
  },
  {
   "cell_type": "code",
   "execution_count": 13,
   "metadata": {},
   "outputs": [],
   "source": [
    "for f in listdir(test_unmasked_img_path):\n",
    "    # extract the class label from the filename\n",
    "    # label = \"unmasked\"\n",
    "    label = 0\n",
    "\n",
    "    # load the input image (64x64) and preprocess it\n",
    "    image = load_img(join(test_unmasked_img_path, f), target_size=(64, 64, 3))\n",
    "    image = img_to_array(image)\n",
    "    image = preprocess_input(image)\n",
    "\n",
    "    # update the data and labels lists, respectively\n",
    "    X_test.append(image)\n",
    "    Y_test.append(label)"
   ]
  },
  {
   "cell_type": "code",
   "execution_count": 14,
   "metadata": {},
   "outputs": [],
   "source": [
    "from sklearn.preprocessing import LabelBinarizer\n",
    "from tensorflow.keras.utils import to_categorical\n",
    "lb = LabelBinarizer()\n",
    "Y_test = lb.fit_transform(Y_test)\n",
    "Y_test = to_categorical(Y_test)\n",
    "Y_train = lb.fit_transform(Y_train)\n",
    "Y_train = to_categorical(Y_train)"
   ]
  },
  {
   "cell_type": "code",
   "execution_count": 15,
   "metadata": {},
   "outputs": [
    {
     "data": {
      "text/plain": [
       "array([[0., 1.],\n",
       "       [0., 1.],\n",
       "       [0., 1.],\n",
       "       ...,\n",
       "       [1., 0.],\n",
       "       [1., 0.],\n",
       "       [1., 0.]], dtype=float32)"
      ]
     },
     "execution_count": 15,
     "metadata": {},
     "output_type": "execute_result"
    }
   ],
   "source": [
    "Y_train"
   ]
  },
  {
   "cell_type": "code",
   "execution_count": 16,
   "metadata": {},
   "outputs": [
    {
     "data": {
      "text/plain": [
       "1727"
      ]
     },
     "execution_count": 16,
     "metadata": {},
     "output_type": "execute_result"
    }
   ],
   "source": [
    "len(Y_train)"
   ]
  },
  {
   "cell_type": "code",
   "execution_count": 17,
   "metadata": {},
   "outputs": [
    {
     "data": {
      "text/plain": [
       "320"
      ]
     },
     "execution_count": 17,
     "metadata": {},
     "output_type": "execute_result"
    }
   ],
   "source": [
    "len(Y_test)"
   ]
  },
  {
   "cell_type": "code",
   "execution_count": 18,
   "metadata": {},
   "outputs": [],
   "source": [
    "# convert the data and labels to NumPy arrays\n",
    "X_train = np.array(X_train)\n",
    "Y_train = np.array(Y_train)\n",
    "X_test = np.array(X_test)\n",
    "Y_test = np.array(Y_test)"
   ]
  },
  {
   "cell_type": "code",
   "execution_count": 19,
   "metadata": {},
   "outputs": [
    {
     "data": {
      "text/plain": [
       "(1727, 2)"
      ]
     },
     "execution_count": 19,
     "metadata": {},
     "output_type": "execute_result"
    }
   ],
   "source": [
    "Y_train.shape"
   ]
  },
  {
   "cell_type": "code",
   "execution_count": 20,
   "metadata": {},
   "outputs": [
    {
     "data": {
      "text/plain": [
       "(1727, 64, 64, 3)"
      ]
     },
     "execution_count": 20,
     "metadata": {},
     "output_type": "execute_result"
    }
   ],
   "source": [
    "X_train.shape"
   ]
  },
  {
   "cell_type": "code",
   "execution_count": 21,
   "metadata": {},
   "outputs": [
    {
     "data": {
      "text/plain": [
       "(320, 64, 64, 3)"
      ]
     },
     "execution_count": 21,
     "metadata": {},
     "output_type": "execute_result"
    }
   ],
   "source": [
    "X_test.shape"
   ]
  },
  {
   "cell_type": "raw",
   "metadata": {},
   "source": [
    "Y_train = Y_train.reshape(len(Y_train),1)\n",
    "Y_test = Y_test.reshape(len(Y_test),1)"
   ]
  },
  {
   "cell_type": "code",
   "execution_count": 22,
   "metadata": {},
   "outputs": [
    {
     "data": {
      "text/plain": [
       "(320, 2)"
      ]
     },
     "execution_count": 22,
     "metadata": {},
     "output_type": "execute_result"
    }
   ],
   "source": [
    "Y_test.shape"
   ]
  },
  {
   "cell_type": "markdown",
   "metadata": {},
   "source": [
    "### 2. Configure the CNN model (use keras tensorflow), an indicative (minimal) configuration is as below. Take activation function (A)=relu. Feel free to use standard values for anything that is not mentioned (eg, take pool size 2x2, filter size 3x3, and so on). [3 points]"
   ]
  },
  {
   "cell_type": "code",
   "execution_count": 23,
   "metadata": {},
   "outputs": [
    {
     "name": "stdout",
     "output_type": "stream",
     "text": [
      "Model: \"sequential\"\n",
      "_________________________________________________________________\n",
      "Layer (type)                 Output Shape              Param #   \n",
      "=================================================================\n",
      "conv2d (Conv2D)              (None, 62, 62, 64)        1792      \n",
      "_________________________________________________________________\n",
      "max_pooling2d (MaxPooling2D) (None, 31, 31, 64)        0         \n",
      "_________________________________________________________________\n",
      "conv2d_1 (Conv2D)            (None, 29, 29, 64)        36928     \n",
      "_________________________________________________________________\n",
      "conv2d_2 (Conv2D)            (None, 27, 27, 128)       73856     \n",
      "_________________________________________________________________\n",
      "max_pooling2d_1 (MaxPooling2 (None, 13, 13, 128)       0         \n",
      "_________________________________________________________________\n",
      "flatten (Flatten)            (None, 21632)             0         \n",
      "_________________________________________________________________\n",
      "dense (Dense)                (None, 32)                692256    \n",
      "_________________________________________________________________\n",
      "dense_1 (Dense)              (None, 2)                 66        \n",
      "=================================================================\n",
      "Total params: 804,898\n",
      "Trainable params: 804,898\n",
      "Non-trainable params: 0\n",
      "_________________________________________________________________\n"
     ]
    }
   ],
   "source": [
    "# Create a Sequential model object\n",
    "cnnModel = models.Sequential()\n",
    "\n",
    "# Add layers Conv2D for CNN and sepcify MaxPooling\n",
    "\n",
    "# Layer 1 = input layer\n",
    "cnnModel.add(layers.Conv2D(64, (3,3), activation=\"relu\", input_shape=(64,64,3) ))\n",
    "cnnModel.add(layers.MaxPooling2D((2,2)))\n",
    "\n",
    "# Layer 2\n",
    "cnnModel.add(layers.Conv2D(64, (3,3), activation=\"relu\"))\n",
    "cnnModel.add(layers.Conv2D(128, (3,3), activation=\"relu\"))\n",
    "cnnModel.add(layers.MaxPooling2D((2,2)))\n",
    "cnnModel.add(layers.Flatten())\n",
    "\n",
    "# Add Dense layers or fully connected layers\n",
    "# Layer 3\n",
    "cnnModel.add(layers.Dense(32, activation=\"relu\"))\n",
    "\n",
    "# Layer 4\n",
    "cnnModel.add(layers.Dense(2, activation=\"softmax\"))\n",
    "\n",
    "cnnModel.summary()"
   ]
  },
  {
   "cell_type": "markdown",
   "metadata": {},
   "source": [
    "### 3. Train the CNN model for E epoch (take E=70), save the train_loss, train_acc, validation_loss, validation_acc for each epoch and plot it after training has finished. [4 points]"
   ]
  },
  {
   "cell_type": "code",
   "execution_count": 24,
   "metadata": {},
   "outputs": [],
   "source": [
    "# Configure  the model for training, by using appropriate optimizers and regularizations\n",
    "# Available optimizer: adam, rmsprop, adagrad, sgd\n",
    "# loss:  objective that the model will try to minimize. \n",
    "# Available loss: categorical_crossentropy, binary_crossentropy, mean_squared_error\n",
    "# metrics: List of metrics to be evaluated by the model during training and testing. \n",
    "# from keras.optimizers import SGD\n",
    "# opt = SGD(lr=0.01)\n",
    "cnnModel.compile(optimizer = \"adam\", loss = \"binary_crossentropy\", metrics = [\"accuracy\"])\n",
    "# cnnModel.compile(optimizer = opt, loss = \"binary_crossentropy\", metrics = [\"accuracy\"])"
   ]
  },
  {
   "cell_type": "code",
   "execution_count": 25,
   "metadata": {},
   "outputs": [],
   "source": [
    "# Shuffle the data as all the classes are currently in order\n",
    "from sklearn.utils import shuffle\n",
    "X_train, Y_train = shuffle(X_train, Y_train, random_state=42)"
   ]
  },
  {
   "cell_type": "code",
   "execution_count": 26,
   "metadata": {},
   "outputs": [
    {
     "name": "stdout",
     "output_type": "stream",
     "text": [
      "Num GPUs Available:  0\n"
     ]
    }
   ],
   "source": [
    "print(\"Num GPUs Available: \", len(tf.config.experimental.list_physical_devices('GPU')))"
   ]
  },
  {
   "cell_type": "code",
   "execution_count": 27,
   "metadata": {},
   "outputs": [
    {
     "name": "stdout",
     "output_type": "stream",
     "text": [
      "Epoch 1/70\n",
      "49/49 [==============================] - 16s 328ms/step - loss: 0.2390 - accuracy: 0.8906 - val_loss: 0.1447 - val_accuracy: 0.9653\n",
      "Epoch 2/70\n",
      "49/49 [==============================] - 15s 306ms/step - loss: 0.1132 - accuracy: 0.9640 - val_loss: 0.1213 - val_accuracy: 0.9827\n",
      "Epoch 3/70\n",
      "49/49 [==============================] - 16s 328ms/step - loss: 0.0815 - accuracy: 0.9723 - val_loss: 0.1179 - val_accuracy: 0.9769\n",
      "Epoch 4/70\n",
      "49/49 [==============================] - 16s 316ms/step - loss: 0.0691 - accuracy: 0.9807 - val_loss: 0.1023 - val_accuracy: 0.9769\n",
      "Epoch 5/70\n",
      "49/49 [==============================] - 20s 403ms/step - loss: 0.0549 - accuracy: 0.9833 - val_loss: 0.1016 - val_accuracy: 0.9769\n",
      "Epoch 6/70\n",
      "49/49 [==============================] - 15s 310ms/step - loss: 0.0608 - accuracy: 0.9807 - val_loss: 0.0785 - val_accuracy: 0.9653\n",
      "Epoch 7/70\n",
      "49/49 [==============================] - 15s 302ms/step - loss: 0.0449 - accuracy: 0.9858 - val_loss: 0.1237 - val_accuracy: 0.9769\n",
      "Epoch 8/70\n",
      "49/49 [==============================] - 15s 303ms/step - loss: 0.0468 - accuracy: 0.9846 - val_loss: 0.0851 - val_accuracy: 0.9827\n",
      "Epoch 9/70\n",
      "49/49 [==============================] - 15s 309ms/step - loss: 0.0191 - accuracy: 0.9942 - val_loss: 0.1092 - val_accuracy: 0.9711\n",
      "Epoch 10/70\n",
      "49/49 [==============================] - 15s 313ms/step - loss: 0.0255 - accuracy: 0.9916 - val_loss: 0.0595 - val_accuracy: 0.9769\n",
      "Epoch 11/70\n",
      "49/49 [==============================] - 15s 311ms/step - loss: 0.0151 - accuracy: 0.9949 - val_loss: 0.1195 - val_accuracy: 0.9769\n",
      "Epoch 12/70\n",
      "49/49 [==============================] - 15s 305ms/step - loss: 0.0045 - accuracy: 0.9987 - val_loss: 0.1753 - val_accuracy: 0.9769\n",
      "Epoch 13/70\n",
      "49/49 [==============================] - 16s 321ms/step - loss: 0.0048 - accuracy: 0.9974 - val_loss: 0.1537 - val_accuracy: 0.9769\n",
      "Epoch 14/70\n",
      "49/49 [==============================] - 16s 322ms/step - loss: 0.0060 - accuracy: 0.9968 - val_loss: 0.1461 - val_accuracy: 0.9769\n",
      "Epoch 15/70\n",
      "49/49 [==============================] - 16s 321ms/step - loss: 0.0132 - accuracy: 0.9949 - val_loss: 0.1876 - val_accuracy: 0.9595\n",
      "Epoch 16/70\n",
      "49/49 [==============================] - 16s 331ms/step - loss: 0.0177 - accuracy: 0.9929 - val_loss: 0.1140 - val_accuracy: 0.9711\n",
      "Epoch 17/70\n",
      "49/49 [==============================] - 16s 330ms/step - loss: 0.0135 - accuracy: 0.9961 - val_loss: 0.1916 - val_accuracy: 0.9711\n",
      "Epoch 18/70\n",
      "49/49 [==============================] - 17s 356ms/step - loss: 0.0219 - accuracy: 0.9942 - val_loss: 0.0590 - val_accuracy: 0.9884\n",
      "Epoch 19/70\n",
      "49/49 [==============================] - 15s 316ms/step - loss: 0.0319 - accuracy: 0.9910 - val_loss: 0.0763 - val_accuracy: 0.9769\n",
      "Epoch 20/70\n",
      "49/49 [==============================] - 17s 338ms/step - loss: 0.0494 - accuracy: 0.9852 - val_loss: 0.0940 - val_accuracy: 0.9827\n",
      "Epoch 21/70\n",
      "49/49 [==============================] - 16s 323ms/step - loss: 0.0119 - accuracy: 0.9949 - val_loss: 0.0295 - val_accuracy: 0.9884\n",
      "Epoch 22/70\n",
      "49/49 [==============================] - 16s 331ms/step - loss: 0.0018 - accuracy: 0.9987 - val_loss: 0.1177 - val_accuracy: 0.9827\n",
      "Epoch 23/70\n",
      "49/49 [==============================] - 16s 324ms/step - loss: 0.0013 - accuracy: 0.9994 - val_loss: 0.1077 - val_accuracy: 0.9827\n",
      "Epoch 24/70\n",
      "49/49 [==============================] - 17s 341ms/step - loss: 0.0010 - accuracy: 0.9994 - val_loss: 0.1205 - val_accuracy: 0.9827\n",
      "Epoch 25/70\n",
      "49/49 [==============================] - 16s 319ms/step - loss: 9.8898e-04 - accuracy: 0.9994 - val_loss: 0.1266 - val_accuracy: 0.9827\n",
      "Epoch 26/70\n",
      "49/49 [==============================] - 17s 346ms/step - loss: 9.6764e-04 - accuracy: 0.9994 - val_loss: 0.1278 - val_accuracy: 0.9827\n",
      "Epoch 27/70\n",
      "49/49 [==============================] - 18s 365ms/step - loss: 9.5273e-04 - accuracy: 0.9994 - val_loss: 0.1305 - val_accuracy: 0.9827\n",
      "Epoch 28/70\n",
      "49/49 [==============================] - 16s 323ms/step - loss: 9.4286e-04 - accuracy: 0.9994 - val_loss: 0.1335 - val_accuracy: 0.9827\n",
      "Epoch 29/70\n",
      "49/49 [==============================] - 15s 313ms/step - loss: 9.3551e-04 - accuracy: 0.9994 - val_loss: 0.1357 - val_accuracy: 0.9827\n",
      "Epoch 30/70\n",
      "49/49 [==============================] - 16s 336ms/step - loss: 9.2981e-04 - accuracy: 0.9994 - val_loss: 0.1381 - val_accuracy: 0.9827\n",
      "Epoch 31/70\n",
      "49/49 [==============================] - 17s 356ms/step - loss: 9.2543e-04 - accuracy: 0.9994 - val_loss: 0.1399 - val_accuracy: 0.9827\n",
      "Epoch 32/70\n",
      "49/49 [==============================] - 16s 335ms/step - loss: 9.2178e-04 - accuracy: 0.9994 - val_loss: 0.1421 - val_accuracy: 0.9827\n",
      "Epoch 33/70\n",
      "49/49 [==============================] - 17s 342ms/step - loss: 9.1879e-04 - accuracy: 0.9994 - val_loss: 0.1437 - val_accuracy: 0.9827\n",
      "Epoch 34/70\n",
      "49/49 [==============================] - 17s 346ms/step - loss: 9.1627e-04 - accuracy: 0.9994 - val_loss: 0.1453 - val_accuracy: 0.9827\n",
      "Epoch 35/70\n",
      "49/49 [==============================] - 16s 325ms/step - loss: 9.1405e-04 - accuracy: 0.9994 - val_loss: 0.1469 - val_accuracy: 0.9827\n",
      "Epoch 36/70\n",
      "49/49 [==============================] - 16s 329ms/step - loss: 9.1219e-04 - accuracy: 0.9994 - val_loss: 0.1482 - val_accuracy: 0.9827\n",
      "Epoch 37/70\n",
      "49/49 [==============================] - 17s 340ms/step - loss: 9.1054e-04 - accuracy: 0.9994 - val_loss: 0.1497 - val_accuracy: 0.9827\n",
      "Epoch 38/70\n",
      "49/49 [==============================] - 17s 349ms/step - loss: 9.0913e-04 - accuracy: 0.9994 - val_loss: 0.1508 - val_accuracy: 0.9827\n",
      "Epoch 39/70\n",
      "49/49 [==============================] - 16s 331ms/step - loss: 9.0789e-04 - accuracy: 0.9994 - val_loss: 0.1523 - val_accuracy: 0.9827\n",
      "Epoch 40/70\n",
      "49/49 [==============================] - 16s 319ms/step - loss: 9.0685e-04 - accuracy: 0.9994 - val_loss: 0.1530 - val_accuracy: 0.9827\n",
      "Epoch 41/70\n",
      "49/49 [==============================] - 15s 314ms/step - loss: 9.0582e-04 - accuracy: 0.9994 - val_loss: 0.1540 - val_accuracy: 0.9827\n",
      "Epoch 42/70\n",
      "49/49 [==============================] - 16s 317ms/step - loss: 9.0488e-04 - accuracy: 0.9994 - val_loss: 0.1563 - val_accuracy: 0.9827\n",
      "Epoch 43/70\n",
      "49/49 [==============================] - 17s 357ms/step - loss: 9.0421e-04 - accuracy: 0.9994 - val_loss: 0.1566 - val_accuracy: 0.9827\n",
      "Epoch 44/70\n",
      "49/49 [==============================] - 18s 364ms/step - loss: 9.0343e-04 - accuracy: 0.9994 - val_loss: 0.1574 - val_accuracy: 0.9827\n",
      "Epoch 45/70\n",
      "49/49 [==============================] - 15s 316ms/step - loss: 9.0267e-04 - accuracy: 0.9994 - val_loss: 0.1584 - val_accuracy: 0.9827\n",
      "Epoch 46/70\n",
      "49/49 [==============================] - 15s 309ms/step - loss: 9.0190e-04 - accuracy: 0.9994 - val_loss: 0.1585 - val_accuracy: 0.9827\n",
      "Epoch 47/70\n",
      "49/49 [==============================] - 16s 317ms/step - loss: 9.0128e-04 - accuracy: 0.9994 - val_loss: 0.1593 - val_accuracy: 0.9827\n",
      "Epoch 48/70\n",
      "49/49 [==============================] - 17s 346ms/step - loss: 9.0080e-04 - accuracy: 0.9994 - val_loss: 0.1597 - val_accuracy: 0.9827\n",
      "Epoch 49/70\n",
      "49/49 [==============================] - 16s 325ms/step - loss: 9.0032e-04 - accuracy: 0.9994 - val_loss: 0.1604 - val_accuracy: 0.9827\n",
      "Epoch 50/70\n",
      "49/49 [==============================] - 17s 342ms/step - loss: 8.9994e-04 - accuracy: 0.9994 - val_loss: 0.1608 - val_accuracy: 0.9827\n",
      "Epoch 51/70\n",
      "49/49 [==============================] - 17s 339ms/step - loss: 8.9954e-04 - accuracy: 0.9994 - val_loss: 0.1626 - val_accuracy: 0.9827\n",
      "Epoch 52/70\n",
      "49/49 [==============================] - 17s 337ms/step - loss: 8.9922e-04 - accuracy: 0.9994 - val_loss: 0.1615 - val_accuracy: 0.9827\n",
      "Epoch 53/70\n",
      "49/49 [==============================] - 16s 327ms/step - loss: 8.9885e-04 - accuracy: 0.9994 - val_loss: 0.1634 - val_accuracy: 0.9827\n",
      "Epoch 54/70\n",
      "49/49 [==============================] - 16s 332ms/step - loss: 8.9857e-04 - accuracy: 0.9994 - val_loss: 0.1626 - val_accuracy: 0.9827\n",
      "Epoch 55/70\n",
      "49/49 [==============================] - 16s 327ms/step - loss: 8.9829e-04 - accuracy: 0.9994 - val_loss: 0.1630 - val_accuracy: 0.9827\n",
      "Epoch 56/70\n",
      "49/49 [==============================] - 16s 321ms/step - loss: 8.9802e-04 - accuracy: 0.9994 - val_loss: 0.1649 - val_accuracy: 0.9827\n",
      "Epoch 57/70\n"
     ]
    },
    {
     "name": "stdout",
     "output_type": "stream",
     "text": [
      "49/49 [==============================] - 16s 332ms/step - loss: 8.9780e-04 - accuracy: 0.9994 - val_loss: 0.1652 - val_accuracy: 0.9827\n",
      "Epoch 58/70\n",
      "49/49 [==============================] - 15s 309ms/step - loss: 8.9757e-04 - accuracy: 0.9994 - val_loss: 0.1658 - val_accuracy: 0.9827\n",
      "Epoch 59/70\n",
      "49/49 [==============================] - 16s 331ms/step - loss: 8.9737e-04 - accuracy: 0.9994 - val_loss: 0.1659 - val_accuracy: 0.9827\n",
      "Epoch 60/70\n",
      "49/49 [==============================] - 15s 314ms/step - loss: 8.9715e-04 - accuracy: 0.9994 - val_loss: 0.1670 - val_accuracy: 0.9827\n",
      "Epoch 61/70\n",
      "49/49 [==============================] - 16s 324ms/step - loss: 8.9694e-04 - accuracy: 0.9994 - val_loss: 0.1675 - val_accuracy: 0.9827\n",
      "Epoch 62/70\n",
      "49/49 [==============================] - 15s 315ms/step - loss: 8.9675e-04 - accuracy: 0.9994 - val_loss: 0.1678 - val_accuracy: 0.9827\n",
      "Epoch 63/70\n",
      "49/49 [==============================] - 16s 317ms/step - loss: 8.9659e-04 - accuracy: 0.9994 - val_loss: 0.1681 - val_accuracy: 0.9827\n",
      "Epoch 64/70\n",
      "49/49 [==============================] - 15s 310ms/step - loss: 8.9646e-04 - accuracy: 0.9994 - val_loss: 0.1684 - val_accuracy: 0.9827\n",
      "Epoch 65/70\n",
      "49/49 [==============================] - 15s 310ms/step - loss: 8.9633e-04 - accuracy: 0.9994 - val_loss: 0.1688 - val_accuracy: 0.9827\n",
      "Epoch 66/70\n",
      "49/49 [==============================] - 15s 311ms/step - loss: 8.9621e-04 - accuracy: 0.9994 - val_loss: 0.1691 - val_accuracy: 0.9827\n",
      "Epoch 67/70\n",
      "49/49 [==============================] - 15s 310ms/step - loss: 8.9616e-04 - accuracy: 0.9994 - val_loss: 0.1693 - val_accuracy: 0.9827\n",
      "Epoch 68/70\n",
      "49/49 [==============================] - 15s 312ms/step - loss: 8.9604e-04 - accuracy: 0.9994 - val_loss: 0.1697 - val_accuracy: 0.9827\n",
      "Epoch 69/70\n",
      "49/49 [==============================] - 15s 316ms/step - loss: 8.9593e-04 - accuracy: 0.9994 - val_loss: 0.1701 - val_accuracy: 0.9827\n",
      "Epoch 70/70\n",
      "49/49 [==============================] - 19s 389ms/step - loss: 8.9585e-04 - accuracy: 0.9994 - val_loss: 0.1703 - val_accuracy: 0.9827\n"
     ]
    }
   ],
   "source": [
    "# train the model\n",
    "history = cnnModel.fit(X_train, Y_train, epochs = 70, batch_size = 32, validation_split = 0.1, shuffle= False)"
   ]
  },
  {
   "cell_type": "markdown",
   "metadata": {},
   "source": [
    "### 4. Evaluate the trained CNN model on test data. Print classification results. [2 point]"
   ]
  },
  {
   "cell_type": "code",
   "execution_count": 28,
   "metadata": {},
   "outputs": [
    {
     "name": "stdout",
     "output_type": "stream",
     "text": [
      "Final training loss \t 0.0008958486723713577\n",
      "Final training accuracy  0.9993565082550049\n"
     ]
    }
   ],
   "source": [
    "print('Final training loss \\t', history.history['loss'][-1])\n",
    "print('Final training accuracy ', history.history['accuracy'][-1])"
   ]
  },
  {
   "cell_type": "code",
   "execution_count": 29,
   "metadata": {},
   "outputs": [
    {
     "name": "stdout",
     "output_type": "stream",
     "text": [
      "10/10 [==============================] - 1s 96ms/step - loss: 1.6972 - accuracy: 0.7937\n"
     ]
    }
   ],
   "source": [
    "# testing the model\n",
    "testLoss, testAccuracy = cnnModel.evaluate(X_test, Y_test)"
   ]
  },
  {
   "cell_type": "code",
   "execution_count": 30,
   "metadata": {},
   "outputs": [
    {
     "name": "stdout",
     "output_type": "stream",
     "text": [
      "Testing loss \t 1.6971855163574219\n",
      "Testing accuracy  0.793749988079071\n"
     ]
    }
   ],
   "source": [
    "print('Testing loss \\t', testLoss)\n",
    "print('Testing accuracy ', testAccuracy)"
   ]
  },
  {
   "cell_type": "code",
   "execution_count": 43,
   "metadata": {},
   "outputs": [
    {
     "data": {
      "image/png": "[encoded data removed]",
      "text/plain": [
       "<Figure size 1440x288 with 1 Axes>"
      ]
     },
     "metadata": {
      "needs_background": "light"
     },
     "output_type": "display_data"
    },
    {
     "data": {
      "image/png": "[encoded data removed]",
      "text/plain": [
       "<Figure size 1440x288 with 1 Axes>"
      ]
     },
     "metadata": {
      "needs_background": "light"
     },
     "output_type": "display_data"
    }
   ],
   "source": [
    "# plotting training and validation loss\n",
    "fig, ax = plt.subplots(figsize=(20,4))\n",
    "loss = history.history['loss']\n",
    "val_loss = history.history['val_loss']\n",
    "epochs = range(1, len(loss) + 1)\n",
    "plt.plot(epochs, loss, color='red', label='Training loss')\n",
    "plt.plot(epochs, val_loss, color='green', label='Validation loss')\n",
    "plt.title('Training and Validation loss')\n",
    "plt.xlabel('Epochs')\n",
    "plt.ylabel('Loss')\n",
    "plt.legend()\n",
    "plt.show()\n",
    "\n",
    "# plotting training and validation accuracy\n",
    "fig, ax = plt.subplots(figsize=(20,4))\n",
    "acc = history.history['accuracy']\n",
    "val_acc = history.history['val_accuracy']\n",
    "plt.plot(epochs, acc, color='red', label='Training acc')\n",
    "plt.plot(epochs, val_acc, color='green', label='Validation acc')\n",
    "plt.title('Training and Validation accuracy')\n",
    "plt.xlabel('Epochs')\n",
    "plt.ylabel('Loss')\n",
    "plt.legend()\n",
    "plt.show()"
   ]
  },
  {
   "cell_type": "raw",
   "metadata": {},
   "source": [
    "# Shuffle the data as all the classes are currently in order\n",
    "from sklearn.utils import shuffle\n",
    "X_test, Y_test = shuffle(X_test, Y_test, random_state=5)"
   ]
  },
  {
   "cell_type": "code",
   "execution_count": 32,
   "metadata": {},
   "outputs": [],
   "source": [
    "Y_prediction = cnnModel.predict(X_test)\n",
    "# Convert predictions classes to one hot vectors \n",
    "Y_pred_classes = np.argmax(Y_prediction, axis = 1) \n",
    "\n",
    "# Convert validation observations to one hot vectors\n",
    "Y_true = np.argmax(Y_test,axis = 1) "
   ]
  },
  {
   "cell_type": "code",
   "execution_count": 33,
   "metadata": {},
   "outputs": [
    {
     "name": "stdout",
     "output_type": "stream",
     "text": [
      "              precision    recall  f1-score   support\n",
      "\n",
      "           0       0.76      0.86      0.81       160\n",
      "           1       0.84      0.73      0.78       160\n",
      "\n",
      "    accuracy                           0.79       320\n",
      "   macro avg       0.80      0.79      0.79       320\n",
      "weighted avg       0.80      0.79      0.79       320\n",
      "\n"
     ]
    }
   ],
   "source": [
    "# Classification Report\n",
    "from sklearn.metrics import classification_report \n",
    "\n",
    "print(classification_report(Y_true, Y_pred_classes))"
   ]
  },
  {
   "cell_type": "code",
   "execution_count": 34,
   "metadata": {},
   "outputs": [
    {
     "data": {
      "image/png": "[encoded data removed]",
      "text/plain": [
       "<Figure size 720x576 with 2 Axes>"
      ]
     },
     "metadata": {
      "needs_background": "light"
     },
     "output_type": "display_data"
    }
   ],
   "source": [
    "# confusion matrix\n",
    "from sklearn.metrics import confusion_matrix\n",
    "import seaborn as sns\n",
    "\n",
    "# compute the confusion matrix\n",
    "confusion_mtx = confusion_matrix(Y_true, Y_pred_classes) \n",
    "\n",
    "plt.figure(figsize=(10,8))\n",
    "sns.heatmap(confusion_mtx, annot=True, fmt=\"d\");"
   ]
  },
  {
   "cell_type": "raw",
   "metadata": {},
   "source": [
    "# layer 2 with L1-L2 with Regularizers\n",
    "cnnModel.add(layers.Dense(30, activation='relu', \n",
    "                          kernel_regularizer = regularizers.l1_l2(l1=0.01, l2=0.01),\n",
    "                          activity_regularizer = regularizers.l1_l2(l1=0.01, l2=0.01) ) )"
   ]
  },
  {
   "cell_type": "markdown",
   "metadata": {},
   "source": [
    "# 5. Can you try to make changes in anyway in the CNN model and improve your test accuracy? Let's call the model constructed as per step-2 above as 'default' and the improvement as 'improved' model."
   ]
  },
  {
   "cell_type": "code",
   "execution_count": 35,
   "metadata": {},
   "outputs": [
    {
     "name": "stdout",
     "output_type": "stream",
     "text": [
      "Model: \"sequential_1\"\n",
      "_________________________________________________________________\n",
      "Layer (type)                 Output Shape              Param #   \n",
      "=================================================================\n",
      "conv2d_3 (Conv2D)            (None, 62, 62, 64)        1792      \n",
      "_________________________________________________________________\n",
      "max_pooling2d_2 (MaxPooling2 (None, 31, 31, 64)        0         \n",
      "_________________________________________________________________\n",
      "conv2d_4 (Conv2D)            (None, 29, 29, 128)       73856     \n",
      "_________________________________________________________________\n",
      "conv2d_5 (Conv2D)            (None, 27, 27, 256)       295168    \n",
      "_________________________________________________________________\n",
      "max_pooling2d_3 (MaxPooling2 (None, 13, 13, 256)       0         \n",
      "_________________________________________________________________\n",
      "conv2d_6 (Conv2D)            (None, 11, 11, 128)       295040    \n",
      "_________________________________________________________________\n",
      "max_pooling2d_4 (MaxPooling2 (None, 5, 5, 128)         0         \n",
      "_________________________________________________________________\n",
      "conv2d_7 (Conv2D)            (None, 3, 3, 256)         295168    \n",
      "_________________________________________________________________\n",
      "max_pooling2d_5 (MaxPooling2 (None, 1, 1, 256)         0         \n",
      "_________________________________________________________________\n",
      "dropout (Dropout)            (None, 1, 1, 256)         0         \n",
      "_________________________________________________________________\n",
      "flatten_1 (Flatten)          (None, 256)               0         \n",
      "_________________________________________________________________\n",
      "dense_2 (Dense)              (None, 64)                16448     \n",
      "_________________________________________________________________\n",
      "dense_3 (Dense)              (None, 32)                2080      \n",
      "_________________________________________________________________\n",
      "dense_4 (Dense)              (None, 2)                 66        \n",
      "=================================================================\n",
      "Total params: 979,618\n",
      "Trainable params: 979,618\n",
      "Non-trainable params: 0\n",
      "_________________________________________________________________\n"
     ]
    }
   ],
   "source": [
    "# Create a Sequential model object\n",
    "# from tensorflow.keras import regularizers\n",
    "cnnImprovedModel = models.Sequential()\n",
    "\n",
    "# Add layers Conv2D for CNN and sepcify MaxPooling\n",
    "\n",
    "# Layer 1 = input layer\n",
    "cnnImprovedModel.add(layers.Conv2D(64, (3,3), activation=\"relu\", input_shape=(64,64,3) ))\n",
    "\n",
    "cnnImprovedModel.add(layers.MaxPooling2D((2,2)))\n",
    "\n",
    "# Layer 2\n",
    "cnnImprovedModel.add(layers.Conv2D(128, (3,3), activation=\"relu\"))\n",
    "cnnImprovedModel.add(layers.Conv2D(256, (3,3), activation=\"relu\"))\n",
    "cnnImprovedModel.add(layers.MaxPooling2D((2,2)))\n",
    "# Added for improvement\n",
    "# cnnImprovedModel.add(layers.Dropout(0.5))\n",
    "\n",
    "# Added for improvement\n",
    "cnnImprovedModel.add(layers.Conv2D(128, (3,3), activation=\"relu\"))\n",
    "cnnImprovedModel.add(layers.MaxPooling2D((2,2)))\n",
    "\n",
    "# Added for improvement\n",
    "cnnImprovedModel.add(layers.Conv2D(256, (3,3), activation=\"relu\"))\n",
    "cnnImprovedModel.add(layers.MaxPooling2D((2,2)))\n",
    "\n",
    "# Added for improvement\n",
    "cnnImprovedModel.add(layers.Dropout(0.5))\n",
    "cnnImprovedModel.add(layers.Flatten())\n",
    "\n",
    "# Add Dense layers or fully connected layers\n",
    "# Layer 4\n",
    "cnnImprovedModel.add(layers.Dense(64, activation=\"relu\"))\n",
    "# layer 2 with L1-L2 with Regularizers\n",
    "# cnnModel.add(layers.Dense(64, activation='relu', kernel_regularizer = regularizers.l1_l2(l1=0.01, l2=0.01), \n",
    "#                           activity_regularizer = regularizers.l1_l2(l1=0.01, l2=0.01) ) )\n",
    "\n",
    "cnnImprovedModel.add(layers.Dense(32, activation=\"relu\"))\n",
    "\n",
    "# Layer 6\n",
    "cnnImprovedModel.add(layers.Dense(2, activation=\"softmax\"))\n",
    "\n",
    "cnnImprovedModel.summary()"
   ]
  },
  {
   "cell_type": "code",
   "execution_count": 36,
   "metadata": {},
   "outputs": [],
   "source": [
    "# Configure  the model for training, by using appropriate optimizers and regularizations\n",
    "# Available optimizer: adam, rmsprop, adagrad, sgd\n",
    "# loss:  objective that the model will try to minimize. \n",
    "# Available loss: categorical_crossentropy, binary_crossentropy, mean_squared_error\n",
    "# metrics: List of metrics to be evaluated by the model during training and testing. \n",
    "# from keras.optimizers import SGD\n",
    "# opt = SGD(lr=0.01)\n",
    "cnnImprovedModel.compile(optimizer = \"adam\", loss = \"binary_crossentropy\", metrics = [\"accuracy\"])\n",
    "# cnnModel.compile(optimizer = opt, loss = \"binary_crossentropy\", metrics = [\"accuracy\"])"
   ]
  },
  {
   "cell_type": "code",
   "execution_count": 37,
   "metadata": {},
   "outputs": [
    {
     "name": "stdout",
     "output_type": "stream",
     "text": [
      "Num GPUs Available:  0\n"
     ]
    }
   ],
   "source": [
    "print(\"Num GPUs Available: \", len(tf.config.experimental.list_physical_devices('GPU')))"
   ]
  },
  {
   "cell_type": "code",
   "execution_count": 38,
   "metadata": {},
   "outputs": [
    {
     "name": "stdout",
     "output_type": "stream",
     "text": [
      "Epoch 1/25\n",
      "49/49 [==============================] - 41s 839ms/step - loss: 0.4316 - accuracy: 0.7954 - val_loss: 0.1844 - val_accuracy: 0.9306\n",
      "Epoch 2/25\n",
      "49/49 [==============================] - 40s 822ms/step - loss: 0.2095 - accuracy: 0.9266 - val_loss: 0.1547 - val_accuracy: 0.9422\n",
      "Epoch 3/25\n",
      "49/49 [==============================] - 39s 798ms/step - loss: 0.1900 - accuracy: 0.9324 - val_loss: 0.2241 - val_accuracy: 0.9133\n",
      "Epoch 4/25\n",
      "49/49 [==============================] - 41s 844ms/step - loss: 0.1523 - accuracy: 0.9472 - val_loss: 0.1202 - val_accuracy: 0.9595\n",
      "Epoch 5/25\n",
      "49/49 [==============================] - 40s 808ms/step - loss: 0.1142 - accuracy: 0.9607 - val_loss: 0.0742 - val_accuracy: 0.9769\n",
      "Epoch 6/25\n",
      "49/49 [==============================] - 41s 831ms/step - loss: 0.0919 - accuracy: 0.9672 - val_loss: 0.0770 - val_accuracy: 0.9711\n",
      "Epoch 7/25\n",
      "49/49 [==============================] - 41s 828ms/step - loss: 0.1162 - accuracy: 0.9620 - val_loss: 0.1433 - val_accuracy: 0.9653\n",
      "Epoch 8/25\n",
      "49/49 [==============================] - 41s 845ms/step - loss: 0.1070 - accuracy: 0.9620 - val_loss: 0.0714 - val_accuracy: 0.9769\n",
      "Epoch 9/25\n",
      "49/49 [==============================] - 42s 864ms/step - loss: 0.0925 - accuracy: 0.9698 - val_loss: 0.0549 - val_accuracy: 0.9884\n",
      "Epoch 10/25\n",
      "49/49 [==============================] - 76s 2s/step - loss: 0.0833 - accuracy: 0.9704 - val_loss: 0.0913 - val_accuracy: 0.9653\n",
      "Epoch 11/25\n",
      "49/49 [==============================] - 77s 2s/step - loss: 0.0891 - accuracy: 0.9691 - val_loss: 0.0765 - val_accuracy: 0.9827\n",
      "Epoch 12/25\n",
      "49/49 [==============================] - 72s 1s/step - loss: 0.0642 - accuracy: 0.9781 - val_loss: 0.0816 - val_accuracy: 0.9711\n",
      "Epoch 13/25\n",
      "49/49 [==============================] - 71s 1s/step - loss: 0.0682 - accuracy: 0.9755 - val_loss: 0.0883 - val_accuracy: 0.9711\n",
      "Epoch 14/25\n",
      "49/49 [==============================] - 71s 1s/step - loss: 0.0790 - accuracy: 0.9755 - val_loss: 0.0490 - val_accuracy: 0.9827\n",
      "Epoch 15/25\n",
      "49/49 [==============================] - 71s 1s/step - loss: 0.0676 - accuracy: 0.9813 - val_loss: 0.0452 - val_accuracy: 0.9884\n",
      "Epoch 16/25\n",
      "49/49 [==============================] - 74s 2s/step - loss: 0.0402 - accuracy: 0.9871 - val_loss: 0.0738 - val_accuracy: 0.9769\n",
      "Epoch 17/25\n",
      "49/49 [==============================] - 73s 1s/step - loss: 0.0523 - accuracy: 0.9839 - val_loss: 0.0276 - val_accuracy: 0.9884\n",
      "Epoch 18/25\n",
      "49/49 [==============================] - 71s 1s/step - loss: 0.0323 - accuracy: 0.9897 - val_loss: 0.0575 - val_accuracy: 0.9827\n",
      "Epoch 19/25\n",
      "49/49 [==============================] - 73s 1s/step - loss: 0.0324 - accuracy: 0.9910 - val_loss: 0.1557 - val_accuracy: 0.9653\n",
      "Epoch 20/25\n",
      "49/49 [==============================] - 72s 1s/step - loss: 0.0649 - accuracy: 0.9820 - val_loss: 0.0666 - val_accuracy: 0.9769\n",
      "Epoch 21/25\n",
      "49/49 [==============================] - 71s 1s/step - loss: 0.0315 - accuracy: 0.9910 - val_loss: 0.0785 - val_accuracy: 0.9827\n",
      "Epoch 22/25\n",
      "49/49 [==============================] - 72s 1s/step - loss: 0.0326 - accuracy: 0.9942 - val_loss: 0.0985 - val_accuracy: 0.9769\n",
      "Epoch 23/25\n",
      "49/49 [==============================] - 73s 1s/step - loss: 0.0225 - accuracy: 0.9936 - val_loss: 0.0704 - val_accuracy: 0.9827\n",
      "Epoch 24/25\n",
      "49/49 [==============================] - 72s 1s/step - loss: 0.0621 - accuracy: 0.9807 - val_loss: 0.1233 - val_accuracy: 0.9769\n",
      "Epoch 25/25\n",
      "49/49 [==============================] - 71s 1s/step - loss: 0.0703 - accuracy: 0.9775 - val_loss: 0.1089 - val_accuracy: 0.9769\n"
     ]
    }
   ],
   "source": [
    "# train the model\n",
    "# from tensorflow.keras.callbacks import EarlyStopping\n",
    "# es = EarlyStopping(monitor='val_loss', mode='min', verbose=1, patience=3)\n",
    "\n",
    "# fit model\n",
    "# history = cnnModel.fit(Xtrain, Ytrain, epochs = 25, batch_size = 64, \n",
    "#                        validation_split = 0.1, callbacks=[es])\n",
    "history = cnnImprovedModel.fit(X_train, Y_train, epochs = 25, batch_size = 32, validation_split = 0.1, shuffle= False)"
   ]
  },
  {
   "cell_type": "code",
   "execution_count": 39,
   "metadata": {},
   "outputs": [
    {
     "name": "stdout",
     "output_type": "stream",
     "text": [
      "Final training loss \t 0.07028932124376297\n",
      "Final training accuracy  0.977477490901947\n"
     ]
    }
   ],
   "source": [
    "print('Final training loss \\t', history.history['loss'][-1])\n",
    "print('Final training accuracy ', history.history['accuracy'][-1])"
   ]
  },
  {
   "cell_type": "code",
   "execution_count": 40,
   "metadata": {},
   "outputs": [
    {
     "name": "stdout",
     "output_type": "stream",
     "text": [
      "10/10 [==============================] - 2s 216ms/step - loss: 0.4625 - accuracy: 0.9000\n"
     ]
    }
   ],
   "source": [
    "# testing the model\n",
    "testLoss, testAccuracy = cnnImprovedModel.evaluate(X_test, Y_test)"
   ]
  },
  {
   "cell_type": "code",
   "execution_count": 41,
   "metadata": {},
   "outputs": [
    {
     "name": "stdout",
     "output_type": "stream",
     "text": [
      "Testing loss \t 0.4624880254268646\n",
      "Testing accuracy  0.8999999761581421\n"
     ]
    }
   ],
   "source": [
    "print('Testing loss \\t', testLoss)\n",
    "print('Testing accuracy ', testAccuracy)"
   ]
  },
  {
   "cell_type": "code",
   "execution_count": 44,
   "metadata": {},
   "outputs": [
    {
     "data": {
      "image/png": "[encoded data removed]",
      "text/plain": [
       "<Figure size 1440x288 with 1 Axes>"
      ]
     },
     "metadata": {
      "needs_background": "light"
     },
     "output_type": "display_data"
    },
    {
     "data": {
      "image/png": "[encoded data removed]",
      "text/plain": [
       "<Figure size 1440x288 with 1 Axes>"
      ]
     },
     "metadata": {
      "needs_background": "light"
     },
     "output_type": "display_data"
    }
   ],
   "source": [
    "# plotting training and validation loss\n",
    "fig, ax = plt.subplots(figsize=(20,4))\n",
    "loss = history.history['loss']\n",
    "val_loss = history.history['val_loss']\n",
    "epochs = range(1, len(loss) + 1)\n",
    "plt.plot(epochs, loss, color='red', label='Training loss')\n",
    "plt.plot(epochs, val_loss, color='green', label='Validation loss')\n",
    "plt.title('Training and Validation loss')\n",
    "plt.xlabel('Epochs')\n",
    "plt.ylabel('Loss')\n",
    "plt.legend()\n",
    "plt.show()\n",
    "\n",
    "# plotting training and validation accuracy\n",
    "fig, ax = plt.subplots(figsize=(20,4))\n",
    "acc = history.history['accuracy']\n",
    "val_acc = history.history['val_accuracy']\n",
    "plt.plot(epochs, acc, color='red', label='Training acc')\n",
    "plt.plot(epochs, val_acc, color='green', label='Validation acc')\n",
    "plt.title('Training and Validation accuracy')\n",
    "plt.xlabel('Epochs')\n",
    "plt.ylabel('Accuracy')\n",
    "plt.legend()\n",
    "plt.show()"
   ]
  },
  {
   "cell_type": "code",
   "execution_count": 45,
   "metadata": {},
   "outputs": [],
   "source": [
    "Y_prediction_improved = cnnImprovedModel.predict(X_test)\n",
    "# Convert predictions classes to one hot vectors \n",
    "Y_pred_classes_improved = np.argmax(Y_prediction_improved, axis = 1) \n",
    "\n",
    "# Convert validation observations to one hot vectors\n",
    "Y_true_improved = np.argmax(Y_test,axis = 1) "
   ]
  },
  {
   "cell_type": "code",
   "execution_count": 47,
   "metadata": {},
   "outputs": [
    {
     "name": "stdout",
     "output_type": "stream",
     "text": [
      "              precision    recall  f1-score   support\n",
      "\n",
      "           0       0.89      0.92      0.90       160\n",
      "           1       0.92      0.88      0.90       160\n",
      "\n",
      "    accuracy                           0.90       320\n",
      "   macro avg       0.90      0.90      0.90       320\n",
      "weighted avg       0.90      0.90      0.90       320\n",
      "\n"
     ]
    }
   ],
   "source": [
    "# Classification Report\n",
    "from sklearn.metrics import classification_report \n",
    "imporved_model_report = classification_report(Y_true_improved, Y_pred_classes_improved)\n",
    "print(classification_report(Y_true_improved, Y_pred_classes_improved))"
   ]
  },
  {
   "cell_type": "markdown",
   "metadata": {},
   "source": [
    "### Plot precision and recall for default and improved model in a single bar plot"
   ]
  },
  {
   "cell_type": "code",
   "execution_count": 91,
   "metadata": {},
   "outputs": [
    {
     "data": {
      "text/plain": [
       "(array([0.88554217, 0.91558442]),\n",
       " array([0.91875, 0.88125]),\n",
       " array([0.90184049, 0.89808917]),\n",
       " array([160, 160], dtype=int64))"
      ]
     },
     "execution_count": 91,
     "metadata": {},
     "output_type": "execute_result"
    }
   ],
   "source": [
    "from sklearn.metrics import confusion_matrix\n",
    "from sklearn.metrics import precision_recall_fscore_support\n",
    "\n",
    "improved_precision_recall = precision_recall_fscore_support(Y_true_improved, Y_pred_classes_improved,average=None)\n",
    "#improved_model_report = confusion_matrix(Y_true_improved, Y_pred_classes_improved)\n",
    "improved_precision_recall"
   ]
  },
  {
   "cell_type": "code",
   "execution_count": 80,
   "metadata": {},
   "outputs": [
    {
     "data": {
      "text/plain": [
       "(array([0.76111111, 0.83571429]),\n",
       " array([0.85625, 0.73125]),\n",
       " array([0.80588235, 0.78      ]),\n",
       " array([160, 160], dtype=int64))"
      ]
     },
     "execution_count": 80,
     "metadata": {},
     "output_type": "execute_result"
    }
   ],
   "source": [
    "from sklearn.metrics import confusion_matrix\n",
    "default_precision_recall = precision_recall_fscore_support(Y_true, Y_pred_classes,average=None)\n",
    "default_precision_recall"
   ]
  },
  {
   "cell_type": "code",
   "execution_count": 99,
   "metadata": {},
   "outputs": [],
   "source": [
    "import pandas as pd\n",
    "df =pd.DataFrame()\n",
    "df[\"Precision_0\"] = [ round(default_precision_recall[0][0],2) , round(improved_precision_recall[0][0],2) ]\n",
    "df[\"Precision_1\"] = [ round(default_precision_recall[0][1],2) , round(improved_precision_recall[0][1],2) ]\n",
    "df[\"Recall_0\"] = [ round(default_precision_recall[1][0],2) , round(improved_precision_recall[1][0],2) ]\n",
    "df[\"Recall_1\"] = [ round(default_precision_recall[1][1],2) , round(improved_precision_recall[1][1],2) ]\n"
   ]
  },
  {
   "cell_type": "code",
   "execution_count": 100,
   "metadata": {},
   "outputs": [
    {
     "data": {
      "text/html": [
       "<div>\n",
       "<style scoped>\n",
       "    .dataframe tbody tr th:only-of-type {\n",
       "        vertical-align: middle;\n",
       "    }\n",
       "\n",
       "    .dataframe tbody tr th {\n",
       "        vertical-align: top;\n",
       "    }\n",
       "\n",
       "    .dataframe thead th {\n",
       "        text-align: right;\n",
       "    }\n",
       "</style>\n",
       "<table border=\"1\" class=\"dataframe\">\n",
       "  <thead>\n",
       "    <tr style=\"text-align: right;\">\n",
       "      <th></th>\n",
       "      <th>Precision_0</th>\n",
       "      <th>Precision_1</th>\n",
       "      <th>Recall_0</th>\n",
       "      <th>Recall_1</th>\n",
       "    </tr>\n",
       "  </thead>\n",
       "  <tbody>\n",
       "    <tr>\n",
       "      <th>default</th>\n",
       "      <td>0.76</td>\n",
       "      <td>0.84</td>\n",
       "      <td>0.86</td>\n",
       "      <td>0.73</td>\n",
       "    </tr>\n",
       "    <tr>\n",
       "      <th>modified</th>\n",
       "      <td>0.89</td>\n",
       "      <td>0.92</td>\n",
       "      <td>0.92</td>\n",
       "      <td>0.88</td>\n",
       "    </tr>\n",
       "  </tbody>\n",
       "</table>\n",
       "</div>"
      ],
      "text/plain": [
       "          Precision_0  Precision_1  Recall_0  Recall_1\n",
       "default          0.76         0.84      0.86      0.73\n",
       "modified         0.89         0.92      0.92      0.88"
      ]
     },
     "execution_count": 100,
     "metadata": {},
     "output_type": "execute_result"
    }
   ],
   "source": [
    "df.index=['default','modified']\n",
    "df\n"
   ]
  },
  {
   "cell_type": "code",
   "execution_count": 101,
   "metadata": {},
   "outputs": [
    {
     "data": {
      "text/plain": [
       "<matplotlib.axes._subplots.AxesSubplot at 0x14f8ab97580>"
      ]
     },
     "execution_count": 101,
     "metadata": {},
     "output_type": "execute_result"
    },
    {
     "data": {
      "image/png": "[encoded data removed]",
      "text/plain": [
       "<Figure size 720x720 with 1 Axes>"
      ]
     },
     "metadata": {
      "needs_background": "light"
     },
     "output_type": "display_data"
    }
   ],
   "source": [
    "df.plot(kind='bar',stacked=True, figsize=(10,10))"
   ]
  },
  {
   "cell_type": "code",
   "execution_count": null,
   "metadata": {},
   "outputs": [],
   "source": []
  }
 ],
 "metadata": {
  "kernelspec": {
   "display_name": "Python 3",
   "language": "python",
   "name": "python3"
  },
  "language_info": {
   "codemirror_mode": {
    "name": "ipython",
    "version": 3
   },
   "file_extension": ".py",
   "mimetype": "text/x-python",
   "name": "python",
   "nbconvert_exporter": "python",
   "pygments_lexer": "ipython3",
   "version": "3.7.3"
  }
 },
 "nbformat": 4,
 "nbformat_minor": 4
}
