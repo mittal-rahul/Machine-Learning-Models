{
 "cells": [
  {
   "cell_type": "markdown",
   "metadata": {},
   "source": [
    "# Question1"
   ]
  },
  {
   "cell_type": "markdown",
   "metadata": {},
   "source": [
    "## Ans 1.1"
   ]
  },
  {
   "cell_type": "code",
   "execution_count": 1,
   "metadata": {},
   "outputs": [],
   "source": [
    "import pandas as pd\n",
    "import numpy as np\n",
    "import matplotlib.pyplot as plt\n",
    "from sklearn.linear_model import LinearRegression\n",
    "from sklearn.metrics import mean_squared_error"
   ]
  },
  {
   "cell_type": "code",
   "execution_count": 2,
   "metadata": {},
   "outputs": [
    {
     "data": {
      "text/html": [
       "<div>\n",
       "<style scoped>\n",
       "    .dataframe tbody tr th:only-of-type {\n",
       "        vertical-align: middle;\n",
       "    }\n",
       "\n",
       "    .dataframe tbody tr th {\n",
       "        vertical-align: top;\n",
       "    }\n",
       "\n",
       "    .dataframe thead th {\n",
       "        text-align: right;\n",
       "    }\n",
       "</style>\n",
       "<table border=\"1\" class=\"dataframe\">\n",
       "  <thead>\n",
       "    <tr style=\"text-align: right;\">\n",
       "      <th></th>\n",
       "      <th>Date</th>\n",
       "      <th>Time</th>\n",
       "      <th>CO(GT)</th>\n",
       "      <th>PT08.S1(CO)</th>\n",
       "      <th>NMHC(GT)</th>\n",
       "      <th>C6H6(GT)</th>\n",
       "      <th>PT08.S2(NMHC)</th>\n",
       "      <th>NOx(GT)</th>\n",
       "      <th>PT08.S3(NOx)</th>\n",
       "      <th>NO2(GT)</th>\n",
       "      <th>PT08.S4(NO2)</th>\n",
       "      <th>PT08.S5(O3)</th>\n",
       "      <th>T</th>\n",
       "      <th>RH</th>\n",
       "      <th>AH</th>\n",
       "    </tr>\n",
       "  </thead>\n",
       "  <tbody>\n",
       "    <tr>\n",
       "      <th>0</th>\n",
       "      <td>2004-03-10</td>\n",
       "      <td>18:00:00</td>\n",
       "      <td>2.6</td>\n",
       "      <td>1360.00</td>\n",
       "      <td>150</td>\n",
       "      <td>11.881723</td>\n",
       "      <td>1045.50</td>\n",
       "      <td>166.0</td>\n",
       "      <td>1056.25</td>\n",
       "      <td>113.0</td>\n",
       "      <td>1692.00</td>\n",
       "      <td>1267.50</td>\n",
       "      <td>13.60</td>\n",
       "      <td>48.875001</td>\n",
       "      <td>0.757754</td>\n",
       "    </tr>\n",
       "    <tr>\n",
       "      <th>1</th>\n",
       "      <td>2004-03-10</td>\n",
       "      <td>19:00:00</td>\n",
       "      <td>2.0</td>\n",
       "      <td>1292.25</td>\n",
       "      <td>112</td>\n",
       "      <td>9.397165</td>\n",
       "      <td>954.75</td>\n",
       "      <td>103.0</td>\n",
       "      <td>1173.75</td>\n",
       "      <td>92.0</td>\n",
       "      <td>1558.75</td>\n",
       "      <td>972.25</td>\n",
       "      <td>13.30</td>\n",
       "      <td>47.700000</td>\n",
       "      <td>0.725487</td>\n",
       "    </tr>\n",
       "    <tr>\n",
       "      <th>2</th>\n",
       "      <td>2004-03-10</td>\n",
       "      <td>20:00:00</td>\n",
       "      <td>2.2</td>\n",
       "      <td>1402.00</td>\n",
       "      <td>88</td>\n",
       "      <td>8.997817</td>\n",
       "      <td>939.25</td>\n",
       "      <td>131.0</td>\n",
       "      <td>1140.00</td>\n",
       "      <td>114.0</td>\n",
       "      <td>1554.50</td>\n",
       "      <td>1074.00</td>\n",
       "      <td>11.90</td>\n",
       "      <td>53.975000</td>\n",
       "      <td>0.750239</td>\n",
       "    </tr>\n",
       "    <tr>\n",
       "      <th>3</th>\n",
       "      <td>2004-03-10</td>\n",
       "      <td>21:00:00</td>\n",
       "      <td>2.2</td>\n",
       "      <td>1375.50</td>\n",
       "      <td>80</td>\n",
       "      <td>9.228796</td>\n",
       "      <td>948.25</td>\n",
       "      <td>172.0</td>\n",
       "      <td>1092.00</td>\n",
       "      <td>122.0</td>\n",
       "      <td>1583.75</td>\n",
       "      <td>1203.25</td>\n",
       "      <td>11.00</td>\n",
       "      <td>60.000000</td>\n",
       "      <td>0.786713</td>\n",
       "    </tr>\n",
       "    <tr>\n",
       "      <th>4</th>\n",
       "      <td>2004-03-10</td>\n",
       "      <td>22:00:00</td>\n",
       "      <td>1.6</td>\n",
       "      <td>1272.25</td>\n",
       "      <td>51</td>\n",
       "      <td>6.518224</td>\n",
       "      <td>835.50</td>\n",
       "      <td>131.0</td>\n",
       "      <td>1205.00</td>\n",
       "      <td>116.0</td>\n",
       "      <td>1490.00</td>\n",
       "      <td>1110.00</td>\n",
       "      <td>11.15</td>\n",
       "      <td>59.575001</td>\n",
       "      <td>0.788794</td>\n",
       "    </tr>\n",
       "  </tbody>\n",
       "</table>\n",
       "</div>"
      ],
      "text/plain": [
       "        Date      Time  CO(GT)  PT08.S1(CO)  NMHC(GT)   C6H6(GT)  \\\n",
       "0 2004-03-10  18:00:00     2.6      1360.00       150  11.881723   \n",
       "1 2004-03-10  19:00:00     2.0      1292.25       112   9.397165   \n",
       "2 2004-03-10  20:00:00     2.2      1402.00        88   8.997817   \n",
       "3 2004-03-10  21:00:00     2.2      1375.50        80   9.228796   \n",
       "4 2004-03-10  22:00:00     1.6      1272.25        51   6.518224   \n",
       "\n",
       "   PT08.S2(NMHC)  NOx(GT)  PT08.S3(NOx)  NO2(GT)  PT08.S4(NO2)  PT08.S5(O3)  \\\n",
       "0        1045.50    166.0       1056.25    113.0       1692.00      1267.50   \n",
       "1         954.75    103.0       1173.75     92.0       1558.75       972.25   \n",
       "2         939.25    131.0       1140.00    114.0       1554.50      1074.00   \n",
       "3         948.25    172.0       1092.00    122.0       1583.75      1203.25   \n",
       "4         835.50    131.0       1205.00    116.0       1490.00      1110.00   \n",
       "\n",
       "       T         RH        AH  \n",
       "0  13.60  48.875001  0.757754  \n",
       "1  13.30  47.700000  0.725487  \n",
       "2  11.90  53.975000  0.750239  \n",
       "3  11.00  60.000000  0.786713  \n",
       "4  11.15  59.575001  0.788794  "
      ]
     },
     "execution_count": 2,
     "metadata": {},
     "output_type": "execute_result"
    }
   ],
   "source": [
    "data = pd.read_excel ('AirQuality.xlsx')\n",
    "data.head()"
   ]
  },
  {
   "cell_type": "code",
   "execution_count": 3,
   "metadata": {},
   "outputs": [
    {
     "data": {
      "text/plain": [
       "Text(0, 0.5, 'CO(GT)')"
      ]
     },
     "execution_count": 3,
     "metadata": {},
     "output_type": "execute_result"
    },
    {
     "data": {
      "image/png": "[encoded data removed]",
      "text/plain": [
       "<Figure size 432x288 with 1 Axes>"
      ]
     },
     "metadata": {
      "needs_background": "light"
     },
     "output_type": "display_data"
    }
   ],
   "source": [
    "X= data['NOx(GT)']\n",
    "X = X.values.reshape(-1, 1)\n",
    "Y= data['CO(GT)']\n",
    "Y = Y.values.reshape(-1, 1)\n",
    "plt.scatter(X, Y)\n",
    "plt.title(\"Plot of provided data for Column C “CO(GT)” VS Column H “NOx(GT)\")\n",
    "plt.xlabel(\"NOx(GT)\")\n",
    "plt.ylabel(\"CO(GT)\")"
   ]
  },
  {
   "cell_type": "markdown",
   "metadata": {},
   "source": [
    "### The data with invalid values (noise) for few columns must not be removed as this can result in loss of useful data points. Few rows have -200 for CO(GT) and NOx(GT) which we call as noise and it makes the graph improper. We will treat them as missing data and replace those values with the constant 0."
   ]
  },
  {
   "cell_type": "code",
   "execution_count": 4,
   "metadata": {},
   "outputs": [
    {
     "data": {
      "text/plain": [
       "Text(0, 0.5, 'CO(GT)')"
      ]
     },
     "execution_count": 4,
     "metadata": {},
     "output_type": "execute_result"
    },
    {
     "data": {
      "image/png": "[encoded data removed]",
      "text/plain": [
       "<Figure size 432x288 with 1 Axes>"
      ]
     },
     "metadata": {
      "needs_background": "light"
     },
     "output_type": "display_data"
    }
   ],
   "source": [
    "from sklearn.impute import SimpleImputer\n",
    "imputer = SimpleImputer(missing_values =-200, strategy = 'constant', fill_value = 0)\n",
    "imputer.fit(X)\n",
    "SimpleImputer()\n",
    "X = imputer.transform(X)\n",
    "imputer = SimpleImputer(missing_values = -200, strategy = 'constant', fill_value = 0)\n",
    "imputer.fit(Y)\n",
    "Y = imputer.transform(Y)\n",
    "plt.scatter(X, Y)\n",
    "plt.title(\"Plot of preprocessed data Column C “CO (GT)” VS Column H “NOx (GT)\")\n",
    "plt.xlabel(\"NOx(GT)\")\n",
    "plt.ylabel(\"CO(GT)\")"
   ]
  },
  {
   "cell_type": "markdown",
   "metadata": {},
   "source": [
    "### As we can see in the graph, that both the variables CO(GT) and NOx(GT) have a linear relationship. As the X(NOx(GT)) is changing, it leads to change in y (CO(GT)). So, we can derive a linear equation which can fit these two columns and give us a linear regression model."
   ]
  },
  {
   "cell_type": "code",
   "execution_count": 5,
   "metadata": {},
   "outputs": [
    {
     "data": {
      "text/plain": [
       "LinearRegression(copy_X=True, fit_intercept=True, n_jobs=None,\n",
       "         normalize=False)"
      ]
     },
     "execution_count": 5,
     "metadata": {},
     "output_type": "execute_result"
    }
   ],
   "source": [
    "# Split test and train data to check the error in prediction, use train_test_split for the same\n",
    "\n",
    "from sklearn.model_selection import train_test_split \n",
    "x_train, x_test, y_train, y_test = train_test_split(X, Y, train_size=0.7,test_size=0.3,random_state=0)\n",
    "lin_reg = LinearRegression()\n",
    "lin_reg.fit(x_train, y_train)"
   ]
  },
  {
   "cell_type": "code",
   "execution_count": 6,
   "metadata": {},
   "outputs": [
    {
     "name": "stdout",
     "output_type": "stream",
     "text": [
      "The coefficient found by the linear regression model is  [[0.00590583]]\n",
      "The intercept found by the linear regression model is  [0.5638808]\n"
     ]
    }
   ],
   "source": [
    "print('The coefficient found by the linear regression model is ',lin_reg.coef_)\n",
    "print('The intercept found by the linear regression model is ',lin_reg.intercept_)"
   ]
  },
  {
   "cell_type": "code",
   "execution_count": 7,
   "metadata": {},
   "outputs": [
    {
     "data": {
      "image/png": "[encoded data removed]",
      "text/plain": [
       "<Figure size 432x288 with 1 Axes>"
      ]
     },
     "metadata": {
      "needs_background": "light"
     },
     "output_type": "display_data"
    }
   ],
   "source": [
    "plt.scatter(X, Y)\n",
    "plt.plot(x_train, lin_reg.predict(x_train), color='red')\n",
    "plt.title('Linear Regression Model')\n",
    "plt.xlabel(\"NOx(GT)\")\n",
    "plt.ylabel(\"CO(GT)\")\n",
    "plt.show()"
   ]
  },
  {
   "cell_type": "code",
   "execution_count": 8,
   "metadata": {},
   "outputs": [
    {
     "name": "stdout",
     "output_type": "stream",
     "text": [
      "Mean squared error = 0.83\n",
      "Variance score = 0.64\n"
     ]
    }
   ],
   "source": [
    "from sklearn.metrics import mean_squared_error, r2_score\n",
    "\n",
    "y_pred = lin_reg.predict(x_test)\n",
    "\n",
    "print(\"Mean squared error = %.2f\" % mean_squared_error(y_test, y_pred))\n",
    "\n",
    "# Explained variance score: 1 is perfect prediction.\n",
    "# R^2 (coefficient of determination) regression score function.\n",
    "# Best possible score is 1.0, a\n",
    "# a constant model that always predicts the expected value of y, disregarding the input features, \n",
    "#would get a R^2 score of 0.0.\n",
    "\n",
    "print('Variance score = %.2f' % r2_score(y_test, y_pred))"
   ]
  },
  {
   "cell_type": "markdown",
   "metadata": {},
   "source": [
    "### The value of CO is linearly dependent on NOx which is evident from the above model and its graph. As the variance score is more than .5 and near to 1, the prediction is pretty decent and we can use linear regression model for this problem."
   ]
  },
  {
   "cell_type": "markdown",
   "metadata": {},
   "source": [
    "## Ans 1.2\n",
    "\n",
    "### Instead of using sklearn library, the below algorithm using numpy can be used to build a linear regression model."
   ]
  },
  {
   "cell_type": "code",
   "execution_count": 9,
   "metadata": {},
   "outputs": [
    {
     "name": "stdout",
     "output_type": "stream",
     "text": [
      "Coeffecient found by numpy ibrary is:  [0.00586651]\n",
      "Intercept found by numpy ibrary is:  [0.57090731]\n"
     ]
    },
    {
     "name": "stderr",
     "output_type": "stream",
     "text": [
      "C:\\Users\\rmittal5\\AppData\\Local\\Continuum\\anaconda3\\lib\\site-packages\\ipykernel_launcher.py:10: SettingWithCopyWarning: \n",
      "A value is trying to be set on a copy of a slice from a DataFrame\n",
      "\n",
      "See the caveats in the documentation: http://pandas.pydata.org/pandas-docs/stable/indexing.html#indexing-view-versus-copy\n",
      "  # Remove the CWD from sys.path while we load stuff.\n",
      "C:\\Users\\rmittal5\\AppData\\Local\\Continuum\\anaconda3\\lib\\site-packages\\ipykernel_launcher.py:11: SettingWithCopyWarning: \n",
      "A value is trying to be set on a copy of a slice from a DataFrame\n",
      "\n",
      "See the caveats in the documentation: http://pandas.pydata.org/pandas-docs/stable/indexing.html#indexing-view-versus-copy\n",
      "  # This is added back by InteractiveShellApp.init_path()\n"
     ]
    }
   ],
   "source": [
    "import numpy as np\n",
    "import pandas as pd\n",
    "from pandas import ExcelWriter\n",
    "from pandas import ExcelFile\n",
    "\n",
    "df = pd.read_excel ('AirQuality.xlsx')\n",
    "y = df['CO(GT)']\n",
    "x = df['NOx(GT)']\n",
    "\n",
    "x[x < 0] = 0\n",
    "y[y < 0] = 0\n",
    "\n",
    "N = len(x)\n",
    "x = np.array(x)\n",
    "\n",
    "y = np.array(y)\n",
    "\n",
    "sum_x = sum(x)\n",
    "sum_y = sum(y)\n",
    "sum_x_square = sum(np.square(x))\n",
    "sum_xy = sum(x * y)\n",
    "\n",
    "A =np.array([[N,sum_x], [sum_x, sum_x_square]])\n",
    "\n",
    "B = np.array([[sum_y], [sum_xy]])\n",
    "\n",
    "parm = np.linalg.solve(A,B)\n",
    "\n",
    "w0 = parm[0]\n",
    "w1 = parm[1]\n",
    "print('Coeffecient found by numpy ibrary is: ',w1)\n",
    "print('Intercept found by numpy ibrary is: ',w0)"
   ]
  },
  {
   "cell_type": "markdown",
   "metadata": {},
   "source": [
    "### The above model using numpy functions takes more time when the data is big. Whereas LinearRegression from sklearn takes less time. Therefore, the performance of sklearn is better than numpy."
   ]
  },
  {
   "cell_type": "markdown",
   "metadata": {},
   "source": [
    "# ----------------------------------------------------------------------------------------------------------------"
   ]
  },
  {
   "cell_type": "markdown",
   "metadata": {},
   "source": [
    "# Question 2"
   ]
  },
  {
   "cell_type": "markdown",
   "metadata": {},
   "source": [
    "## Ans 2.1"
   ]
  },
  {
   "cell_type": "code",
   "execution_count": 61,
   "metadata": {},
   "outputs": [],
   "source": [
    "import numpy as np\n",
    "import matplotlib.pyplot as plt\n",
    "import pandas as pd\n",
    "from sklearn.linear_model import SGDRegressor\n",
    "from sklearn.metrics import mean_squared_error\n",
    "import math\n",
    "from sklearn.linear_model import LinearRegression\n"
   ]
  },
  {
   "cell_type": "markdown",
   "metadata": {},
   "source": [
    "### Application of Batch gradient descent algorithm to design model which can predict value of CO based on the given features"
   ]
  },
  {
   "cell_type": "code",
   "execution_count": 62,
   "metadata": {},
   "outputs": [
    {
     "data": {
      "text/plain": [
       "(9357, 10)"
      ]
     },
     "execution_count": 62,
     "metadata": {},
     "output_type": "execute_result"
    }
   ],
   "source": [
    "data = pd.read_excel ('AirQuality.xlsx')\n",
    "df = pd.DataFrame(data, columns=['CO(GT)','PT08.S1(CO)','NMHC(GT)','PT08.S2(NMHC)','NOx(GT)','PT08.S3(NOx)','NO2(GT)','T','RH','AH'])\n",
    "df.shape"
   ]
  },
  {
   "cell_type": "code",
   "execution_count": 63,
   "metadata": {},
   "outputs": [
    {
     "data": {
      "text/plain": [
       "(7674, 10)"
      ]
     },
     "execution_count": 63,
     "metadata": {},
     "output_type": "execute_result"
    }
   ],
   "source": [
    "#Removing the noise from data. In our case, we are assuming the values -200 as noise in column CO(GT)\n",
    "indexNames = df[ df['CO(GT)'] == -200 ].index\n",
    "df.drop(indexNames , inplace=True)\n",
    "df.shape"
   ]
  },
  {
   "cell_type": "code",
   "execution_count": 64,
   "metadata": {},
   "outputs": [],
   "source": [
    "#Removing outliers from the data using z score\n",
    "from scipy import stats\n",
    "z = np.abs(stats.zscore(df))\n",
    "df = df[(z < 3).all(axis=1)]\n",
    "X = pd.DataFrame(df, columns=['PT08.S1(CO)','NMHC(GT)','PT08.S2(NMHC)','NOx(GT)','PT08.S3(NOx)','NO2(GT)','T','RH','AH'])"
   ]
  },
  {
   "cell_type": "code",
   "execution_count": 65,
   "metadata": {},
   "outputs": [
    {
     "name": "stderr",
     "output_type": "stream",
     "text": [
      "C:\\Users\\rmittal5\\AppData\\Local\\Continuum\\anaconda3\\lib\\site-packages\\sklearn\\preprocessing\\data.py:645: DataConversionWarning: Data with input dtype int64, float64 were all converted to float64 by StandardScaler.\n",
      "  return self.partial_fit(X, y)\n",
      "C:\\Users\\rmittal5\\AppData\\Local\\Continuum\\anaconda3\\lib\\site-packages\\sklearn\\base.py:464: DataConversionWarning: Data with input dtype int64, float64 were all converted to float64 by StandardScaler.\n",
      "  return self.fit(X, **fit_params).transform(X)\n"
     ]
    }
   ],
   "source": [
    "# Standardising the data\n",
    "from sklearn.preprocessing import StandardScaler\n",
    "scaler = StandardScaler()\n",
    "X = pd.DataFrame(scaler.fit_transform(X), columns=['PT08.S1(CO)','NMHC(GT)','PT08.S2(NMHC)','NOx(GT)','PT08.S3(NOx)','NO2(GT)','T','RH','AH'])"
   ]
  },
  {
   "cell_type": "code",
   "execution_count": 66,
   "metadata": {},
   "outputs": [],
   "source": [
    "Y = pd.DataFrame(df, columns=['CO(GT)'])"
   ]
  },
  {
   "cell_type": "code",
   "execution_count": 67,
   "metadata": {},
   "outputs": [],
   "source": [
    "X = X.to_numpy()\n",
    "X = np.matrix(X)\n",
    "X = np.c_[np.ones((X.shape[0],1)),X]"
   ]
  },
  {
   "cell_type": "code",
   "execution_count": 68,
   "metadata": {},
   "outputs": [],
   "source": [
    "Y = pd.DataFrame(df, columns=['CO(GT)'])\n",
    "Y = Y.to_numpy()\n",
    "Y = np.matrix(Y)"
   ]
  },
  {
   "cell_type": "code",
   "execution_count": 69,
   "metadata": {},
   "outputs": [],
   "source": [
    "from sklearn.model_selection import train_test_split\n",
    "X_train, X_test, Y_train, Y_test = train_test_split(X,Y, train_size=0.7,test_size=0.3,random_state=100)"
   ]
  },
  {
   "cell_type": "code",
   "execution_count": 70,
   "metadata": {},
   "outputs": [],
   "source": [
    "def compute_mean_square_error(X, y, theta):\n",
    "    #summands = np.power(X * theta.T - y, 2)\n",
    "    #return np.sum(summands) / (2 * len(X))\n",
    "    tobesummed = np.power(((X @ theta.T)-y),2)\n",
    "    return np.sum(tobesummed)/(2 * len(X))"
   ]
  },
  {
   "cell_type": "code",
   "execution_count": 71,
   "metadata": {},
   "outputs": [],
   "source": [
    "def gradient_descent(X, y, learning_rate, num_iterations):\n",
    "    num_parameters = X.shape[1]                                 # dim theta\n",
    "    #theta = np.zeros(1,[X.shape[1]])\n",
    "    theta = np.matrix([0.0 for i in range(num_parameters)])     # init theta\n",
    "    cost = [0.0 for i in range(num_iterations)]\n",
    "    #cost = np.zeros(num_iterations)\n",
    "    for it in range(num_iterations):\n",
    "        error = np.repeat((X * theta.T) - y, num_parameters, axis=1)\n",
    "        error_derivative = np.sum(np.multiply(error, X), axis=0)\n",
    "        theta = theta - (learning_rate / len(y)) * error_derivative\n",
    "        cost[it] = compute_mean_square_error(X, y, theta)\n",
    "    return theta, cost"
   ]
  },
  {
   "cell_type": "code",
   "execution_count": 72,
   "metadata": {},
   "outputs": [],
   "source": [
    "theta, cost = gradient_descent(X_train, Y_train,0.005, 30000)"
   ]
  },
  {
   "cell_type": "code",
   "execution_count": 73,
   "metadata": {},
   "outputs": [],
   "source": [
    "Y_predict_test = X_test* theta.T"
   ]
  },
  {
   "cell_type": "code",
   "execution_count": 74,
   "metadata": {},
   "outputs": [
    {
     "name": "stdout",
     "output_type": "stream",
     "text": [
      "Mean squared error = 0.17\n",
      "Variance score = 0.89\n",
      "The root mean square error of the trained model is  0.2883209052503766\n"
     ]
    }
   ],
   "source": [
    "from sklearn.metrics import mean_squared_error, r2_score\n",
    "import math\n",
    "print(\"Mean squared error = %.2f\" % mean_squared_error(Y_test, Y_predict_test))\n",
    "print('Variance score = %.2f' % r2_score(Y_test, Y_predict_test))\n",
    "rmse = math.sqrt(compute_mean_square_error(X_test, Y_test, theta))\n",
    "print('The root mean square error of the trained model is ',rmse)\n",
    "rse = (rmse**2)*X_test.shape[0]\n",
    "rse/= X_test.shape[0]-2\n",
    "print('The residual standard error of the trained model is',rse)"
   ]
  },
  {
   "cell_type": "code",
   "execution_count": 75,
   "metadata": {},
   "outputs": [
    {
     "name": "stdout",
     "output_type": "stream",
     "text": [
      "The coefficients of the trained model with respect to all features are  [[ 2.04290926  0.2211138  -0.00462795  0.89501681  0.25152008  0.21069535\n",
      "   0.09010353 -0.18820394 -0.07364045  0.10427158]]\n"
     ]
    }
   ],
   "source": [
    "print('The coefficients of the trained model with respect to all features are ', theta) "
   ]
  },
  {
   "cell_type": "code",
   "execution_count": 76,
   "metadata": {},
   "outputs": [
    {
     "name": "stdout",
     "output_type": "stream",
     "text": [
      "The residual standard error of the trained model is 0.08321351098059644\n"
     ]
    }
   ],
   "source": []
  },
  {
   "cell_type": "code",
   "execution_count": 77,
   "metadata": {},
   "outputs": [],
   "source": [
    "Y_predict = X* theta.T\n",
    "Y_pred = pd.DataFrame(Y_predict)"
   ]
  },
  {
   "cell_type": "code",
   "execution_count": 78,
   "metadata": {},
   "outputs": [],
   "source": [
    "Y = pd.DataFrame(Y)"
   ]
  },
  {
   "cell_type": "code",
   "execution_count": 79,
   "metadata": {},
   "outputs": [
    {
     "data": {
      "image/png": "[encoded data removed]",
      "text/plain": [
       "<Figure size 432x288 with 1 Axes>"
      ]
     },
     "metadata": {
      "needs_background": "light"
     },
     "output_type": "display_data"
    }
   ],
   "source": [
    "plt.scatter(Y_pred, Y, color='blue')\n",
    "plt.title('Plot between the Provided values of CO and the predicted values of CO based on the chemical composition')\n",
    "plt.xlabel('Predicted values of CO by the trained model')\n",
    "plt.ylabel('Provided values of CO')\n",
    "plt.show()"
   ]
  },
  {
   "cell_type": "code",
   "execution_count": 80,
   "metadata": {},
   "outputs": [
    {
     "name": "stdout",
     "output_type": "stream",
     "text": [
      "Number of days good for living are 1360\n"
     ]
    }
   ],
   "source": [
    "#We are assuming thet the day is good for living when the CO(GT) has value lower than 1\n",
    "#So, the number of days which can be predicted as good for living as per the data are:\n",
    "indexNames = Y_pred[ Y_pred[0] > 1 ].index\n",
    "Y_pred.drop(indexNames , inplace=True)\n",
    "print('Number of days good for living are', Y_pred.shape[0])"
   ]
  },
  {
   "cell_type": "markdown",
   "metadata": {},
   "source": [
    "### Application of Stochastic gradient descent algorithm to design model which can predict value of CO based on the given features"
   ]
  },
  {
   "cell_type": "code",
   "execution_count": 81,
   "metadata": {},
   "outputs": [
    {
     "name": "stderr",
     "output_type": "stream",
     "text": [
      "C:\\Users\\rmittal5\\AppData\\Local\\Continuum\\anaconda3\\lib\\site-packages\\sklearn\\preprocessing\\data.py:645: DataConversionWarning: Data with input dtype int64, float64 were all converted to float64 by StandardScaler.\n",
      "  return self.partial_fit(X, y)\n",
      "C:\\Users\\rmittal5\\AppData\\Local\\Continuum\\anaconda3\\lib\\site-packages\\sklearn\\base.py:464: DataConversionWarning: Data with input dtype int64, float64 were all converted to float64 by StandardScaler.\n",
      "  return self.fit(X, **fit_params).transform(X)\n"
     ]
    }
   ],
   "source": [
    "X = pd.DataFrame(df, columns=['PT08.S1(CO)','NMHC(GT)','PT08.S2(NMHC)','NOx(GT)','PT08.S3(NOx)','NO2(GT)','T','RH','AH'])\n",
    "from sklearn.preprocessing import StandardScaler\n",
    "scaler = StandardScaler()\n",
    "X = pd.DataFrame(scaler.fit_transform(X), columns=['PT08.S1(CO)','NMHC(GT)','PT08.S2(NMHC)','NOx(GT)','PT08.S3(NOx)','NO2(GT)','T','RH','AH'])"
   ]
  },
  {
   "cell_type": "code",
   "execution_count": 82,
   "metadata": {},
   "outputs": [],
   "source": [
    "from sklearn.preprocessing import StandardScaler\n",
    "scaler = StandardScaler()\n",
    "X = pd.DataFrame(scaler.fit_transform(X), columns=['PT08.S1(CO)','NMHC(GT)','PT08.S2(NMHC)','NOx(GT)','PT08.S3(NOx)','NO2(GT)','T','RH','AH'])"
   ]
  },
  {
   "cell_type": "code",
   "execution_count": 83,
   "metadata": {},
   "outputs": [],
   "source": [
    "Y = pd.DataFrame(df, columns=['CO(GT)'])"
   ]
  },
  {
   "cell_type": "code",
   "execution_count": 84,
   "metadata": {},
   "outputs": [],
   "source": [
    "from sklearn.model_selection import train_test_split\n",
    "X_train, X_test, Y_train, Y_test = train_test_split(X,Y, train_size=0.7,test_size=0.3,random_state=100)"
   ]
  },
  {
   "cell_type": "code",
   "execution_count": 85,
   "metadata": {},
   "outputs": [
    {
     "data": {
      "text/plain": [
       "LinearRegression(copy_X=True, fit_intercept=True, n_jobs=None,\n",
       "         normalize=False)"
      ]
     },
     "execution_count": 85,
     "metadata": {},
     "output_type": "execute_result"
    }
   ],
   "source": [
    "model = LinearRegression()\n",
    "model.fit(X_train, Y_train)"
   ]
  },
  {
   "cell_type": "code",
   "execution_count": 86,
   "metadata": {},
   "outputs": [
    {
     "name": "stdout",
     "output_type": "stream",
     "text": [
      "Coeffecients are:  [[ 0.22116286 -0.00462589  0.89504253  0.2515051   0.21076691  0.09013421\n",
      "  -0.1890094  -0.07422571  0.10494371]]\n",
      "Intercept is:  [2.04290761]\n"
     ]
    }
   ],
   "source": [
    "#Checking coefficients and intercept from the normal equation\n",
    "print('Coeffecients are: ', model.coef_)\n",
    "print('Intercept is: ',model.intercept_)"
   ]
  },
  {
   "cell_type": "code",
   "execution_count": 87,
   "metadata": {},
   "outputs": [
    {
     "name": "stderr",
     "output_type": "stream",
     "text": [
      "C:\\Users\\rmittal5\\AppData\\Local\\Continuum\\anaconda3\\lib\\site-packages\\sklearn\\utils\\validation.py:761: DataConversionWarning: A column-vector y was passed when a 1d array was expected. Please change the shape of y to (n_samples, ), for example using ravel().\n",
      "  y = column_or_1d(y, warn=True)\n"
     ]
    },
    {
     "data": {
      "text/plain": [
       "SGDRegressor(alpha=0.0001, average=False, early_stopping=False, epsilon=0.1,\n",
       "       eta0=0.001, fit_intercept=True, l1_ratio=0.15,\n",
       "       learning_rate='invscaling', loss='squared_loss', max_iter=10000,\n",
       "       n_iter=None, n_iter_no_change=5, penalty='l2', power_t=0.25,\n",
       "       random_state=None, shuffle=True, tol=0.001, validation_fraction=0.1,\n",
       "       verbose=0, warm_start=False)"
      ]
     },
     "execution_count": 87,
     "metadata": {},
     "output_type": "execute_result"
    }
   ],
   "source": [
    "sgd_reg = SGDRegressor(max_iter = 10000, tol = 0.001, eta0 = 1e-3)\n",
    "sgd_reg.fit(X_train,Y_train)"
   ]
  },
  {
   "cell_type": "code",
   "execution_count": 88,
   "metadata": {},
   "outputs": [
    {
     "name": "stdout",
     "output_type": "stream",
     "text": [
      "The coefficients of the trained model with respect to all features are  [ 0.31946773  0.02851964  0.59759027  0.30793798  0.05737168  0.08865794\n",
      " -0.01079663 -0.02727476  0.00820636]\n"
     ]
    }
   ],
   "source": [
    "print('The coefficients of the trained model with respect to all features are ', sgd_reg.coef_)"
   ]
  },
  {
   "cell_type": "code",
   "execution_count": 89,
   "metadata": {},
   "outputs": [
    {
     "name": "stdout",
     "output_type": "stream",
     "text": [
      "The intercept of the trained model is  [2.03880837]\n"
     ]
    }
   ],
   "source": [
    "print('The intercept of the trained model is ', sgd_reg.intercept_)"
   ]
  },
  {
   "cell_type": "code",
   "execution_count": 90,
   "metadata": {},
   "outputs": [
    {
     "name": "stdout",
     "output_type": "stream",
     "text": [
      "The root mean square error of the trained model is  0.4274688009790324\n",
      "The residual standard error of the trained model is 0.18291546551117432\n",
      "The r2 score of the model is  0.878767234595982\n"
     ]
    }
   ],
   "source": [
    "sgd_rmse = math.sqrt(mean_squared_error(sgd_reg.predict(X_test),Y_test))\n",
    "sgd_rse = (sgd_rmse**2)*X_test.shape[0]\n",
    "sgd_rse/= X_test.shape[0]-2\n",
    "print('The root mean square error of the trained model is ',sgd_rmse)\n",
    "print('The residual standard error of the trained model is',sgd_rse)\n",
    "print('The r2 score of the model is ',sgd_reg.score(X_test,Y_test))"
   ]
  },
  {
   "cell_type": "code",
   "execution_count": 91,
   "metadata": {},
   "outputs": [],
   "source": [
    "Y = pd.DataFrame(Y)"
   ]
  },
  {
   "cell_type": "code",
   "execution_count": 92,
   "metadata": {},
   "outputs": [
    {
     "data": {
      "image/png": "[encoded data removed]",
      "text/plain": [
       "<Figure size 432x288 with 1 Axes>"
      ]
     },
     "metadata": {
      "needs_background": "light"
     },
     "output_type": "display_data"
    }
   ],
   "source": [
    "plt.scatter(sgd_reg.predict(X), Y, color='blue')\n",
    "plt.title('Plot between the Provided values of CO and the predicted values of CO based on the chemical composition')\n",
    "plt.xlabel('Predicted values of CO by the trained model')\n",
    "plt.ylabel('Provided values of CO')\n",
    "plt.show()"
   ]
  },
  {
   "cell_type": "code",
   "execution_count": 93,
   "metadata": {},
   "outputs": [
    {
     "name": "stdout",
     "output_type": "stream",
     "text": [
      "Number days good for living are 1295\n"
     ]
    }
   ],
   "source": [
    "#We are assuming thet the day is good for living when the CO(GT) has value lower than 1\n",
    "#So, the number of days which can be predicted as good for living as per the data are:\n",
    "Y_pred = pd.DataFrame(sgd_reg.predict(X))\n",
    "indexNames = Y_pred[Y_pred[0] > 1 ].index\n",
    "Y_pred.drop(indexNames , inplace=True)\n",
    "print('Number days good for living are', Y_pred.shape[0])"
   ]
  },
  {
   "cell_type": "markdown",
   "metadata": {},
   "source": [
    "### Application of Mini Batch gradient descent algorithm to design model which can predict value of CO based on the given features"
   ]
  },
  {
   "cell_type": "code",
   "execution_count": 94,
   "metadata": {},
   "outputs": [],
   "source": [
    "X = pd.DataFrame(df, columns=['PT08.S1(CO)','NMHC(GT)','PT08.S2(NMHC)','NOx(GT)','PT08.S3(NOx)','NO2(GT)','T','RH','AH'])"
   ]
  },
  {
   "cell_type": "code",
   "execution_count": 95,
   "metadata": {},
   "outputs": [
    {
     "name": "stderr",
     "output_type": "stream",
     "text": [
      "C:\\Users\\rmittal5\\AppData\\Local\\Continuum\\anaconda3\\lib\\site-packages\\sklearn\\preprocessing\\data.py:645: DataConversionWarning: Data with input dtype int64, float64 were all converted to float64 by StandardScaler.\n",
      "  return self.partial_fit(X, y)\n",
      "C:\\Users\\rmittal5\\AppData\\Local\\Continuum\\anaconda3\\lib\\site-packages\\sklearn\\base.py:464: DataConversionWarning: Data with input dtype int64, float64 were all converted to float64 by StandardScaler.\n",
      "  return self.fit(X, **fit_params).transform(X)\n"
     ]
    }
   ],
   "source": [
    "# Standardising the data\n",
    "from sklearn.preprocessing import StandardScaler\n",
    "scaler = StandardScaler()\n",
    "X = pd.DataFrame(scaler.fit_transform(X), columns=['PT08.S1(CO)','NMHC(GT)','PT08.S2(NMHC)','NOx(GT)','PT08.S3(NOx)','NO2(GT)','T','RH','AH'])"
   ]
  },
  {
   "cell_type": "code",
   "execution_count": 96,
   "metadata": {},
   "outputs": [],
   "source": [
    "X = X.to_numpy()\n",
    "#X = np.matrix(X)\n",
    "Y = pd.DataFrame(df, columns=['CO(GT)'])\n",
    "Y = Y.to_numpy()"
   ]
  },
  {
   "cell_type": "code",
   "execution_count": 97,
   "metadata": {},
   "outputs": [],
   "source": [
    "# Splitting the data into test and training\n",
    "from sklearn.model_selection import train_test_split\n",
    "X_train, X_test, Y_train, Y_test = train_test_split(X,Y, train_size=0.7,test_size=0.3,random_state=100)"
   ]
  },
  {
   "cell_type": "code",
   "execution_count": 98,
   "metadata": {},
   "outputs": [
    {
     "data": {
      "text/plain": [
       "LinearRegression(copy_X=True, fit_intercept=True, n_jobs=None,\n",
       "         normalize=False)"
      ]
     },
     "execution_count": 98,
     "metadata": {},
     "output_type": "execute_result"
    }
   ],
   "source": [
    "model = LinearRegression()\n",
    "model.fit(X_train, Y_train)"
   ]
  },
  {
   "cell_type": "code",
   "execution_count": 99,
   "metadata": {},
   "outputs": [
    {
     "name": "stdout",
     "output_type": "stream",
     "text": [
      "Coeffecients are:  [[ 0.22116286 -0.00462589  0.89504253  0.2515051   0.21076691  0.09013421\n",
      "  -0.1890094  -0.07422571  0.10494371]]\n",
      "Intercept is:  [2.04290761]\n"
     ]
    }
   ],
   "source": [
    "#Checking coefficients and intercept from the normal equation\n",
    "print('Coeffecients are: ', model.coef_)\n",
    "print('Intercept is: ',model.intercept_)"
   ]
  },
  {
   "cell_type": "code",
   "execution_count": 100,
   "metadata": {},
   "outputs": [],
   "source": [
    "mb_learning_rate = 0.005\n",
    "mb_max_iteration = 30000\n",
    "batch_size = 500"
   ]
  },
  {
   "cell_type": "code",
   "execution_count": 101,
   "metadata": {},
   "outputs": [],
   "source": [
    "theta = np.zeros((X.shape[1]+1, 1))\n",
    "mb_theta = np.zeros((X.shape[1]+1, 1))"
   ]
  },
  {
   "cell_type": "code",
   "execution_count": 102,
   "metadata": {},
   "outputs": [],
   "source": [
    "def h (theta, X) :\n",
    "    tempX = np.ones((X.shape[0], X.shape[1] + 1))\n",
    "    tempX[:,1:] = X\n",
    "    return np.matmul(tempX, theta)"
   ]
  },
  {
   "cell_type": "code",
   "execution_count": 103,
   "metadata": {},
   "outputs": [],
   "source": [
    "def loss (theta, X, Y) :\n",
    "    return np.average(np.square(Y - h(theta, X))) / 2"
   ]
  },
  {
   "cell_type": "code",
   "execution_count": 104,
   "metadata": {},
   "outputs": [],
   "source": [
    "def gradient (theta, X, Y) :\n",
    "    tempX = np.ones((X.shape[0], X.shape[1] + 1))\n",
    "    tempX[:,1:] = X\n",
    "    d_theta = - np.average((Y - h(theta, X)) * tempX, axis= 0)\n",
    "    d_theta = d_theta.reshape((d_theta.shape[0], 1))\n",
    "    return d_theta"
   ]
  },
  {
   "cell_type": "code",
   "execution_count": 105,
   "metadata": {},
   "outputs": [],
   "source": [
    "def minibatch_gradient_descent (theta, X, Y, learning_rate, max_iteration, batch_size) :\n",
    "    cost = np.zeros(max_iteration)\n",
    "    for i in range(max_iteration) :\n",
    "        for j in range(0, X.shape[0], batch_size):\n",
    "            d_theta = gradient (theta, X[j:j+batch_size,:], Y[j:j+batch_size,:])\n",
    "            theta = theta - learning_rate * d_theta\n",
    "    \n",
    "        cost[i] = loss(theta, X, Y)\n",
    "    return theta, cost"
   ]
  },
  {
   "cell_type": "code",
   "execution_count": 106,
   "metadata": {},
   "outputs": [],
   "source": [
    "mb_theta, mb_cost = minibatch_gradient_descent (mb_theta, X_train, Y_train, mb_learning_rate, mb_max_iteration, batch_size)"
   ]
  },
  {
   "cell_type": "code",
   "execution_count": 107,
   "metadata": {},
   "outputs": [
    {
     "name": "stdout",
     "output_type": "stream",
     "text": [
      "The coefficients of the trained model with respect to all features are  [[ 2.03996561]\n",
      " [ 0.23519721]\n",
      " [-0.00729271]\n",
      " [ 0.88643732]\n",
      " [ 0.25734081]\n",
      " [ 0.210531  ]\n",
      " [ 0.08087086]\n",
      " [-0.1761525 ]\n",
      " [-0.06754896]\n",
      " [ 0.09522465]]\n"
     ]
    }
   ],
   "source": [
    "print('The coefficients of the trained model with respect to all features are ', mb_theta)"
   ]
  },
  {
   "cell_type": "code",
   "execution_count": 108,
   "metadata": {},
   "outputs": [],
   "source": [
    "tempX = np.ones((X_test.shape[0], X_test.shape[1] + 1))\n",
    "tempX[:,1:] = X_test\n",
    "Y_predict_test = np.matmul(tempX, mb_theta)\n",
    "Y_pred_test = pd.DataFrame(Y_predict_test)"
   ]
  },
  {
   "cell_type": "code",
   "execution_count": 109,
   "metadata": {},
   "outputs": [
    {
     "name": "stdout",
     "output_type": "stream",
     "text": [
      "Mean squared error = 0.41\n",
      "Variance score = 0.89\n",
      "Residual standard error = 0.17\n"
     ]
    }
   ],
   "source": [
    "from sklearn.metrics import mean_squared_error, r2_score\n",
    "import math\n",
    "mb_rmse = math.sqrt(mean_squared_error(Y_test, Y_pred_test))\n",
    "print(\"Mean squared error = %.2f\" % mb_rmse)\n",
    "print('Variance score = %.2f' % r2_score(Y_test, Y_pred_test))\n",
    "mb_rse = (mb_rmse**2)*X_test.shape[0]\n",
    "mb_rse/= X_test.shape[0]-2\n",
    "print(\"Residual standard error = %.2f\" % mb_rse)\n",
    "#mb_rmse = math.sqrt(loss(mb_theta, X_test, Y_test))\n",
    "#print('The root mean square error of the trained model is ',mb_rmse)"
   ]
  },
  {
   "cell_type": "code",
   "execution_count": 110,
   "metadata": {},
   "outputs": [],
   "source": [
    "temX = np.ones((X.shape[0], X.shape[1] + 1))\n",
    "temX[:,1:] = X\n",
    "Y_predict = np.matmul(temX, mb_theta)\n",
    "Y_pred = pd.DataFrame(Y_predict)"
   ]
  },
  {
   "cell_type": "code",
   "execution_count": 111,
   "metadata": {},
   "outputs": [],
   "source": [
    "Y = pd.DataFrame(Y)"
   ]
  },
  {
   "cell_type": "code",
   "execution_count": 112,
   "metadata": {},
   "outputs": [
    {
     "data": {
      "image/png": "[encoded data removed]",
      "text/plain": [
       "<Figure size 432x288 with 1 Axes>"
      ]
     },
     "metadata": {
      "needs_background": "light"
     },
     "output_type": "display_data"
    }
   ],
   "source": [
    "plt.scatter(Y_pred, Y, color='blue')\n",
    "plt.title('Plot between the Provided values of CO and the predicted values of CO based on the chemical composition')\n",
    "plt.xlabel('Predicted values of CO by the trained model')\n",
    "plt.ylabel('Provided values of CO')\n",
    "plt.show()"
   ]
  },
  {
   "cell_type": "code",
   "execution_count": 113,
   "metadata": {},
   "outputs": [
    {
     "name": "stdout",
     "output_type": "stream",
     "text": [
      "Number of days good for living are 1373\n"
     ]
    }
   ],
   "source": [
    "#We are assuming thet the day is good for living when the CO(GT) has value lower than 1\n",
    "#So, the number of days which can be predicted as good for living as per the data are:\n",
    "indexNames = Y_pred[ Y_pred[0] > 1 ].index\n",
    "Y_pred.drop(indexNames , inplace=True)\n",
    "print('Number of days good for living are', Y_pred.shape[0])"
   ]
  },
  {
   "cell_type": "markdown",
   "metadata": {},
   "source": [
    "## Ans 2.2\n",
    "### Recursive Feature Elimination (RFE) as its name suggests recursively removes features, builds a model using the remaining attributes and calculates model accuracy. RFE is able to work out the combination of attributes that contribute to the prediction on the target variable (or class). "
   ]
  },
  {
   "cell_type": "code",
   "execution_count": 114,
   "metadata": {},
   "outputs": [
    {
     "name": "stdout",
     "output_type": "stream",
     "text": [
      "[ True False  True  True  True False False False False]\n",
      "[1 6 1 1 1 3 2 5 4]\n"
     ]
    },
    {
     "name": "stderr",
     "output_type": "stream",
     "text": [
      "C:\\Users\\rmittal5\\AppData\\Local\\Continuum\\anaconda3\\lib\\site-packages\\sklearn\\preprocessing\\data.py:645: DataConversionWarning: Data with input dtype int64, float64 were all converted to float64 by StandardScaler.\n",
      "  return self.partial_fit(X, y)\n",
      "C:\\Users\\rmittal5\\AppData\\Local\\Continuum\\anaconda3\\lib\\site-packages\\sklearn\\base.py:464: DataConversionWarning: Data with input dtype int64, float64 were all converted to float64 by StandardScaler.\n",
      "  return self.fit(X, **fit_params).transform(X)\n",
      "C:\\Users\\rmittal5\\AppData\\Local\\Continuum\\anaconda3\\lib\\site-packages\\sklearn\\utils\\validation.py:761: DataConversionWarning: A column-vector y was passed when a 1d array was expected. Please change the shape of y to (n_samples, ), for example using ravel().\n",
      "  y = column_or_1d(y, warn=True)\n"
     ]
    }
   ],
   "source": [
    "import pandas as pd\n",
    "import numpy as np\n",
    "import matplotlib\n",
    "import matplotlib.pyplot as plt\n",
    "import seaborn as sns\n",
    "import statsmodels.api as sm\n",
    "%matplotlib inline\n",
    "from sklearn.model_selection import train_test_split\n",
    "from sklearn.linear_model import LinearRegression\n",
    "from sklearn.feature_selection import RFE\n",
    "from sklearn.linear_model import RidgeCV, LassoCV, Ridge, Lasso\n",
    "data = pd.read_excel ('AirQuality.xlsx')\n",
    "df = pd.DataFrame(data, columns=['CO(GT)','PT08.S1(CO)','NMHC(GT)','PT08.S2(NMHC)','NOx(GT)','PT08.S3(NOx)','NO2(GT)','T','RH','AH'])\n",
    "indexNames = df[ df['CO(GT)'] == -200 ].index\n",
    "df.drop(indexNames , inplace=True)\n",
    "from scipy import stats\n",
    "z = np.abs(stats.zscore(df))\n",
    "df = df[(z < 3).all(axis=1)]\n",
    "X = pd.DataFrame(df, columns=['PT08.S1(CO)','NMHC(GT)','PT08.S2(NMHC)','NOx(GT)','PT08.S3(NOx)','NO2(GT)','T','RH','AH'])\n",
    "from sklearn.preprocessing import StandardScaler\n",
    "scaler = StandardScaler()\n",
    "X = pd.DataFrame(scaler.fit_transform(X), columns=['PT08.S1(CO)','NMHC(GT)','PT08.S2(NMHC)','NOx(GT)','PT08.S3(NOx)','NO2(GT)','T','RH','AH'])\n",
    "Y = pd.DataFrame(df, columns=['CO(GT)'])\n",
    "model = LinearRegression()\n",
    "#Initializing RFE model\n",
    "rfe = RFE(model, 4)\n",
    "#Transforming data using RFE\n",
    "X_rfe = rfe.fit_transform(X,Y)  \n",
    "#Fitting the data to model\n",
    "model.fit(X_rfe,Y)\n",
    "print(rfe.support_)\n",
    "print(rfe.ranking_)\n"
   ]
  },
  {
   "cell_type": "code",
   "execution_count": 115,
   "metadata": {},
   "outputs": [
    {
     "name": "stdout",
     "output_type": "stream",
     "text": [
      "The best attributes which can suggest good air quality are:  PT08.S1(CO) PT08.S2(NMHC) NOx(GT) PT08.S3(NOx)\n"
     ]
    }
   ],
   "source": [
    "print('The best attributes which can suggest good air quality are: ',X.columns[0], X.columns[2],X.columns[3],X.columns[4])"
   ]
  },
  {
   "cell_type": "markdown",
   "metadata": {},
   "source": [
    "### Using Recursive Feature Elimination (RFE), the best attributes which can suggest good air quality are : PT08.S1(CO),  PT08.S2(NMHC), NOx(GT) and PT08.S3(NOx)"
   ]
  },
  {
   "cell_type": "markdown",
   "metadata": {},
   "source": [
    "## Ans 2.3: \n",
    "### The approach of gradient descent seem to be appropriate in this case study. The execution time of the stochastic gradient descent was lesser but the accuracy of the gradient descent was better. The mini batch gradient descent took more time. \n",
    "### The residual standard error of the trained model with Gradient descent is 0.0.08321351098059644\n",
    "### The variance of the trained model with Gradient descent is 0.89\n",
    "### The residual standard error of the trained model with Stochastic gradient descent is  0.18291546551117432\n",
    "### The variance of the trained model with Stochastic gradient descent is 0.878767234595982\n",
    "### The residual standard error of the trained model with mini batch gradient descent is  0.17\n",
    "### The variance of the trained model with  mini batch gradient descent is 0.89\n",
    "### As we can see, the least Residual standard error is of Gradient descent and also the variance is nearest to 1 for gradient descent.\n",
    "### Based on the above facts, I found the Gradient descent algorithm the best approach in this particular case study.\n"
   ]
  },
  {
   "cell_type": "code",
   "execution_count": null,
   "metadata": {},
   "outputs": [],
   "source": []
  },
  {
   "cell_type": "code",
   "execution_count": null,
   "metadata": {},
   "outputs": [],
   "source": []
  }
 ],
 "metadata": {
  "kernelspec": {
   "display_name": "Python 3",
   "language": "python",
   "name": "python3"
  },
  "language_info": {
   "codemirror_mode": {
    "name": "ipython",
    "version": 3
   },
   "file_extension": ".py",
   "mimetype": "text/x-python",
   "name": "python",
   "nbconvert_exporter": "python",
   "pygments_lexer": "ipython3",
   "version": "3.7.3"
  }
 },
 "nbformat": 4,
 "nbformat_minor": 2
}
