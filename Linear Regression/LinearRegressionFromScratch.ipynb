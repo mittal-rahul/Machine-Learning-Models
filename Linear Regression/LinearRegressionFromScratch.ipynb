{
 "cells": [
  {
   "cell_type": "markdown",
   "metadata": {},
   "source": [
    "# Answer 1"
   ]
  },
  {
   "cell_type": "raw",
   "metadata": {},
   "source": [
    "Error function is =  1/2{sum(square[(theta0 + theta1 * x) - y])}\n",
    "\n",
    "The partial derrivative of error function with respect to model parameters theta0 and theta1:\n",
    "A:   N * theta0 + (sum(x)) * theta1 - sum (y)\n",
    "B:    (sum(x))*theta0 + (sum(x**2))* theta1 - sum(x*y)\n",
    "\n",
    "FOr stationary points or minima, the first derrivative should be equal to 0.\n",
    "On equating A and B to zero, we get two linear equations in terms of theta0 and theta 1  as below:\n",
    "\n",
    "1) N * theta0 + (sum(x)) * theta1 = sum (y)\n",
    "2) (sum(x))*theta0 + (sum(x**2))* theta1 = sum(x*y)\n",
    "\n",
    "Here, N is the length of data set x. \n",
    "Solving the above two equations to get the model parameters theta0 and theta1 in python as below\n"
   ]
  },
  {
   "cell_type": "code",
   "execution_count": 6,
   "metadata": {},
   "outputs": [
    {
     "name": "stdout",
     "output_type": "stream",
     "text": [
      "[57.55722222] [-2.01266667]\n"
     ]
    }
   ],
   "source": [
    "import numpy as np\n",
    "import matplotlib.pyplot as mat\n",
    "\n",
    "x = np.array([0.5,1,1.5,2,2.5,3,3.5,4,4.5])\n",
    "y = np.array([79.4, 46.33,44.43,44.85,48.54,49.64,52.44,53,54.1])\n",
    "\n",
    "N = len(x)\n",
    "sum_x = sum(x)\n",
    "sum_y = sum(y)\n",
    "sum_x_square = sum(np.square(x))\n",
    "sum_xy = sum(x * y)\n",
    "\n",
    "A =np.array([[N,sum_x], [sum_x, sum_x_square]])\n",
    "\n",
    "B = np.array([[sum_y], [sum_xy]])\n",
    "\n",
    "parms = np.linalg.solve(A,B)\n",
    "\n",
    "theta0 = parms[0]\n",
    "theta1 = parms[1]\n",
    "print (theta0, theta1)"
   ]
  },
  {
   "cell_type": "code",
   "execution_count": 7,
   "metadata": {},
   "outputs": [
    {
     "name": "stdout",
     "output_type": "stream",
     "text": [
      "[56.55088889 55.54455556 54.53822222 53.53188889 52.52555556 51.51922222\n",
      " 50.51288889 49.50655556 48.50022222]\n"
     ]
    }
   ],
   "source": [
    "#predictions of y as per the linear regression model with model parameters as theta0 and theta1\n",
    "y_predict = theta0 + theta1 * x\n",
    "print (y_predict)"
   ]
  },
  {
   "cell_type": "code",
   "execution_count": 8,
   "metadata": {},
   "outputs": [
    {
     "data": {
      "image/png": "[encoded data removed]",
      "text/plain": [
       "<Figure size 432x288 with 1 Axes>"
      ]
     },
     "metadata": {
      "needs_background": "light"
     },
     "output_type": "display_data"
    }
   ],
   "source": [
    "mat.scatter(x,y,color = 'red')\n",
    "mat.title('drill depth vs min pressure')\n",
    "mat.xlabel('drill depth')\n",
    "mat.ylabel('minimum pressure')\n",
    "mat.plot(x,y_predict,linewidth=2)\n",
    "mat.show()"
   ]
  },
  {
   "cell_type": "code",
   "execution_count": 9,
   "metadata": {},
   "outputs": [
    {
     "name": "stdout",
     "output_type": "stream",
     "text": [
      "[49.90908889] Mpa\n"
     ]
    }
   ],
   "source": [
    "#Minimum pressure at 3.8mm depth will be predicted as \n",
    "min_pressure = theta0 + theta1 * 3.8\n",
    "print (min_pressure, 'Mpa')"
   ]
  },
  {
   "cell_type": "code",
   "execution_count": null,
   "metadata": {},
   "outputs": [],
   "source": []
  }
 ],
 "metadata": {
  "kernelspec": {
   "display_name": "Python 3",
   "language": "python",
   "name": "python3"
  },
  "language_info": {
   "codemirror_mode": {
    "name": "ipython",
    "version": 3
   },
   "file_extension": ".py",
   "mimetype": "text/x-python",
   "name": "python",
   "nbconvert_exporter": "python",
   "pygments_lexer": "ipython3",
   "version": "3.7.3"
  }
 },
 "nbformat": 4,
 "nbformat_minor": 2
}
